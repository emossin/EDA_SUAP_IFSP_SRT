{
 "cells": [
  {
   "cell_type": "markdown",
   "metadata": {
    "id": "TX2l4KP0deHU",
    "tags": []
   },
   "source": [
    "# Dados Campus Sertãozinho\n"
   ]
  },
  {
   "cell_type": "code",
   "execution_count": 122,
   "metadata": {
    "id": "LrbM8jfof2-7",
    "tags": []
   },
   "outputs": [],
   "source": [
    "import pandas as pd\n",
    "import numpy as np\n",
    "import seaborn as sns\n",
    "import matplotlib.pyplot as plt\n",
    "import plotly.express as px\n",
    "%matplotlib inline\n",
    "import matplotlib.pyplot as plt\n",
    "import pandas as pd\n",
    "import seaborn as sns\n",
    "import nltk\n",
    "from nltk.corpus import stopwords\n",
    "from nltk.tokenize import RegexpTokenizer\n",
    "from sklearn.model_selection import train_test_split\n",
    "from sklearn.neural_network import MLPClassifier\n",
    "from sklearn.metrics import classification_report,confusion_matrix"
   ]
  },
  {
   "cell_type": "code",
   "execution_count": 123,
   "metadata": {
    "id": "kOi4QDPof-cX",
    "tags": []
   },
   "outputs": [],
   "source": [
    "dados = pd.read_csv('Relatorio_novo_1.CSV')"
   ]
  },
  {
   "cell_type": "code",
   "execution_count": 230,
   "metadata": {
    "tags": []
   },
   "outputs": [],
   "source": [
    "dados = dados.drop([\"Matrícula\"],axis = 1)"
   ]
  },
  {
   "cell_type": "code",
   "execution_count": 124,
   "metadata": {
    "tags": []
   },
   "outputs": [],
   "source": [
    "dados = dados.loc[dados['Modalidade'] != \"FIC\"]"
   ]
  },
  {
   "cell_type": "code",
   "execution_count": 125,
   "metadata": {
    "tags": []
   },
   "outputs": [],
   "source": [
    "dados_Ele = dados.loc[dados['Descrição do Curso'] == \"BACHARELADO EM ENGENHARIA ELÉTRICA\"]"
   ]
  },
  {
   "cell_type": "code",
   "execution_count": 126,
   "metadata": {
    "tags": []
   },
   "outputs": [
    {
     "data": {
      "text/plain": [
       "Técnico Integrado                   1569\n",
       "Licenciatura                        1413\n",
       "Tecnologia                          1251\n",
       "Técnico Concomitante/Subsequente    1061\n",
       "Bacharelado                          875\n",
       "Técnico Integrado EJA                821\n",
       "Mestrado                             383\n",
       "Técnico Subsequente                   97\n",
       "Name: Modalidade, dtype: int64"
      ]
     },
     "execution_count": 126,
     "metadata": {},
     "output_type": "execute_result"
    }
   ],
   "source": [
    "dados['Modalidade'].value_counts()"
   ]
  },
  {
   "cell_type": "code",
   "execution_count": 192,
   "metadata": {
    "tags": []
   },
   "outputs": [
    {
     "data": {
      "text/plain": [
       "Matriculado                        335\n",
       "Evasão                             191\n",
       "Cancelado                          164\n",
       "Formado                            144\n",
       "Matrícula Vínculo Institucional     20\n",
       "Transferido Interno                  8\n",
       "Trancado Voluntariamente             6\n",
       "Transferido Externo                  5\n",
       "Cancelamento Compulsório             1\n",
       "Trancado                             1\n",
       "Name: Situação no Curso, dtype: int64"
      ]
     },
     "execution_count": 192,
     "metadata": {},
     "output_type": "execute_result"
    }
   ],
   "source": [
    "dados['Situação no Curso'].value_counts()"
   ]
  },
  {
   "cell_type": "code",
   "execution_count": 127,
   "metadata": {
    "tags": []
   },
   "outputs": [
    {
     "data": {
      "text/html": [
       "<div>\n",
       "<style scoped>\n",
       "    .dataframe tbody tr th:only-of-type {\n",
       "        vertical-align: middle;\n",
       "    }\n",
       "\n",
       "    .dataframe tbody tr th {\n",
       "        vertical-align: top;\n",
       "    }\n",
       "\n",
       "    .dataframe thead th {\n",
       "        text-align: right;\n",
       "    }\n",
       "</style>\n",
       "<table border=\"1\" class=\"dataframe\">\n",
       "  <thead>\n",
       "    <tr style=\"text-align: right;\">\n",
       "      <th></th>\n",
       "      <th>#</th>\n",
       "      <th>Matrícula</th>\n",
       "      <th>Ano de Ingresso</th>\n",
       "      <th>Deficiência</th>\n",
       "      <th>Descrição do Curso</th>\n",
       "      <th>Estado</th>\n",
       "      <th>Etnia/Raça/Cor</th>\n",
       "      <th>Forma de Ingresso</th>\n",
       "      <th>Modalidade</th>\n",
       "      <th>Nacionalidade</th>\n",
       "      <th>Renda Per Capita</th>\n",
       "      <th>Sexo</th>\n",
       "      <th>Situação no Curso</th>\n",
       "      <th>Tipo de Escola de Origem</th>\n",
       "    </tr>\n",
       "  </thead>\n",
       "  <tbody>\n",
       "    <tr>\n",
       "      <th>7</th>\n",
       "      <td>8</td>\n",
       "      <td>ST3059561</td>\n",
       "      <td>2023</td>\n",
       "      <td>Sem Necessidade Especial</td>\n",
       "      <td>BACHARELADO EM ENGENHARIA ELÉTRICA</td>\n",
       "      <td>SP</td>\n",
       "      <td>Branca</td>\n",
       "      <td>SiSU L5 (SGC L3) NaN Candidatos que, independe...</td>\n",
       "      <td>Bacharelado</td>\n",
       "      <td>Brasileira</td>\n",
       "      <td>3,28</td>\n",
       "      <td>M</td>\n",
       "      <td>Matriculado</td>\n",
       "      <td>Pública</td>\n",
       "    </tr>\n",
       "    <tr>\n",
       "      <th>97</th>\n",
       "      <td>98</td>\n",
       "      <td>ST3059677</td>\n",
       "      <td>2023</td>\n",
       "      <td>Sem Necessidade Especial</td>\n",
       "      <td>BACHARELADO EM ENGENHARIA ELÉTRICA</td>\n",
       "      <td>MG</td>\n",
       "      <td>Branca</td>\n",
       "      <td>SiSU L1 (SGC L1) NaN Candidatos com renda fami...</td>\n",
       "      <td>Bacharelado</td>\n",
       "      <td>Brasileira</td>\n",
       "      <td>0</td>\n",
       "      <td>M</td>\n",
       "      <td>Matriculado</td>\n",
       "      <td>Pública</td>\n",
       "    </tr>\n",
       "    <tr>\n",
       "      <th>101</th>\n",
       "      <td>102</td>\n",
       "      <td>ST1713566</td>\n",
       "      <td>2017</td>\n",
       "      <td>Sem Necessidade Especial</td>\n",
       "      <td>BACHARELADO EM ENGENHARIA MECÂNICA</td>\n",
       "      <td>SP</td>\n",
       "      <td>Parda</td>\n",
       "      <td>SiSU L1 (SGC L1) NaN Candidatos com renda fami...</td>\n",
       "      <td>Bacharelado</td>\n",
       "      <td>Brasileira</td>\n",
       "      <td>0,98</td>\n",
       "      <td>M</td>\n",
       "      <td>Evasão</td>\n",
       "      <td>Pública</td>\n",
       "    </tr>\n",
       "    <tr>\n",
       "      <th>106</th>\n",
       "      <td>107</td>\n",
       "      <td>ST3064832</td>\n",
       "      <td>2023</td>\n",
       "      <td>Sem Necessidade Especial</td>\n",
       "      <td>BACHARELADO EM ENGENHARIA ELÉTRICA</td>\n",
       "      <td>SP</td>\n",
       "      <td>Parda</td>\n",
       "      <td>SiSU L2 (SGC L2) NaN Candidatos autodeclarados...</td>\n",
       "      <td>Bacharelado</td>\n",
       "      <td>Brasileira</td>\n",
       "      <td>0,62</td>\n",
       "      <td>M</td>\n",
       "      <td>Matriculado</td>\n",
       "      <td>Pública</td>\n",
       "    </tr>\n",
       "    <tr>\n",
       "      <th>116</th>\n",
       "      <td>117</td>\n",
       "      <td>ST1613294</td>\n",
       "      <td>2016</td>\n",
       "      <td>Sem Necessidade Especial</td>\n",
       "      <td>BACHARELADO EM ENGENHARIA MECÂNICA</td>\n",
       "      <td>SP</td>\n",
       "      <td>Parda</td>\n",
       "      <td>Matrícula Direta (Inativa)</td>\n",
       "      <td>Bacharelado</td>\n",
       "      <td>Brasileira</td>\n",
       "      <td>NaN</td>\n",
       "      <td>M</td>\n",
       "      <td>Evasão</td>\n",
       "      <td>Pública</td>\n",
       "    </tr>\n",
       "    <tr>\n",
       "      <th>...</th>\n",
       "      <td>...</td>\n",
       "      <td>...</td>\n",
       "      <td>...</td>\n",
       "      <td>...</td>\n",
       "      <td>...</td>\n",
       "      <td>...</td>\n",
       "      <td>...</td>\n",
       "      <td>...</td>\n",
       "      <td>...</td>\n",
       "      <td>...</td>\n",
       "      <td>...</td>\n",
       "      <td>...</td>\n",
       "      <td>...</td>\n",
       "      <td>...</td>\n",
       "    </tr>\n",
       "    <tr>\n",
       "      <th>11880</th>\n",
       "      <td>11881</td>\n",
       "      <td>ST3026507</td>\n",
       "      <td>2021</td>\n",
       "      <td>Sem Necessidade Especial</td>\n",
       "      <td>BACHARELADO EM ENGENHARIA ELÉTRICA</td>\n",
       "      <td>SP</td>\n",
       "      <td>Parda</td>\n",
       "      <td>SiSU L2 (SGC L2) NaN Candidatos autodeclarados...</td>\n",
       "      <td>Bacharelado</td>\n",
       "      <td>Brasileira</td>\n",
       "      <td>0</td>\n",
       "      <td>F</td>\n",
       "      <td>Matriculado</td>\n",
       "      <td>Pública</td>\n",
       "    </tr>\n",
       "    <tr>\n",
       "      <th>11899</th>\n",
       "      <td>11900</td>\n",
       "      <td>ST1413562</td>\n",
       "      <td>2014</td>\n",
       "      <td>Sem Necessidade Especial</td>\n",
       "      <td>BACHARELADO EM ENGENHARIA MECÂNICA</td>\n",
       "      <td>SP</td>\n",
       "      <td>Não declarado</td>\n",
       "      <td>Seleção Geral Graduação (SiSU) (Inativa)</td>\n",
       "      <td>Bacharelado</td>\n",
       "      <td>Brasileira</td>\n",
       "      <td>NaN</td>\n",
       "      <td>M</td>\n",
       "      <td>Evasão</td>\n",
       "      <td>Pública</td>\n",
       "    </tr>\n",
       "    <tr>\n",
       "      <th>11906</th>\n",
       "      <td>11907</td>\n",
       "      <td>ST3004031</td>\n",
       "      <td>2019</td>\n",
       "      <td>Sem Necessidade Especial</td>\n",
       "      <td>BACHARELADO EM ENGENHARIA MECÂNICA</td>\n",
       "      <td>SP</td>\n",
       "      <td>Amarela</td>\n",
       "      <td>Ampla Concorrência SISU</td>\n",
       "      <td>Bacharelado</td>\n",
       "      <td>Brasileira</td>\n",
       "      <td>NaN</td>\n",
       "      <td>M</td>\n",
       "      <td>Matriculado</td>\n",
       "      <td>Pública</td>\n",
       "    </tr>\n",
       "    <tr>\n",
       "      <th>11910</th>\n",
       "      <td>11911</td>\n",
       "      <td>ST3012794</td>\n",
       "      <td>2020</td>\n",
       "      <td>Sem Necessidade Especial</td>\n",
       "      <td>BACHARELADO EM ENGENHARIA ELÉTRICA</td>\n",
       "      <td>SP</td>\n",
       "      <td>Não declarado</td>\n",
       "      <td>Ampla Concorrência SISU</td>\n",
       "      <td>Bacharelado</td>\n",
       "      <td>Brasileira</td>\n",
       "      <td>2,51</td>\n",
       "      <td>M</td>\n",
       "      <td>Matriculado</td>\n",
       "      <td>Privada</td>\n",
       "    </tr>\n",
       "    <tr>\n",
       "      <th>11916</th>\n",
       "      <td>11917</td>\n",
       "      <td>ST3006085</td>\n",
       "      <td>2019</td>\n",
       "      <td>Sem Necessidade Especial</td>\n",
       "      <td>BACHARELADO EM ENGENHARIA MECÂNICA</td>\n",
       "      <td>SP</td>\n",
       "      <td>Branca</td>\n",
       "      <td>Ampla Concorrência SISU</td>\n",
       "      <td>Bacharelado</td>\n",
       "      <td>Brasileira</td>\n",
       "      <td>NaN</td>\n",
       "      <td>M</td>\n",
       "      <td>Cancelado</td>\n",
       "      <td>Privada</td>\n",
       "    </tr>\n",
       "  </tbody>\n",
       "</table>\n",
       "<p>875 rows × 14 columns</p>\n",
       "</div>"
      ],
      "text/plain": [
       "           #  Matrícula  Ano de Ingresso               Deficiência  \\\n",
       "7          8  ST3059561             2023  Sem Necessidade Especial   \n",
       "97        98  ST3059677             2023  Sem Necessidade Especial   \n",
       "101      102  ST1713566             2017  Sem Necessidade Especial   \n",
       "106      107  ST3064832             2023  Sem Necessidade Especial   \n",
       "116      117  ST1613294             2016  Sem Necessidade Especial   \n",
       "...      ...        ...              ...                       ...   \n",
       "11880  11881  ST3026507             2021  Sem Necessidade Especial   \n",
       "11899  11900  ST1413562             2014  Sem Necessidade Especial   \n",
       "11906  11907  ST3004031             2019  Sem Necessidade Especial   \n",
       "11910  11911  ST3012794             2020  Sem Necessidade Especial   \n",
       "11916  11917  ST3006085             2019  Sem Necessidade Especial   \n",
       "\n",
       "                       Descrição do Curso Estado Etnia/Raça/Cor  \\\n",
       "7      BACHARELADO EM ENGENHARIA ELÉTRICA     SP         Branca   \n",
       "97     BACHARELADO EM ENGENHARIA ELÉTRICA     MG         Branca   \n",
       "101    BACHARELADO EM ENGENHARIA MECÂNICA     SP          Parda   \n",
       "106    BACHARELADO EM ENGENHARIA ELÉTRICA     SP          Parda   \n",
       "116    BACHARELADO EM ENGENHARIA MECÂNICA     SP          Parda   \n",
       "...                                   ...    ...            ...   \n",
       "11880  BACHARELADO EM ENGENHARIA ELÉTRICA     SP          Parda   \n",
       "11899  BACHARELADO EM ENGENHARIA MECÂNICA     SP  Não declarado   \n",
       "11906  BACHARELADO EM ENGENHARIA MECÂNICA     SP        Amarela   \n",
       "11910  BACHARELADO EM ENGENHARIA ELÉTRICA     SP  Não declarado   \n",
       "11916  BACHARELADO EM ENGENHARIA MECÂNICA     SP         Branca   \n",
       "\n",
       "                                       Forma de Ingresso   Modalidade  \\\n",
       "7      SiSU L5 (SGC L3) NaN Candidatos que, independe...  Bacharelado   \n",
       "97     SiSU L1 (SGC L1) NaN Candidatos com renda fami...  Bacharelado   \n",
       "101    SiSU L1 (SGC L1) NaN Candidatos com renda fami...  Bacharelado   \n",
       "106    SiSU L2 (SGC L2) NaN Candidatos autodeclarados...  Bacharelado   \n",
       "116                           Matrícula Direta (Inativa)  Bacharelado   \n",
       "...                                                  ...          ...   \n",
       "11880  SiSU L2 (SGC L2) NaN Candidatos autodeclarados...  Bacharelado   \n",
       "11899           Seleção Geral Graduação (SiSU) (Inativa)  Bacharelado   \n",
       "11906                            Ampla Concorrência SISU  Bacharelado   \n",
       "11910                            Ampla Concorrência SISU  Bacharelado   \n",
       "11916                            Ampla Concorrência SISU  Bacharelado   \n",
       "\n",
       "      Nacionalidade Renda Per Capita Sexo Situação no Curso  \\\n",
       "7        Brasileira             3,28    M       Matriculado   \n",
       "97       Brasileira                0    M       Matriculado   \n",
       "101      Brasileira             0,98    M            Evasão   \n",
       "106      Brasileira             0,62    M       Matriculado   \n",
       "116      Brasileira              NaN    M            Evasão   \n",
       "...             ...              ...  ...               ...   \n",
       "11880    Brasileira                0    F       Matriculado   \n",
       "11899    Brasileira              NaN    M            Evasão   \n",
       "11906    Brasileira              NaN    M       Matriculado   \n",
       "11910    Brasileira             2,51    M       Matriculado   \n",
       "11916    Brasileira              NaN    M         Cancelado   \n",
       "\n",
       "      Tipo de Escola de Origem  \n",
       "7                      Pública  \n",
       "97                     Pública  \n",
       "101                    Pública  \n",
       "106                    Pública  \n",
       "116                    Pública  \n",
       "...                        ...  \n",
       "11880                  Pública  \n",
       "11899                  Pública  \n",
       "11906                  Pública  \n",
       "11910                  Privada  \n",
       "11916                  Privada  \n",
       "\n",
       "[875 rows x 14 columns]"
      ]
     },
     "execution_count": 127,
     "metadata": {},
     "output_type": "execute_result"
    }
   ],
   "source": [
    "dados = dados.loc[dados['Modalidade']=='Bacharelado']\n",
    "dados"
   ]
  },
  {
   "cell_type": "markdown",
   "metadata": {
    "id": "9S5Px92fp5AA",
    "tags": []
   },
   "source": [
    "# Filtros"
   ]
  },
  {
   "cell_type": "code",
   "execution_count": 129,
   "metadata": {
    "tags": []
   },
   "outputs": [],
   "source": [
    "dados = dados.drop([\"Renda Per Capita\"],axis = 1)"
   ]
  },
  {
   "cell_type": "markdown",
   "metadata": {
    "id": "Gqna3XyVev00",
    "tags": []
   },
   "source": [
    "# Número de alunos"
   ]
  },
  {
   "cell_type": "code",
   "execution_count": 130,
   "metadata": {
    "colab": {
     "base_uri": "https://localhost:8080/"
    },
    "id": "S7uD6ZCLezxF",
    "outputId": "f5171256-1322-4800-cbdd-81bb79223dab",
    "tags": []
   },
   "outputs": [
    {
     "name": "stdout",
     "output_type": "stream",
     "text": [
      "Requirement already satisfied: matplotlib in c:\\users\\user\\anaconda3\\anaconda\\lib\\site-packages (3.7.1)Note: you may need to restart the kernel to use updated packages.\n",
      "\n",
      "Requirement already satisfied: contourpy>=1.0.1 in c:\\users\\user\\anaconda3\\anaconda\\lib\\site-packages (from matplotlib) (1.0.5)\n",
      "Requirement already satisfied: cycler>=0.10 in c:\\users\\user\\anaconda3\\anaconda\\lib\\site-packages (from matplotlib) (0.11.0)\n",
      "Requirement already satisfied: fonttools>=4.22.0 in c:\\users\\user\\anaconda3\\anaconda\\lib\\site-packages (from matplotlib) (4.25.0)\n",
      "Requirement already satisfied: kiwisolver>=1.0.1 in c:\\users\\user\\anaconda3\\anaconda\\lib\\site-packages (from matplotlib) (1.4.4)\n",
      "Requirement already satisfied: numpy>=1.20 in c:\\users\\user\\anaconda3\\anaconda\\lib\\site-packages (from matplotlib) (1.24.3)\n",
      "Requirement already satisfied: packaging>=20.0 in c:\\users\\user\\anaconda3\\anaconda\\lib\\site-packages (from matplotlib) (23.0)\n",
      "Requirement already satisfied: pillow>=6.2.0 in c:\\users\\user\\anaconda3\\anaconda\\lib\\site-packages (from matplotlib) (9.4.0)\n",
      "Requirement already satisfied: pyparsing>=2.3.1 in c:\\users\\user\\anaconda3\\anaconda\\lib\\site-packages (from matplotlib) (3.0.9)\n",
      "Requirement already satisfied: python-dateutil>=2.7 in c:\\users\\user\\anaconda3\\anaconda\\lib\\site-packages (from matplotlib) (2.8.2)\n",
      "Requirement already satisfied: six>=1.5 in c:\\users\\user\\anaconda3\\anaconda\\lib\\site-packages (from python-dateutil>=2.7->matplotlib) (1.16.0)\n"
     ]
    }
   ],
   "source": [
    "pip install matplotlib"
   ]
  },
  {
   "cell_type": "code",
   "execution_count": 131,
   "metadata": {
    "id": "7SEYxZXHgNeJ",
    "tags": []
   },
   "outputs": [],
   "source": [
    "import matplotlib.pyplot as plt"
   ]
  },
  {
   "cell_type": "code",
   "execution_count": 132,
   "metadata": {
    "colab": {
     "base_uri": "https://localhost:8080/"
    },
    "id": "y8sRxI86d1PR",
    "outputId": "b1965e4d-c161-4aa4-b45f-1aef9c371524",
    "tags": []
   },
   "outputs": [
    {
     "data": {
      "text/plain": [
       "2017    115\n",
       "2019     95\n",
       "2018     94\n",
       "2020     90\n",
       "2022     85\n",
       "2021     83\n",
       "2023     80\n",
       "2016     68\n",
       "2013     56\n",
       "2015     55\n",
       "2014     54\n",
       "Name: Ano de Ingresso, dtype: int64"
      ]
     },
     "execution_count": 132,
     "metadata": {},
     "output_type": "execute_result"
    }
   ],
   "source": [
    "dados['Ano de Ingresso'].value_counts()\n"
   ]
  },
  {
   "cell_type": "code",
   "execution_count": 133,
   "metadata": {
    "tags": []
   },
   "outputs": [
    {
     "data": {
      "text/plain": [
       "BACHARELADO EM ENGENHARIA MECÂNICA    562\n",
       "BACHARELADO EM ENGENHARIA ELÉTRICA    313\n",
       "Name: Descrição do Curso, dtype: int64"
      ]
     },
     "execution_count": 133,
     "metadata": {},
     "output_type": "execute_result"
    }
   ],
   "source": [
    "dados['Descrição do Curso'].value_counts()\n"
   ]
  },
  {
   "cell_type": "code",
   "execution_count": 134,
   "metadata": {
    "tags": []
   },
   "outputs": [
    {
     "data": {
      "text/plain": [
       "Bacharelado    875\n",
       "Name: Modalidade, dtype: int64"
      ]
     },
     "execution_count": 134,
     "metadata": {},
     "output_type": "execute_result"
    }
   ],
   "source": [
    "dados['Modalidade'].value_counts()"
   ]
  },
  {
   "cell_type": "code",
   "execution_count": 198,
   "metadata": {
    "colab": {
     "base_uri": "https://localhost:8080/",
     "height": 430
    },
    "id": "ANHyg4C6gQ_1",
    "outputId": "8eacbab6-912d-418c-80bc-8caef00f8ad2",
    "tags": []
   },
   "outputs": [
    {
     "data": {
      "image/png": "[encoded data removed]",
      "text/plain": [
       "<Figure size 640x480 with 1 Axes>"
      ]
     },
     "metadata": {},
     "output_type": "display_data"
    }
   ],
   "source": [
    "# Para começar a análise dos dados foi relevante enxergar o número de alunos dos cursos de bacharelado no campus Sertãozinho com o decorrer dos anos.\n",
    "sns.countplot(x = dados['Ano de Ingresso'])\n",
    "plt.xlabel('Valores')\n",
    "plt.ylabel('Frequência')\n",
    "plt.rcParams['xtick.labelsize'] = 8\n",
    "plt.rcParams['ytick.labelsize'] = 10"
   ]
  },
  {
   "cell_type": "code",
   "execution_count": 201,
   "metadata": {
    "tags": []
   },
   "outputs": [
    {
     "data": {
      "image/png": "[encoded data removed]",
      "text/plain": [
       "<Figure size 640x480 with 1 Axes>"
      ]
     },
     "metadata": {},
     "output_type": "display_data"
    }
   ],
   "source": [
    "# Para começar a análise dos dados foi relevante enxergar o número de alunos dos cursos de bacharelado no campus Sertãozinho com o decorrer dos anos.\n",
    "sns.countplot(x = dados_Ele['Ano de Ingresso'])\n",
    "plt.xlabel('Valores')\n",
    "plt.ylabel('Frequência')\n",
    "plt.rcParams['xtick.labelsize'] = 8\n",
    "plt.rcParams['ytick.labelsize'] = 10"
   ]
  },
  {
   "cell_type": "markdown",
   "metadata": {
    "id": "-8ogska2dkp4",
    "tags": []
   },
   "source": [
    "# Raça"
   ]
  },
  {
   "cell_type": "code",
   "execution_count": 137,
   "metadata": {
    "colab": {
     "base_uri": "https://localhost:8080/",
     "height": 459
    },
    "id": "r1M1GZT80Mgf",
    "outputId": "bd0a3aa1-e487-4b9a-aea6-97d9a99e2b62",
    "tags": []
   },
   "outputs": [
    {
     "data": {
      "image/png": "[encoded data removed]",
      "text/plain": [
       "<Figure size 640x480 with 1 Axes>"
      ]
     },
     "metadata": {},
     "output_type": "display_data"
    }
   ],
   "source": [
    "# A primeira informação buscada na análise foi relacionada com raça/etnia/cor, no primeiro gráfico\n",
    "# é possível observar a quantidade de alunos de cada raça/etnia/cor e também os que não declararam no campus Sertãozinho. \n",
    "# Podemos perceber graficamente que o número de brancos é alto em comparação com o restante.\n",
    "sns.countplot(x = dados['Etnia/Raça/Cor'])\n",
    "plt.xlabel('Valores')\n",
    "plt.ylabel('Frequência')\n",
    "plt.rcParams['xtick.labelsize'] = 10\n",
    "plt.rcParams['ytick.labelsize'] = 10"
   ]
  },
  {
   "cell_type": "code",
   "execution_count": 203,
   "metadata": {
    "colab": {
     "base_uri": "https://localhost:8080/",
     "height": 512
    },
    "id": "qD0iXWs3ygI7",
    "outputId": "e2eeec0c-cb41-4d46-d868-020a77db09fa",
    "tags": []
   },
   "outputs": [
    {
     "data": {
      "image/png": "[encoded data removed]",
      "text/plain": [
       "<Figure size 600x800 with 1 Axes>"
      ]
     },
     "metadata": {},
     "output_type": "display_data"
    }
   ],
   "source": [
    "# Após analisarmos a quantidade bruta de alunos com relação a raça/cor/etnia, agora podemos analisar no gráfico \n",
    "# a quantidade através dos anos, é possível notar que até dois mil e quinze o alunos quase não se declaravam, após esse ano é possível\n",
    "# ver que há um aumento significativo no nos alunos se declarando e uma clara diminuição nos que não se declaram.\n",
    "plt.figure(figsize= (6,8))\n",
    "sns.set_theme(style=\"whitegrid\")\n",
    "sns.countplot(data=dados, x='Ano de Ingresso', hue='Etnia/Raça/Cor')\n",
    "\n",
    "plt.show()"
   ]
  },
  {
   "cell_type": "code",
   "execution_count": null,
   "metadata": {},
   "outputs": [],
   "source": []
  },
  {
   "cell_type": "code",
   "execution_count": 139,
   "metadata": {
    "colab": {
     "base_uri": "https://localhost:8080/"
    },
    "id": "uX6gzN8u4RaB",
    "outputId": "3a9d237d-cfd8-4ef6-d8a5-3ed44d3cf0e0",
    "tags": []
   },
   "outputs": [
    {
     "data": {
      "text/plain": [
       "Branca           185\n",
       "Parda             82\n",
       "Preta             22\n",
       "Não declarado     20\n",
       "Amarela            3\n",
       "Indígena           1\n",
       "Name: Etnia/Raça/Cor, dtype: int64"
      ]
     },
     "execution_count": 139,
     "metadata": {},
     "output_type": "execute_result"
    }
   ],
   "source": [
    "dados_Ele['Etnia/Raça/Cor'].value_counts()"
   ]
  },
  {
   "cell_type": "code",
   "execution_count": 202,
   "metadata": {
    "colab": {
     "base_uri": "https://localhost:8080/",
     "height": 459
    },
    "id": "La2sM55H9yG_",
    "outputId": "9b22ef7b-56c6-423e-b66d-244d050495d9",
    "tags": []
   },
   "outputs": [
    {
     "data": {
      "image/png": "[encoded data removed]",
      "text/plain": [
       "<Figure size 600x800 with 1 Axes>"
      ]
     },
     "metadata": {},
     "output_type": "display_data"
    }
   ],
   "source": [
    "# É relevante se analisar de maneira mais específcas, voltada para os alunos de cursos de bacharel, sobre as questões raciais, afim de obter mais informções \n",
    "# importantes para a conclusão do projeto, como por exemplo perceber um alto número de alunos brancos nos ultimos anos, com um ápice grande em dois mil e dezessete.\n",
    "plt.figure(figsize= (6,8))\n",
    "sns.set_theme(style=\"whitegrid\")\n",
    "sns.countplot(data=dados, x='Etnia/Raça/Cor', hue='Ano de Ingresso')\n",
    "plt.show()\n",
    "\n"
   ]
  },
  {
   "cell_type": "code",
   "execution_count": 141,
   "metadata": {
    "colab": {
     "base_uri": "https://localhost:8080/",
     "height": 477
    },
    "id": "HW_wxdRw3F1U",
    "outputId": "4645351a-6b1d-4aee-bb15-119d35db7075",
    "tags": []
   },
   "outputs": [
    {
     "data": {
      "text/plain": [
       "<Axes: xlabel='Etnia/Raça/Cor', ylabel='Count'>"
      ]
     },
     "execution_count": 141,
     "metadata": {},
     "output_type": "execute_result"
    },
    {
     "data": {
      "image/png": "[encoded data removed]",
      "text/plain": [
       "<Figure size 640x480 with 1 Axes>"
      ]
     },
     "metadata": {},
     "output_type": "display_data"
    }
   ],
   "source": [
    "# No gráfico a seguir é analisado a diferença no número de homens e mulheres nos cursos de bacharel e também relacionar com \n",
    "# questões raciais/étinicas. Pode-se perceber um grande número de alunos brancos e homens.\n",
    "sns.histplot(data=dados, x=\"Etnia/Raça/Cor\", hue='Sexo', kde=True)"
   ]
  },
  {
   "cell_type": "code",
   "execution_count": 142,
   "metadata": {
    "colab": {
     "base_uri": "https://localhost:8080/",
     "height": 459
    },
    "id": "VONYUiGE2Hhr",
    "outputId": "25f704ba-f142-4071-d4ab-7f6bf12c5aca",
    "tags": []
   },
   "outputs": [
    {
     "data": {
      "image/png": "[encoded data removed]",
      "text/plain": [
       "<Figure size 640x480 with 1 Axes>"
      ]
     },
     "metadata": {},
     "output_type": "display_data"
    }
   ],
   "source": [
    "# No próximo gráficos foi filtrado pelo curso de engenharia elétrica, para análise de raça/etnia/cor.\n",
    "sns.set_theme(style=\"whitegrid\")\n",
    "sns.countplot(data=dados_Ele, x='Etnia/Raça/Cor', hue='Ano de Ingresso')\n",
    "plt.show()"
   ]
  },
  {
   "cell_type": "code",
   "execution_count": 143,
   "metadata": {
    "tags": []
   },
   "outputs": [
    {
     "data": {
      "text/html": [
       "<div>\n",
       "<style scoped>\n",
       "    .dataframe tbody tr th:only-of-type {\n",
       "        vertical-align: middle;\n",
       "    }\n",
       "\n",
       "    .dataframe tbody tr th {\n",
       "        vertical-align: top;\n",
       "    }\n",
       "\n",
       "    .dataframe thead th {\n",
       "        text-align: right;\n",
       "    }\n",
       "</style>\n",
       "<table border=\"1\" class=\"dataframe\">\n",
       "  <thead>\n",
       "    <tr style=\"text-align: right;\">\n",
       "      <th></th>\n",
       "      <th>#</th>\n",
       "      <th>Matrícula</th>\n",
       "      <th>Ano de Ingresso</th>\n",
       "      <th>Deficiência</th>\n",
       "      <th>Descrição do Curso</th>\n",
       "      <th>Estado</th>\n",
       "      <th>Etnia/Raça/Cor</th>\n",
       "      <th>Forma de Ingresso</th>\n",
       "      <th>Modalidade</th>\n",
       "      <th>Nacionalidade</th>\n",
       "      <th>Renda Per Capita</th>\n",
       "      <th>Sexo</th>\n",
       "      <th>Situação no Curso</th>\n",
       "      <th>Tipo de Escola de Origem</th>\n",
       "    </tr>\n",
       "  </thead>\n",
       "  <tbody>\n",
       "    <tr>\n",
       "      <th>7</th>\n",
       "      <td>8</td>\n",
       "      <td>ST3059561</td>\n",
       "      <td>2023</td>\n",
       "      <td>Sem Necessidade Especial</td>\n",
       "      <td>BACHARELADO EM ENGENHARIA ELÉTRICA</td>\n",
       "      <td>SP</td>\n",
       "      <td>Branca</td>\n",
       "      <td>SiSU L5 (SGC L3) NaN Candidatos que, independe...</td>\n",
       "      <td>Bacharelado</td>\n",
       "      <td>Brasileira</td>\n",
       "      <td>3,28</td>\n",
       "      <td>M</td>\n",
       "      <td>Matriculado</td>\n",
       "      <td>Pública</td>\n",
       "    </tr>\n",
       "    <tr>\n",
       "      <th>97</th>\n",
       "      <td>98</td>\n",
       "      <td>ST3059677</td>\n",
       "      <td>2023</td>\n",
       "      <td>Sem Necessidade Especial</td>\n",
       "      <td>BACHARELADO EM ENGENHARIA ELÉTRICA</td>\n",
       "      <td>MG</td>\n",
       "      <td>Branca</td>\n",
       "      <td>SiSU L1 (SGC L1) NaN Candidatos com renda fami...</td>\n",
       "      <td>Bacharelado</td>\n",
       "      <td>Brasileira</td>\n",
       "      <td>0</td>\n",
       "      <td>M</td>\n",
       "      <td>Matriculado</td>\n",
       "      <td>Pública</td>\n",
       "    </tr>\n",
       "    <tr>\n",
       "      <th>106</th>\n",
       "      <td>107</td>\n",
       "      <td>ST3064832</td>\n",
       "      <td>2023</td>\n",
       "      <td>Sem Necessidade Especial</td>\n",
       "      <td>BACHARELADO EM ENGENHARIA ELÉTRICA</td>\n",
       "      <td>SP</td>\n",
       "      <td>Parda</td>\n",
       "      <td>SiSU L2 (SGC L2) NaN Candidatos autodeclarados...</td>\n",
       "      <td>Bacharelado</td>\n",
       "      <td>Brasileira</td>\n",
       "      <td>0,62</td>\n",
       "      <td>M</td>\n",
       "      <td>Matriculado</td>\n",
       "      <td>Pública</td>\n",
       "    </tr>\n",
       "    <tr>\n",
       "      <th>164</th>\n",
       "      <td>165</td>\n",
       "      <td>ST3045561</td>\n",
       "      <td>2022</td>\n",
       "      <td>Sem Necessidade Especial</td>\n",
       "      <td>BACHARELADO EM ENGENHARIA ELÉTRICA</td>\n",
       "      <td>PB</td>\n",
       "      <td>Parda</td>\n",
       "      <td>Escola Pública + Renda + PPI</td>\n",
       "      <td>Bacharelado</td>\n",
       "      <td>Brasileira</td>\n",
       "      <td>0,1</td>\n",
       "      <td>F</td>\n",
       "      <td>Matriculado</td>\n",
       "      <td>Pública</td>\n",
       "    </tr>\n",
       "    <tr>\n",
       "      <th>186</th>\n",
       "      <td>187</td>\n",
       "      <td>ST306428X</td>\n",
       "      <td>2023</td>\n",
       "      <td>Sem Necessidade Especial</td>\n",
       "      <td>BACHARELADO EM ENGENHARIA ELÉTRICA</td>\n",
       "      <td>MG</td>\n",
       "      <td>Parda</td>\n",
       "      <td>SiSU L1 (SGC L1) NaN Candidatos com renda fami...</td>\n",
       "      <td>Bacharelado</td>\n",
       "      <td>Brasileira</td>\n",
       "      <td>0</td>\n",
       "      <td>M</td>\n",
       "      <td>Matriculado</td>\n",
       "      <td>Pública</td>\n",
       "    </tr>\n",
       "    <tr>\n",
       "      <th>...</th>\n",
       "      <td>...</td>\n",
       "      <td>...</td>\n",
       "      <td>...</td>\n",
       "      <td>...</td>\n",
       "      <td>...</td>\n",
       "      <td>...</td>\n",
       "      <td>...</td>\n",
       "      <td>...</td>\n",
       "      <td>...</td>\n",
       "      <td>...</td>\n",
       "      <td>...</td>\n",
       "      <td>...</td>\n",
       "      <td>...</td>\n",
       "      <td>...</td>\n",
       "    </tr>\n",
       "    <tr>\n",
       "      <th>11787</th>\n",
       "      <td>11788</td>\n",
       "      <td>ST3005291</td>\n",
       "      <td>2019</td>\n",
       "      <td>Sem Necessidade Especial</td>\n",
       "      <td>BACHARELADO EM ENGENHARIA ELÉTRICA</td>\n",
       "      <td>SP</td>\n",
       "      <td>Branca</td>\n",
       "      <td>SiSU L1 (SGC L1) NaN Candidatos com renda fami...</td>\n",
       "      <td>Bacharelado</td>\n",
       "      <td>Brasileira</td>\n",
       "      <td>0,2</td>\n",
       "      <td>M</td>\n",
       "      <td>Cancelado</td>\n",
       "      <td>Pública</td>\n",
       "    </tr>\n",
       "    <tr>\n",
       "      <th>11795</th>\n",
       "      <td>11796</td>\n",
       "      <td>ST3005054</td>\n",
       "      <td>2019</td>\n",
       "      <td>Sem Necessidade Especial</td>\n",
       "      <td>BACHARELADO EM ENGENHARIA ELÉTRICA</td>\n",
       "      <td>SP</td>\n",
       "      <td>Parda</td>\n",
       "      <td>SiSU L1 (SGC L1) NaN Candidatos com renda fami...</td>\n",
       "      <td>Bacharelado</td>\n",
       "      <td>Brasileira</td>\n",
       "      <td>0</td>\n",
       "      <td>M</td>\n",
       "      <td>Trancado Voluntariamente</td>\n",
       "      <td>Pública</td>\n",
       "    </tr>\n",
       "    <tr>\n",
       "      <th>11829</th>\n",
       "      <td>11830</td>\n",
       "      <td>ST3009424</td>\n",
       "      <td>2020</td>\n",
       "      <td>Sem Necessidade Especial</td>\n",
       "      <td>BACHARELADO EM ENGENHARIA ELÉTRICA</td>\n",
       "      <td>SP</td>\n",
       "      <td>Amarela</td>\n",
       "      <td>Ampla Concorrência SISU</td>\n",
       "      <td>Bacharelado</td>\n",
       "      <td>Brasileira</td>\n",
       "      <td>1,59</td>\n",
       "      <td>M</td>\n",
       "      <td>Matriculado</td>\n",
       "      <td>Pública</td>\n",
       "    </tr>\n",
       "    <tr>\n",
       "      <th>11880</th>\n",
       "      <td>11881</td>\n",
       "      <td>ST3026507</td>\n",
       "      <td>2021</td>\n",
       "      <td>Sem Necessidade Especial</td>\n",
       "      <td>BACHARELADO EM ENGENHARIA ELÉTRICA</td>\n",
       "      <td>SP</td>\n",
       "      <td>Parda</td>\n",
       "      <td>SiSU L2 (SGC L2) NaN Candidatos autodeclarados...</td>\n",
       "      <td>Bacharelado</td>\n",
       "      <td>Brasileira</td>\n",
       "      <td>0</td>\n",
       "      <td>F</td>\n",
       "      <td>Matriculado</td>\n",
       "      <td>Pública</td>\n",
       "    </tr>\n",
       "    <tr>\n",
       "      <th>11910</th>\n",
       "      <td>11911</td>\n",
       "      <td>ST3012794</td>\n",
       "      <td>2020</td>\n",
       "      <td>Sem Necessidade Especial</td>\n",
       "      <td>BACHARELADO EM ENGENHARIA ELÉTRICA</td>\n",
       "      <td>SP</td>\n",
       "      <td>Não declarado</td>\n",
       "      <td>Ampla Concorrência SISU</td>\n",
       "      <td>Bacharelado</td>\n",
       "      <td>Brasileira</td>\n",
       "      <td>2,51</td>\n",
       "      <td>M</td>\n",
       "      <td>Matriculado</td>\n",
       "      <td>Privada</td>\n",
       "    </tr>\n",
       "  </tbody>\n",
       "</table>\n",
       "<p>313 rows × 14 columns</p>\n",
       "</div>"
      ],
      "text/plain": [
       "           #  Matrícula  Ano de Ingresso               Deficiência  \\\n",
       "7          8  ST3059561             2023  Sem Necessidade Especial   \n",
       "97        98  ST3059677             2023  Sem Necessidade Especial   \n",
       "106      107  ST3064832             2023  Sem Necessidade Especial   \n",
       "164      165  ST3045561             2022  Sem Necessidade Especial   \n",
       "186      187  ST306428X             2023  Sem Necessidade Especial   \n",
       "...      ...        ...              ...                       ...   \n",
       "11787  11788  ST3005291             2019  Sem Necessidade Especial   \n",
       "11795  11796  ST3005054             2019  Sem Necessidade Especial   \n",
       "11829  11830  ST3009424             2020  Sem Necessidade Especial   \n",
       "11880  11881  ST3026507             2021  Sem Necessidade Especial   \n",
       "11910  11911  ST3012794             2020  Sem Necessidade Especial   \n",
       "\n",
       "                       Descrição do Curso Estado Etnia/Raça/Cor  \\\n",
       "7      BACHARELADO EM ENGENHARIA ELÉTRICA     SP         Branca   \n",
       "97     BACHARELADO EM ENGENHARIA ELÉTRICA     MG         Branca   \n",
       "106    BACHARELADO EM ENGENHARIA ELÉTRICA     SP          Parda   \n",
       "164    BACHARELADO EM ENGENHARIA ELÉTRICA     PB          Parda   \n",
       "186    BACHARELADO EM ENGENHARIA ELÉTRICA     MG          Parda   \n",
       "...                                   ...    ...            ...   \n",
       "11787  BACHARELADO EM ENGENHARIA ELÉTRICA     SP         Branca   \n",
       "11795  BACHARELADO EM ENGENHARIA ELÉTRICA     SP          Parda   \n",
       "11829  BACHARELADO EM ENGENHARIA ELÉTRICA     SP        Amarela   \n",
       "11880  BACHARELADO EM ENGENHARIA ELÉTRICA     SP          Parda   \n",
       "11910  BACHARELADO EM ENGENHARIA ELÉTRICA     SP  Não declarado   \n",
       "\n",
       "                                       Forma de Ingresso   Modalidade  \\\n",
       "7      SiSU L5 (SGC L3) NaN Candidatos que, independe...  Bacharelado   \n",
       "97     SiSU L1 (SGC L1) NaN Candidatos com renda fami...  Bacharelado   \n",
       "106    SiSU L2 (SGC L2) NaN Candidatos autodeclarados...  Bacharelado   \n",
       "164                         Escola Pública + Renda + PPI  Bacharelado   \n",
       "186    SiSU L1 (SGC L1) NaN Candidatos com renda fami...  Bacharelado   \n",
       "...                                                  ...          ...   \n",
       "11787  SiSU L1 (SGC L1) NaN Candidatos com renda fami...  Bacharelado   \n",
       "11795  SiSU L1 (SGC L1) NaN Candidatos com renda fami...  Bacharelado   \n",
       "11829                            Ampla Concorrência SISU  Bacharelado   \n",
       "11880  SiSU L2 (SGC L2) NaN Candidatos autodeclarados...  Bacharelado   \n",
       "11910                            Ampla Concorrência SISU  Bacharelado   \n",
       "\n",
       "      Nacionalidade Renda Per Capita Sexo         Situação no Curso  \\\n",
       "7        Brasileira             3,28    M               Matriculado   \n",
       "97       Brasileira                0    M               Matriculado   \n",
       "106      Brasileira             0,62    M               Matriculado   \n",
       "164      Brasileira              0,1    F               Matriculado   \n",
       "186      Brasileira                0    M               Matriculado   \n",
       "...             ...              ...  ...                       ...   \n",
       "11787    Brasileira              0,2    M                 Cancelado   \n",
       "11795    Brasileira                0    M  Trancado Voluntariamente   \n",
       "11829    Brasileira             1,59    M               Matriculado   \n",
       "11880    Brasileira                0    F               Matriculado   \n",
       "11910    Brasileira             2,51    M               Matriculado   \n",
       "\n",
       "      Tipo de Escola de Origem  \n",
       "7                      Pública  \n",
       "97                     Pública  \n",
       "106                    Pública  \n",
       "164                    Pública  \n",
       "186                    Pública  \n",
       "...                        ...  \n",
       "11787                  Pública  \n",
       "11795                  Pública  \n",
       "11829                  Pública  \n",
       "11880                  Pública  \n",
       "11910                  Privada  \n",
       "\n",
       "[313 rows x 14 columns]"
      ]
     },
     "execution_count": 143,
     "metadata": {},
     "output_type": "execute_result"
    }
   ],
   "source": [
    "dados_Ele"
   ]
  },
  {
   "cell_type": "code",
   "execution_count": 144,
   "metadata": {
    "colab": {
     "base_uri": "https://localhost:8080/"
    },
    "id": "HOZHTIid1lU4",
    "outputId": "11f447d6-38b2-43ee-8c6a-14a8b4fa68c7",
    "tags": []
   },
   "outputs": [
    {
     "data": {
      "text/plain": [
       "Branca           462\n",
       "Parda            213\n",
       "Não declarado    135\n",
       "Preta             53\n",
       "Amarela            9\n",
       "Indígena           3\n",
       "Name: Etnia/Raça/Cor, dtype: int64"
      ]
     },
     "execution_count": 144,
     "metadata": {},
     "output_type": "execute_result"
    }
   ],
   "source": [
    "dados['Etnia/Raça/Cor'].value_counts()"
   ]
  },
  {
   "cell_type": "code",
   "execution_count": 145,
   "metadata": {
    "id": "sM9CCWL1jmXg",
    "tags": []
   },
   "outputs": [
    {
     "data": {
      "image/png": "[encoded data removed]",
      "text/plain": [
       "<Figure size 640x480 with 1 Axes>"
      ]
     },
     "metadata": {},
     "output_type": "display_data"
    }
   ],
   "source": [
    "# O gráfico mostra o número geral de raça/etnia/cor para alunos de engenharia elétrica.\n",
    "plt.hist(x = dados_Ele['Etnia/Raça/Cor']);"
   ]
  },
  {
   "cell_type": "markdown",
   "metadata": {
    "id": "I_Zuq8Kqqel5",
    "tags": []
   },
   "source": [
    "# Tipo de escolaridade"
   ]
  },
  {
   "cell_type": "code",
   "execution_count": 146,
   "metadata": {
    "colab": {
     "base_uri": "https://localhost:8080/"
    },
    "id": "Ruree0J5vgOd",
    "outputId": "52342029-b9b0-4782-ba91-f6e0a6d3b42f",
    "tags": []
   },
   "outputs": [
    {
     "data": {
      "text/plain": [
       "<Axes: xlabel='Tipo de Escola de Origem', ylabel='count'>"
      ]
     },
     "execution_count": 146,
     "metadata": {},
     "output_type": "execute_result"
    },
    {
     "data": {
      "image/png": "[encoded data removed]",
      "text/plain": [
       "<Figure size 640x480 with 1 Axes>"
      ]
     },
     "metadata": {},
     "output_type": "display_data"
    }
   ],
   "source": [
    "# Neste novo tópico será possivel analisar a escolaridade de origem dos alunos, sendo pública ou privada, uma informação \n",
    "# importante para os próximos passos do projeto. No gráfico a seguir existe uma diferença pequena entre público e privado, com público sendo maior. \n",
    "sns.countplot(x = dados['Tipo de Escola de Origem'])"
   ]
  },
  {
   "cell_type": "code",
   "execution_count": 147,
   "metadata": {
    "colab": {
     "base_uri": "https://localhost:8080/"
    },
    "id": "L-VibQsQ9JN7",
    "outputId": "ac2e554c-7d7a-4057-b96d-eec43d015955",
    "tags": []
   },
   "outputs": [
    {
     "data": {
      "image/png": "[encoded data removed]",
      "text/plain": [
       "<Figure size 640x480 with 1 Axes>"
      ]
     },
     "metadata": {},
     "output_type": "display_data"
    }
   ],
   "source": [
    "# O gráfico mostra os valores ao longo dos anos com relação a escolaridade de origem dos alunos. \n",
    "# É possivél notar um equilíbrio, principalmente em 2017, com um grande número de alunos de escola privada.\n",
    "sns.set_theme(style=\"whitegrid\")\n",
    "sns.countplot(data=dados, x='Ano de Ingresso', hue='Tipo de Escola de Origem')\n",
    "plt.show()"
   ]
  },
  {
   "cell_type": "code",
   "execution_count": 231,
   "metadata": {
    "tags": []
   },
   "outputs": [
    {
     "data": {
      "image/png": "[encoded data removed]",
      "text/plain": [
       "<Figure size 640x480 with 1 Axes>"
      ]
     },
     "metadata": {},
     "output_type": "display_data"
    }
   ],
   "source": [
    "# O gráfico mostra os valores ao longo dos anos com relação a escolaridade de origem dos alunos. \n",
    "# É possivél notar um equilíbrio, principalmente em 2017, com um grande número de alunos de escola privada.\n",
    "sns.set_theme(style=\"whitegrid\")\n",
    "sns.countplot(data=dados_Ele, x='Ano de Ingresso', hue='Tipo de Escola de Origem')\n",
    "plt.show()"
   ]
  },
  {
   "cell_type": "code",
   "execution_count": 148,
   "metadata": {
    "tags": []
   },
   "outputs": [
    {
     "data": {
      "text/plain": [
       "Pública    432\n",
       "Privada    364\n",
       "Name: Tipo de Escola de Origem, dtype: int64"
      ]
     },
     "execution_count": 148,
     "metadata": {},
     "output_type": "execute_result"
    }
   ],
   "source": [
    "dados_Bac['Tipo de Escola de Origem'].value_counts()"
   ]
  },
  {
   "cell_type": "code",
   "execution_count": 149,
   "metadata": {
    "id": "68sj-fN4qxTu",
    "tags": []
   },
   "outputs": [],
   "source": [
    "dados_Pub = dados[dados['Tipo de Escola de Origem']=='Pública']\n",
    "dados_Pri = dados[dados['Tipo de Escola de Origem']=='Privada']"
   ]
  },
  {
   "cell_type": "code",
   "execution_count": 150,
   "metadata": {
    "colab": {
     "base_uri": "https://localhost:8080/"
    },
    "id": "3Vx3Lvd78N-x",
    "outputId": "800f4cc5-ca79-4fd4-998a-9625033d9190",
    "tags": []
   },
   "outputs": [
    {
     "data": {
      "image/png": "[encoded data removed]",
      "text/plain": [
       "<Figure size 640x480 with 1 Axes>"
      ]
     },
     "metadata": {},
     "output_type": "display_data"
    }
   ],
   "source": [
    "# Outra informação batante relevante para este estudo é mostrado no gráfico abaixo, onde existe uma disparidade pequena entre \n",
    "# escolas de origem pública e privada, principalmente entre os alunos brancos e não declarados.\n",
    "sns.set_theme(style=\"whitegrid\")\n",
    "sns.countplot(data=dados, x='Etnia/Raça/Cor', hue='Tipo de Escola de Origem')\n",
    "plt.show()"
   ]
  },
  {
   "cell_type": "code",
   "execution_count": 151,
   "metadata": {
    "colab": {
     "base_uri": "https://localhost:8080/"
    },
    "id": "K8K8088d9_kJ",
    "outputId": "5ad4ee67-9808-499e-bc05-008455c8ac6c",
    "tags": []
   },
   "outputs": [
    {
     "data": {
      "text/plain": [
       "BACHARELADO EM ENGENHARIA MECÂNICA    562\n",
       "BACHARELADO EM ENGENHARIA ELÉTRICA    313\n",
       "Name: Descrição do Curso, dtype: int64"
      ]
     },
     "execution_count": 151,
     "metadata": {},
     "output_type": "execute_result"
    }
   ],
   "source": [
    "dados['Descrição do Curso'].value_counts()"
   ]
  },
  {
   "cell_type": "code",
   "execution_count": 152,
   "metadata": {
    "tags": []
   },
   "outputs": [
    {
     "data": {
      "text/plain": [
       "Bacharelado    875\n",
       "Name: Modalidade, dtype: int64"
      ]
     },
     "execution_count": 152,
     "metadata": {},
     "output_type": "execute_result"
    }
   ],
   "source": [
    "dados['Modalidade'].value_counts()"
   ]
  },
  {
   "cell_type": "code",
   "execution_count": 153,
   "metadata": {
    "colab": {
     "base_uri": "https://localhost:8080/"
    },
    "id": "xJWoBEK9-PrT",
    "outputId": "5d3e2d09-2e5e-48a0-c3d1-9c520b04ae31",
    "tags": []
   },
   "outputs": [
    {
     "data": {
      "image/png": "[encoded data removed]",
      "text/plain": [
       "<Figure size 640x480 with 1 Axes>"
      ]
     },
     "metadata": {},
     "output_type": "display_data"
    }
   ],
   "source": [
    "# Nas próximas conclusões que foram possíveis tirar a partir do gráfico abaixo, vemos a diferença entre\n",
    "# o número de alunos de gênero masculino e feminino com relção a escola de origem, sendo bem perceptível um equilibrio, com mais alunas de escola privada do que pública. .\n",
    "sns.set_theme(style=\"whitegrid\")\n",
    "sns.countplot(data=dados, x='Sexo', hue='Tipo de Escola de Origem')\n",
    "plt.show()"
   ]
  },
  {
   "cell_type": "markdown",
   "metadata": {
    "id": "ToEMwif4sgpb",
    "tags": []
   },
   "source": [
    "# Gênero"
   ]
  },
  {
   "cell_type": "code",
   "execution_count": 154,
   "metadata": {
    "tags": []
   },
   "outputs": [
    {
     "data": {
      "text/plain": [
       "<Axes: xlabel='Sexo', ylabel='count'>"
      ]
     },
     "execution_count": 154,
     "metadata": {},
     "output_type": "execute_result"
    },
    {
     "data": {
      "image/png": "[encoded data removed]",
      "text/plain": [
       "<Figure size 640x480 with 1 Axes>"
      ]
     },
     "metadata": {},
     "output_type": "display_data"
    }
   ],
   "source": [
    "sns.countplot(x = dados_Ele['Sexo'])"
   ]
  },
  {
   "cell_type": "code",
   "execution_count": 155,
   "metadata": {
    "colab": {
     "base_uri": "https://localhost:8080/"
    },
    "id": "EKzq9Jc_upIu",
    "outputId": "2689984f-bff2-4bc4-beef-01b1806beb1b",
    "tags": []
   },
   "outputs": [
    {
     "data": {
      "text/plain": [
       "<Axes: xlabel='Sexo', ylabel='count'>"
      ]
     },
     "execution_count": 155,
     "metadata": {},
     "output_type": "execute_result"
    },
    {
     "data": {
      "image/png": "[encoded data removed]",
      "text/plain": [
       "<Figure size 640x480 with 1 Axes>"
      ]
     },
     "metadata": {},
     "output_type": "display_data"
    }
   ],
   "source": [
    "# Agora será feita uma ánalise sobre questões de gênero. Primeiro o gráfico a seguir mostra uma disparidade enorme entre o número geral de \n",
    "# homens e mulheres no campus.\n",
    "sns.countplot(x = dados_Ele['Sexo'])"
   ]
  },
  {
   "cell_type": "code",
   "execution_count": 156,
   "metadata": {
    "colab": {
     "base_uri": "https://localhost:8080/"
    },
    "id": "eKidFIQc-XYS",
    "outputId": "b5f81828-0030-4290-b699-5a97ec9f3042",
    "tags": []
   },
   "outputs": [
    {
     "data": {
      "image/png": "[encoded data removed]",
      "text/plain": [
       "<Figure size 640x480 with 1 Axes>"
      ]
     },
     "metadata": {},
     "output_type": "display_data"
    }
   ],
   "source": [
    "# O gráfico a seguir mostra a relacão de gênero ao longo dos anos, provando a alta disparidade entre homens e mulheres. \n",
    "sns.set_theme(style=\"whitegrid\")\n",
    "sns.countplot(data=dados, x='Sexo', hue='Ano de Ingresso')\n",
    "plt.show()"
   ]
  },
  {
   "cell_type": "code",
   "execution_count": 157,
   "metadata": {
    "colab": {
     "base_uri": "https://localhost:8080/"
    },
    "id": "FwiSD1ei-eUU",
    "outputId": "ec16d9d1-30e3-40e7-a94a-71714875f653",
    "tags": []
   },
   "outputs": [
    {
     "data": {
      "image/png": "[encoded data removed]",
      "text/plain": [
       "<Figure size 640x480 with 1 Axes>"
      ]
     },
     "metadata": {},
     "output_type": "display_data"
    }
   ],
   "source": [
    "# Com relação a raça, o gráfico a seguir mostra, assim como analisado anteriormente, um grande número de alunos brancos e seguidos \n",
    "# por alunos pardos com uma certa distância.\n",
    "sns.set_theme(style=\"whitegrid\")\n",
    "sns.countplot(data=dados, x='Sexo', hue='Etnia/Raça/Cor')\n",
    "plt.show()"
   ]
  },
  {
   "cell_type": "code",
   "execution_count": 158,
   "metadata": {
    "id": "kytjXyCSsjJ5",
    "tags": []
   },
   "outputs": [],
   "source": [
    "dados_M = dados[dados['Sexo']=='M']\n",
    "dados_F = dados[dados['Sexo']=='F']"
   ]
  },
  {
   "cell_type": "markdown",
   "metadata": {
    "id": "_rp19t0Yxbtr",
    "tags": []
   },
   "source": [
    "# Evasão"
   ]
  },
  {
   "cell_type": "code",
   "execution_count": 159,
   "metadata": {
    "colab": {
     "base_uri": "https://localhost:8080/",
     "height": 446
    },
    "id": "tl-QPBsGwTlA",
    "outputId": "81c480cd-63e1-4dee-a302-8ce8e30994d5",
    "tags": []
   },
   "outputs": [
    {
     "data": {
      "text/plain": [
       "Matriculado                        335\n",
       "Evasão                             191\n",
       "Cancelado                          164\n",
       "Formado                            144\n",
       "Matrícula Vínculo Institucional     20\n",
       "Transferido Interno                  8\n",
       "Trancado Voluntariamente             6\n",
       "Transferido Externo                  5\n",
       "Cancelamento Compulsório             1\n",
       "Trancado                             1\n",
       "Name: Situação no Curso, dtype: int64"
      ]
     },
     "execution_count": 159,
     "metadata": {},
     "output_type": "execute_result"
    }
   ],
   "source": [
    "dados['Situação no Curso'].value_counts()"
   ]
  },
  {
   "cell_type": "code",
   "execution_count": 160,
   "metadata": {
    "id": "rYUfyhFMy8DW",
    "tags": []
   },
   "outputs": [],
   "source": [
    "dados_Evas = dados[dados['Situação no Curso']=='Evasão']\n",
    "dados_EleEvas = dados_Ele[dados_Ele['Situação no Curso']=='Evasão']"
   ]
  },
  {
   "cell_type": "code",
   "execution_count": 161,
   "metadata": {
    "colab": {
     "base_uri": "https://localhost:8080/",
     "height": 441
    },
    "id": "-rPA6dnsy75N",
    "outputId": "ffb8d8da-3b1a-46f3-9059-e4e325b514d8",
    "tags": []
   },
   "outputs": [
    {
     "data": {
      "image/png": "[encoded data removed]",
      "text/plain": [
       "<Figure size 640x480 with 1 Axes>"
      ]
     },
     "metadata": {},
     "output_type": "display_data"
    }
   ],
   "source": [
    "# O tópico de evasão é um dos mais importantes do projeto, nele pode-se observar algumas informações que serão muito importante para as \n",
    "# conclusões, no gráfico a seguir foi filtrado uma base de dados só com os alunos que evadiram em relação a raça/etnia/cor.\n",
    "sns.countplot(x = dados_Evas['Etnia/Raça/Cor'])\n",
    "plt.rcParams['xtick.labelsize'] = 9\n",
    "plt.rcParams['ytick.labelsize'] = 15"
   ]
  },
  {
   "cell_type": "code",
   "execution_count": 162,
   "metadata": {
    "colab": {
     "base_uri": "https://localhost:8080/",
     "height": 458
    },
    "id": "Yw8T5uGqBm6N",
    "outputId": "4ae1d25e-42bb-4a44-b32d-d16068ecd7b2",
    "tags": []
   },
   "outputs": [
    {
     "data": {
      "image/png": "[encoded data removed]",
      "text/plain": [
       "<Figure size 640x480 with 1 Axes>"
      ]
     },
     "metadata": {},
     "output_type": "display_data"
    },
    {
     "data": {
      "image/png": "[encoded data removed]",
      "text/plain": [
       "<Figure size 640x480 with 1 Axes>"
      ]
     },
     "metadata": {},
     "output_type": "display_data"
    }
   ],
   "source": [
    "# Agora a análise de evasão é feita pela escola de origem e gênero, é possível perceber um alto número de alunos de origem de escola pública, maior do que a proporção de pública e privada no geral, e\n",
    "# também é notávle que homens evadem mais, informação relacionada principalmente com a baixa quantidade de mulheres nos cursos. \n",
    "# Agora focado na engenharia elétrica, mostra um gráfico parecido, mas com menos mulheres de escola pública evadindo.\n",
    "sns.set_theme(style=\"whitegrid\")\n",
    "sns.countplot(data=dados_Evas, x='Tipo de Escola de Origem', hue='Sexo')\n",
    "plt.show()\n",
    "sns.set_theme(style=\"whitegrid\")\n",
    "sns.countplot(data=dados_EleEvas, x='Tipo de Escola de Origem', hue='Sexo')\n",
    "plt.show()"
   ]
  },
  {
   "cell_type": "code",
   "execution_count": 163,
   "metadata": {
    "colab": {
     "base_uri": "https://localhost:8080/",
     "height": 467
    },
    "id": "YuFCwXBJCN6I",
    "outputId": "e9d274f6-9e2e-4c90-9f23-fb0c599c74cc",
    "tags": []
   },
   "outputs": [
    {
     "data": {
      "image/png": "[encoded data removed]",
      "text/plain": [
       "<Figure size 640x480 with 1 Axes>"
      ]
     },
     "metadata": {},
     "output_type": "display_data"
    },
    {
     "data": {
      "image/png": "[encoded data removed]",
      "text/plain": [
       "<Figure size 640x480 with 1 Axes>"
      ]
     },
     "metadata": {},
     "output_type": "display_data"
    }
   ],
   "source": [
    "# Agora será analisado o número geral de evadidos, em todos os cursos e modalidades do campus, ao passar dos anos, \n",
    "# peecebendo um ápice em 2017 e uma queda nos anos de pandemia, 2021 e 2022.\n",
    "# Já os alunos de elétrica tiveram um ápice de evasão em 2019.\n",
    "sns.set_theme(style=\"whitegrid\")\n",
    "sns.countplot(data=dados_Evas, x='Ano de Ingresso', hue='Situação no Curso')\n",
    "plt.show()\n",
    "sns.set_theme(style=\"whitegrid\")\n",
    "sns.countplot(data=dados_EleEvas, x='Ano de Ingresso', hue='Situação no Curso')\n",
    "plt.show()"
   ]
  },
  {
   "cell_type": "markdown",
   "metadata": {
    "id": "Xbho3sYSxeJs",
    "tags": []
   },
   "source": [
    "# Deficiência"
   ]
  },
  {
   "cell_type": "code",
   "execution_count": 164,
   "metadata": {
    "id": "Cc_4HkiW6heT",
    "tags": []
   },
   "outputs": [],
   "source": [
    "dados_Def = dados[dados['Deficiência']=='PCD']"
   ]
  },
  {
   "cell_type": "code",
   "execution_count": 165,
   "metadata": {
    "colab": {
     "base_uri": "https://localhost:8080/"
    },
    "id": "6WgGjNwS6EEd",
    "outputId": "b31b2404-88fd-4c7b-8023-42a352134372",
    "tags": []
   },
   "outputs": [
    {
     "data": {
      "text/plain": [
       "Sem Necessidade Especial    869\n",
       "PCD                           6\n",
       "Name: Deficiência, dtype: int64"
      ]
     },
     "execution_count": 165,
     "metadata": {},
     "output_type": "execute_result"
    }
   ],
   "source": [
    "dados['Deficiência'].value_counts()"
   ]
  },
  {
   "cell_type": "code",
   "execution_count": 166,
   "metadata": {
    "colab": {
     "base_uri": "https://localhost:8080/",
     "height": 458
    },
    "id": "g8Uhjnf7yNN3",
    "outputId": "eef96983-0535-4c12-b895-bb74df648302",
    "tags": []
   },
   "outputs": [
    {
     "data": {
      "image/png": "[encoded data removed]",
      "text/plain": [
       "<Figure size 640x480 with 1 Axes>"
      ]
     },
     "metadata": {},
     "output_type": "display_data"
    }
   ],
   "source": [
    "# O tópico de pessoas com deficiêcia (PCD) é importante para analisarmos o avanço do número geral desses alunos no campus \n",
    "# e muito importante para mostrar os avanços de acessibilidade do campus. No gráfico a seguir podemos ver a comparação de alunos PCD com alunos\n",
    "# sem necessidades especiais.\n",
    "sns.countplot(x = dados['Deficiência'])\n",
    "plt.rcParams['xtick.labelsize'] = 8"
   ]
  },
  {
   "cell_type": "code",
   "execution_count": 167,
   "metadata": {
    "colab": {
     "base_uri": "https://localhost:8080/",
     "height": 458
    },
    "id": "qrN2GHAjEh16",
    "outputId": "0f592092-362f-4d03-c8b6-4780c91a6a9b",
    "tags": []
   },
   "outputs": [
    {
     "data": {
      "image/png": "[encoded data removed]",
      "text/plain": [
       "<Figure size 640x480 with 1 Axes>"
      ]
     },
     "metadata": {},
     "output_type": "display_data"
    }
   ],
   "source": [
    "# A seguir será analisado a evolução no número de alunos PCD ao passar dos anos, mantendo uma quantidade bem pequena, variando de 2 para 1 alunos.\n",
    "sns.set_theme(style=\"whitegrid\")\n",
    "sns.countplot(data=dados_Def, x='Ano de Ingresso', hue='Deficiência')\n",
    "plt.show()"
   ]
  },
  {
   "cell_type": "code",
   "execution_count": 168,
   "metadata": {
    "colab": {
     "base_uri": "https://localhost:8080/"
    },
    "id": "lNLDFMM-71DF",
    "outputId": "2601aeaf-f373-4f0a-c3c0-0f6ef3e25ee1",
    "tags": []
   },
   "outputs": [
    {
     "data": {
      "text/plain": [
       "2018    2\n",
       "2021    2\n",
       "2022    1\n",
       "2020    1\n",
       "Name: Ano de Ingresso, dtype: int64"
      ]
     },
     "execution_count": 168,
     "metadata": {},
     "output_type": "execute_result"
    }
   ],
   "source": [
    "dados_Def['Ano de Ingresso'].value_counts()"
   ]
  },
  {
   "cell_type": "markdown",
   "metadata": {
    "id": "Vib5_lY-8QWl",
    "tags": []
   },
   "source": [
    "# Regras de Associação"
   ]
  },
  {
   "cell_type": "code",
   "execution_count": 169,
   "metadata": {
    "colab": {
     "base_uri": "https://localhost:8080/"
    },
    "id": "xeodRTVLswFk",
    "outputId": "fefda950-c309-46ea-cc08-49b29636c7f3",
    "tags": []
   },
   "outputs": [
    {
     "name": "stdout",
     "output_type": "stream",
     "text": [
      "Requirement already satisfied: apyori in c:\\users\\user\\anaconda3\\anaconda\\lib\\site-packages (1.1.2)\n"
     ]
    }
   ],
   "source": [
    "!pip install apyori"
   ]
  },
  {
   "cell_type": "code",
   "execution_count": 170,
   "metadata": {
    "id": "onq3Cp5U9Eyd",
    "tags": []
   },
   "outputs": [],
   "source": [
    "import pandas as pd\n",
    "from apyori import apriori\n"
   ]
  },
  {
   "cell_type": "code",
   "execution_count": 171,
   "metadata": {
    "id": "fIcQL5_N9gkq",
    "tags": []
   },
   "outputs": [
    {
     "data": {
      "text/plain": [
       "Matriculado                        335\n",
       "Evasão                             191\n",
       "Cancelado                          164\n",
       "Formado                            144\n",
       "Matrícula Vínculo Institucional     20\n",
       "Transferido Interno                  8\n",
       "Trancado Voluntariamente             6\n",
       "Transferido Externo                  5\n",
       "Cancelamento Compulsório             1\n",
       "Trancado                             1\n",
       "Name: Situação no Curso, dtype: int64"
      ]
     },
     "execution_count": 171,
     "metadata": {},
     "output_type": "execute_result"
    }
   ],
   "source": [
    "dados['Situação no Curso'].value_counts()"
   ]
  },
  {
   "cell_type": "code",
   "execution_count": 172,
   "metadata": {
    "id": "fIcQL5_N9gkq",
    "tags": []
   },
   "outputs": [
    {
     "data": {
      "text/html": [
       "<div>\n",
       "<style scoped>\n",
       "    .dataframe tbody tr th:only-of-type {\n",
       "        vertical-align: middle;\n",
       "    }\n",
       "\n",
       "    .dataframe tbody tr th {\n",
       "        vertical-align: top;\n",
       "    }\n",
       "\n",
       "    .dataframe thead th {\n",
       "        text-align: right;\n",
       "    }\n",
       "</style>\n",
       "<table border=\"1\" class=\"dataframe\">\n",
       "  <thead>\n",
       "    <tr style=\"text-align: right;\">\n",
       "      <th></th>\n",
       "      <th>#</th>\n",
       "      <th>Matrícula</th>\n",
       "      <th>Ano de Ingresso</th>\n",
       "      <th>Deficiência</th>\n",
       "      <th>Descrição do Curso</th>\n",
       "      <th>Estado</th>\n",
       "      <th>Etnia/Raça/Cor</th>\n",
       "      <th>Forma de Ingresso</th>\n",
       "      <th>Modalidade</th>\n",
       "      <th>Nacionalidade</th>\n",
       "      <th>Sexo</th>\n",
       "      <th>Situação no Curso</th>\n",
       "      <th>Tipo de Escola de Origem</th>\n",
       "    </tr>\n",
       "  </thead>\n",
       "  <tbody>\n",
       "    <tr>\n",
       "      <th>101</th>\n",
       "      <td>102</td>\n",
       "      <td>ST1713566</td>\n",
       "      <td>2017</td>\n",
       "      <td>Sem Necessidade Especial</td>\n",
       "      <td>BACHARELADO EM ENGENHARIA MECÂNICA</td>\n",
       "      <td>SP</td>\n",
       "      <td>Parda</td>\n",
       "      <td>SiSU L1 (SGC L1) NaN Candidatos com renda fami...</td>\n",
       "      <td>Bacharelado</td>\n",
       "      <td>Brasileira</td>\n",
       "      <td>M</td>\n",
       "      <td>Evasão</td>\n",
       "      <td>Pública</td>\n",
       "    </tr>\n",
       "    <tr>\n",
       "      <th>116</th>\n",
       "      <td>117</td>\n",
       "      <td>ST1613294</td>\n",
       "      <td>2016</td>\n",
       "      <td>Sem Necessidade Especial</td>\n",
       "      <td>BACHARELADO EM ENGENHARIA MECÂNICA</td>\n",
       "      <td>SP</td>\n",
       "      <td>Parda</td>\n",
       "      <td>Matrícula Direta (Inativa)</td>\n",
       "      <td>Bacharelado</td>\n",
       "      <td>Brasileira</td>\n",
       "      <td>M</td>\n",
       "      <td>Evasão</td>\n",
       "      <td>Pública</td>\n",
       "    </tr>\n",
       "    <tr>\n",
       "      <th>137</th>\n",
       "      <td>138</td>\n",
       "      <td>ST3005623</td>\n",
       "      <td>2019</td>\n",
       "      <td>Sem Necessidade Especial</td>\n",
       "      <td>BACHARELADO EM ENGENHARIA MECÂNICA</td>\n",
       "      <td>SP</td>\n",
       "      <td>Parda</td>\n",
       "      <td>SiSU L2 (SGC L2) NaN Candidatos autodeclarados...</td>\n",
       "      <td>Bacharelado</td>\n",
       "      <td>Brasileira</td>\n",
       "      <td>M</td>\n",
       "      <td>Evasão</td>\n",
       "      <td>Pública</td>\n",
       "    </tr>\n",
       "    <tr>\n",
       "      <th>190</th>\n",
       "      <td>191</td>\n",
       "      <td>ST3012387</td>\n",
       "      <td>2020</td>\n",
       "      <td>Sem Necessidade Especial</td>\n",
       "      <td>BACHARELADO EM ENGENHARIA ELÉTRICA</td>\n",
       "      <td>SP</td>\n",
       "      <td>Parda</td>\n",
       "      <td>SiSU L2 (SGC L2) NaN Candidatos autodeclarados...</td>\n",
       "      <td>Bacharelado</td>\n",
       "      <td>Brasileira</td>\n",
       "      <td>M</td>\n",
       "      <td>Evasão</td>\n",
       "      <td>Pública</td>\n",
       "    </tr>\n",
       "    <tr>\n",
       "      <th>312</th>\n",
       "      <td>313</td>\n",
       "      <td>ST1313347</td>\n",
       "      <td>2013</td>\n",
       "      <td>Sem Necessidade Especial</td>\n",
       "      <td>BACHARELADO EM ENGENHARIA MECÂNICA</td>\n",
       "      <td>SP</td>\n",
       "      <td>Não declarado</td>\n",
       "      <td>Seleção Geral Graduação (SiSU) (Inativa)</td>\n",
       "      <td>Bacharelado</td>\n",
       "      <td>Brasileira</td>\n",
       "      <td>M</td>\n",
       "      <td>Evasão</td>\n",
       "      <td>Pública</td>\n",
       "    </tr>\n",
       "    <tr>\n",
       "      <th>...</th>\n",
       "      <td>...</td>\n",
       "      <td>...</td>\n",
       "      <td>...</td>\n",
       "      <td>...</td>\n",
       "      <td>...</td>\n",
       "      <td>...</td>\n",
       "      <td>...</td>\n",
       "      <td>...</td>\n",
       "      <td>...</td>\n",
       "      <td>...</td>\n",
       "      <td>...</td>\n",
       "      <td>...</td>\n",
       "      <td>...</td>\n",
       "    </tr>\n",
       "    <tr>\n",
       "      <th>11635</th>\n",
       "      <td>11636</td>\n",
       "      <td>ST3005305</td>\n",
       "      <td>2019</td>\n",
       "      <td>Sem Necessidade Especial</td>\n",
       "      <td>BACHARELADO EM ENGENHARIA ELÉTRICA</td>\n",
       "      <td>SP</td>\n",
       "      <td>Branca</td>\n",
       "      <td>SiSU L1 (SGC L1) NaN Candidatos com renda fami...</td>\n",
       "      <td>Bacharelado</td>\n",
       "      <td>Brasileira</td>\n",
       "      <td>M</td>\n",
       "      <td>Evasão</td>\n",
       "      <td>Pública</td>\n",
       "    </tr>\n",
       "    <tr>\n",
       "      <th>11697</th>\n",
       "      <td>11698</td>\n",
       "      <td>ST3045609</td>\n",
       "      <td>2022</td>\n",
       "      <td>Sem Necessidade Especial</td>\n",
       "      <td>BACHARELADO EM ENGENHARIA MECÂNICA</td>\n",
       "      <td>SP</td>\n",
       "      <td>Branca</td>\n",
       "      <td>Escola Pública + Renda</td>\n",
       "      <td>Bacharelado</td>\n",
       "      <td>Brasileira</td>\n",
       "      <td>M</td>\n",
       "      <td>Evasão</td>\n",
       "      <td>Pública</td>\n",
       "    </tr>\n",
       "    <tr>\n",
       "      <th>11763</th>\n",
       "      <td>11764</td>\n",
       "      <td>ST1613219</td>\n",
       "      <td>2016</td>\n",
       "      <td>Sem Necessidade Especial</td>\n",
       "      <td>BACHARELADO EM ENGENHARIA MECÂNICA</td>\n",
       "      <td>SP</td>\n",
       "      <td>Parda</td>\n",
       "      <td>SiSU L6 (SGC L4) NaN Candidatos autodeclarados...</td>\n",
       "      <td>Bacharelado</td>\n",
       "      <td>Brasileira</td>\n",
       "      <td>M</td>\n",
       "      <td>Evasão</td>\n",
       "      <td>Pública</td>\n",
       "    </tr>\n",
       "    <tr>\n",
       "      <th>11806</th>\n",
       "      <td>11807</td>\n",
       "      <td>ST1313533</td>\n",
       "      <td>2013</td>\n",
       "      <td>Sem Necessidade Especial</td>\n",
       "      <td>BACHARELADO EM ENGENHARIA MECÂNICA</td>\n",
       "      <td>SP</td>\n",
       "      <td>Não declarado</td>\n",
       "      <td>Seleção Geral Graduação (SiSU) (Inativa)</td>\n",
       "      <td>Bacharelado</td>\n",
       "      <td>Brasileira</td>\n",
       "      <td>M</td>\n",
       "      <td>Evasão</td>\n",
       "      <td>Pública</td>\n",
       "    </tr>\n",
       "    <tr>\n",
       "      <th>11899</th>\n",
       "      <td>11900</td>\n",
       "      <td>ST1413562</td>\n",
       "      <td>2014</td>\n",
       "      <td>Sem Necessidade Especial</td>\n",
       "      <td>BACHARELADO EM ENGENHARIA MECÂNICA</td>\n",
       "      <td>SP</td>\n",
       "      <td>Não declarado</td>\n",
       "      <td>Seleção Geral Graduação (SiSU) (Inativa)</td>\n",
       "      <td>Bacharelado</td>\n",
       "      <td>Brasileira</td>\n",
       "      <td>M</td>\n",
       "      <td>Evasão</td>\n",
       "      <td>Pública</td>\n",
       "    </tr>\n",
       "  </tbody>\n",
       "</table>\n",
       "<p>191 rows × 13 columns</p>\n",
       "</div>"
      ],
      "text/plain": [
       "           #  Matrícula  Ano de Ingresso               Deficiência  \\\n",
       "101      102  ST1713566             2017  Sem Necessidade Especial   \n",
       "116      117  ST1613294             2016  Sem Necessidade Especial   \n",
       "137      138  ST3005623             2019  Sem Necessidade Especial   \n",
       "190      191  ST3012387             2020  Sem Necessidade Especial   \n",
       "312      313  ST1313347             2013  Sem Necessidade Especial   \n",
       "...      ...        ...              ...                       ...   \n",
       "11635  11636  ST3005305             2019  Sem Necessidade Especial   \n",
       "11697  11698  ST3045609             2022  Sem Necessidade Especial   \n",
       "11763  11764  ST1613219             2016  Sem Necessidade Especial   \n",
       "11806  11807  ST1313533             2013  Sem Necessidade Especial   \n",
       "11899  11900  ST1413562             2014  Sem Necessidade Especial   \n",
       "\n",
       "                       Descrição do Curso Estado Etnia/Raça/Cor  \\\n",
       "101    BACHARELADO EM ENGENHARIA MECÂNICA     SP          Parda   \n",
       "116    BACHARELADO EM ENGENHARIA MECÂNICA     SP          Parda   \n",
       "137    BACHARELADO EM ENGENHARIA MECÂNICA     SP          Parda   \n",
       "190    BACHARELADO EM ENGENHARIA ELÉTRICA     SP          Parda   \n",
       "312    BACHARELADO EM ENGENHARIA MECÂNICA     SP  Não declarado   \n",
       "...                                   ...    ...            ...   \n",
       "11635  BACHARELADO EM ENGENHARIA ELÉTRICA     SP         Branca   \n",
       "11697  BACHARELADO EM ENGENHARIA MECÂNICA     SP         Branca   \n",
       "11763  BACHARELADO EM ENGENHARIA MECÂNICA     SP          Parda   \n",
       "11806  BACHARELADO EM ENGENHARIA MECÂNICA     SP  Não declarado   \n",
       "11899  BACHARELADO EM ENGENHARIA MECÂNICA     SP  Não declarado   \n",
       "\n",
       "                                       Forma de Ingresso   Modalidade  \\\n",
       "101    SiSU L1 (SGC L1) NaN Candidatos com renda fami...  Bacharelado   \n",
       "116                           Matrícula Direta (Inativa)  Bacharelado   \n",
       "137    SiSU L2 (SGC L2) NaN Candidatos autodeclarados...  Bacharelado   \n",
       "190    SiSU L2 (SGC L2) NaN Candidatos autodeclarados...  Bacharelado   \n",
       "312             Seleção Geral Graduação (SiSU) (Inativa)  Bacharelado   \n",
       "...                                                  ...          ...   \n",
       "11635  SiSU L1 (SGC L1) NaN Candidatos com renda fami...  Bacharelado   \n",
       "11697                             Escola Pública + Renda  Bacharelado   \n",
       "11763  SiSU L6 (SGC L4) NaN Candidatos autodeclarados...  Bacharelado   \n",
       "11806           Seleção Geral Graduação (SiSU) (Inativa)  Bacharelado   \n",
       "11899           Seleção Geral Graduação (SiSU) (Inativa)  Bacharelado   \n",
       "\n",
       "      Nacionalidade Sexo Situação no Curso Tipo de Escola de Origem  \n",
       "101      Brasileira    M            Evasão                  Pública  \n",
       "116      Brasileira    M            Evasão                  Pública  \n",
       "137      Brasileira    M            Evasão                  Pública  \n",
       "190      Brasileira    M            Evasão                  Pública  \n",
       "312      Brasileira    M            Evasão                  Pública  \n",
       "...             ...  ...               ...                      ...  \n",
       "11635    Brasileira    M            Evasão                  Pública  \n",
       "11697    Brasileira    M            Evasão                  Pública  \n",
       "11763    Brasileira    M            Evasão                  Pública  \n",
       "11806    Brasileira    M            Evasão                  Pública  \n",
       "11899    Brasileira    M            Evasão                  Pública  \n",
       "\n",
       "[191 rows x 13 columns]"
      ]
     },
     "execution_count": 172,
     "metadata": {},
     "output_type": "execute_result"
    }
   ],
   "source": [
    "# Alunos evadidos do bacharelado\n",
    "dados_Evas"
   ]
  },
  {
   "cell_type": "code",
   "execution_count": 173,
   "metadata": {
    "id": "fIcQL5_N9gkq",
    "tags": []
   },
   "outputs": [],
   "source": [
    "dados_Evas = dados_Evas.drop([\"Modalidade\",\"Situação no Curso\",\"Deficiência\",\"Nacionalidade\"],axis = 1)"
   ]
  },
  {
   "cell_type": "code",
   "execution_count": 174,
   "metadata": {
    "colab": {
     "base_uri": "https://localhost:8080/"
    },
    "id": "FQJ1AO2G9wNy",
    "outputId": "18c22af2-27bd-4c1d-8d83-83c8ff9594c5",
    "tags": []
   },
   "outputs": [
    {
     "data": {
      "text/plain": [
       "(191, 9)"
      ]
     },
     "execution_count": 174,
     "metadata": {},
     "output_type": "execute_result"
    }
   ],
   "source": [
    "dados_Evas.shape"
   ]
  },
  {
   "cell_type": "code",
   "execution_count": 175,
   "metadata": {
    "colab": {
     "base_uri": "https://localhost:8080/"
    },
    "id": "FQJ1AO2G9wNy",
    "outputId": "18c22af2-27bd-4c1d-8d83-83c8ff9594c5",
    "tags": []
   },
   "outputs": [
    {
     "data": {
      "text/plain": [
       "(875, 13)"
      ]
     },
     "execution_count": 175,
     "metadata": {},
     "output_type": "execute_result"
    }
   ],
   "source": [
    "dados.shape"
   ]
  },
  {
   "cell_type": "code",
   "execution_count": 176,
   "metadata": {
    "id": "zIy_wKZo93Bb",
    "tags": []
   },
   "outputs": [],
   "source": [
    "Lista = []\n",
    "for i in range(len(dados_Evas)):\n",
    "  #print(i)\n",
    "  #print(base_mercado1.values[i, 0])\n",
    "  Lista.append([str(dados_Evas.values[i, j]) for j in range(dados_Evas.shape[1])])"
   ]
  },
  {
   "cell_type": "code",
   "execution_count": 177,
   "metadata": {
    "colab": {
     "base_uri": "https://localhost:8080/",
     "height": 208
    },
    "id": "ObXRU2P4tZNS",
    "outputId": "cdc8009c-f34a-41c1-f328-d034e7ddf51b",
    "tags": []
   },
   "outputs": [
    {
     "data": {
      "text/plain": [
       "9"
      ]
     },
     "execution_count": 177,
     "metadata": {},
     "output_type": "execute_result"
    }
   ],
   "source": [
    "regras = apriori(Lista, min_support = 0.1, min_confidence = 0.2, min_lift = 2)\n",
    "resultados = list(regras)\n",
    "len(resultados)"
   ]
  },
  {
   "cell_type": "code",
   "execution_count": 178,
   "metadata": {
    "colab": {
     "base_uri": "https://localhost:8080/",
     "height": 208
    },
    "id": "ObXRU2P4tZNS",
    "outputId": "cdc8009c-f34a-41c1-f328-d034e7ddf51b",
    "tags": []
   },
   "outputs": [
    {
     "data": {
      "text/plain": [
       "[RelationRecord(items=frozenset({'Seleção Geral Graduação (SiSU) (Inativa)', 'BACHARELADO EM ENGENHARIA MECÂNICA', 'Não declarado'}), support=0.13089005235602094, ordered_statistics=[OrderedStatistic(items_base=frozenset({'Não declarado'}), items_add=frozenset({'Seleção Geral Graduação (SiSU) (Inativa)', 'BACHARELADO EM ENGENHARIA MECÂNICA'}), confidence=0.6756756756756757, lift=2.2641062114746324), OrderedStatistic(items_base=frozenset({'Seleção Geral Graduação (SiSU) (Inativa)'}), items_add=frozenset({'BACHARELADO EM ENGENHARIA MECÂNICA', 'Não declarado'}), confidence=0.3787878787878788, lift=2.0096801346801345), OrderedStatistic(items_base=frozenset({'BACHARELADO EM ENGENHARIA MECÂNICA', 'Não declarado'}), items_add=frozenset({'Seleção Geral Graduação (SiSU) (Inativa)'}), confidence=0.6944444444444444, lift=2.009680134680135), OrderedStatistic(items_base=frozenset({'Seleção Geral Graduação (SiSU) (Inativa)', 'BACHARELADO EM ENGENHARIA MECÂNICA'}), items_add=frozenset({'Não declarado'}), confidence=0.4385964912280702, lift=2.2641062114746324)]),\n",
       " RelationRecord(items=frozenset({'Seleção Geral Graduação (SiSU) (Inativa)', 'Privada', 'Branca'}), support=0.11518324607329843, ordered_statistics=[OrderedStatistic(items_base=frozenset({'Privada'}), items_add=frozenset({'Seleção Geral Graduação (SiSU) (Inativa)', 'Branca'}), confidence=0.36666666666666664, lift=2.2591397849462362), OrderedStatistic(items_base=frozenset({'Seleção Geral Graduação (SiSU) (Inativa)', 'Branca'}), items_add=frozenset({'Privada'}), confidence=0.7096774193548386, lift=2.2591397849462362)]),\n",
       " RelationRecord(items=frozenset({'Seleção Geral Graduação (SiSU) (Inativa)', 'Não declarado', 'M'}), support=0.1256544502617801, ordered_statistics=[OrderedStatistic(items_base=frozenset({'Não declarado'}), items_add=frozenset({'Seleção Geral Graduação (SiSU) (Inativa)', 'M'}), confidence=0.6486486486486486, lift=2.252579852579852), OrderedStatistic(items_base=frozenset({'Seleção Geral Graduação (SiSU) (Inativa)'}), items_add=frozenset({'Não declarado', 'M'}), confidence=0.36363636363636365, lift=2.0427807486631018), OrderedStatistic(items_base=frozenset({'Não declarado', 'M'}), items_add=frozenset({'Seleção Geral Graduação (SiSU) (Inativa)'}), confidence=0.7058823529411765, lift=2.0427807486631018), OrderedStatistic(items_base=frozenset({'Seleção Geral Graduação (SiSU) (Inativa)', 'M'}), items_add=frozenset({'Não declarado'}), confidence=0.4363636363636363, lift=2.252579852579852)]),\n",
       " RelationRecord(items=frozenset({'SP', 'Não declarado', 'Seleção Geral Graduação (SiSU) (Inativa)'}), support=0.13089005235602094, ordered_statistics=[OrderedStatistic(items_base=frozenset({'Não declarado'}), items_add=frozenset({'SP', 'Seleção Geral Graduação (SiSU) (Inativa)'}), confidence=0.6756756756756757, lift=2.0815170008718393), OrderedStatistic(items_base=frozenset({'Seleção Geral Graduação (SiSU) (Inativa)'}), items_add=frozenset({'SP', 'Não declarado'}), confidence=0.3787878787878788, lift=2.0096801346801345), OrderedStatistic(items_base=frozenset({'SP', 'Não declarado'}), items_add=frozenset({'Seleção Geral Graduação (SiSU) (Inativa)'}), confidence=0.6944444444444444, lift=2.009680134680135), OrderedStatistic(items_base=frozenset({'SP', 'Seleção Geral Graduação (SiSU) (Inativa)'}), items_add=frozenset({'Não declarado'}), confidence=0.4032258064516129, lift=2.0815170008718393)]),\n",
       " RelationRecord(items=frozenset({'Seleção Geral Graduação (SiSU) (Inativa)', 'BACHARELADO EM ENGENHARIA MECÂNICA', 'M', 'Não declarado'}), support=0.1256544502617801, ordered_statistics=[OrderedStatistic(items_base=frozenset({'Não declarado'}), items_add=frozenset({'Seleção Geral Graduação (SiSU) (Inativa)', 'BACHARELADO EM ENGENHARIA MECÂNICA', 'M'}), confidence=0.6486486486486486, lift=2.5810810810810807), OrderedStatistic(items_base=frozenset({'Seleção Geral Graduação (SiSU) (Inativa)'}), items_add=frozenset({'BACHARELADO EM ENGENHARIA MECÂNICA', 'M', 'Não declarado'}), confidence=0.36363636363636365, lift=2.104683195592287), OrderedStatistic(items_base=frozenset({'BACHARELADO EM ENGENHARIA MECÂNICA', 'Não declarado'}), items_add=frozenset({'Seleção Geral Graduação (SiSU) (Inativa)', 'M'}), confidence=0.6666666666666666, lift=2.315151515151515), OrderedStatistic(items_base=frozenset({'Seleção Geral Graduação (SiSU) (Inativa)', 'BACHARELADO EM ENGENHARIA MECÂNICA'}), items_add=frozenset({'Não declarado', 'M'}), confidence=0.4210526315789474, lift=2.365325077399381), OrderedStatistic(items_base=frozenset({'Não declarado', 'M'}), items_add=frozenset({'Seleção Geral Graduação (SiSU) (Inativa)', 'BACHARELADO EM ENGENHARIA MECÂNICA'}), confidence=0.7058823529411765, lift=2.365325077399381), OrderedStatistic(items_base=frozenset({'Seleção Geral Graduação (SiSU) (Inativa)', 'M'}), items_add=frozenset({'BACHARELADO EM ENGENHARIA MECÂNICA', 'Não declarado'}), confidence=0.4363636363636363, lift=2.3151515151515145), OrderedStatistic(items_base=frozenset({'BACHARELADO EM ENGENHARIA MECÂNICA', 'M', 'Não declarado'}), items_add=frozenset({'Seleção Geral Graduação (SiSU) (Inativa)'}), confidence=0.7272727272727273, lift=2.104683195592287), OrderedStatistic(items_base=frozenset({'Seleção Geral Graduação (SiSU) (Inativa)', 'BACHARELADO EM ENGENHARIA MECÂNICA', 'M'}), items_add=frozenset({'Não declarado'}), confidence=0.5, lift=2.581081081081081)]),\n",
       " RelationRecord(items=frozenset({'SP', 'BACHARELADO EM ENGENHARIA MECÂNICA', 'Seleção Geral Graduação (SiSU) (Inativa)', 'Não declarado'}), support=0.13089005235602094, ordered_statistics=[OrderedStatistic(items_base=frozenset({'Não declarado'}), items_add=frozenset({'SP', 'BACHARELADO EM ENGENHARIA MECÂNICA', 'Seleção Geral Graduação (SiSU) (Inativa)'}), confidence=0.6756756756756757, lift=2.3898898898898895), OrderedStatistic(items_base=frozenset({'Seleção Geral Graduação (SiSU) (Inativa)'}), items_add=frozenset({'SP', 'BACHARELADO EM ENGENHARIA MECÂNICA', 'Não declarado'}), confidence=0.3787878787878788, lift=2.067099567099567), OrderedStatistic(items_base=frozenset({'BACHARELADO EM ENGENHARIA MECÂNICA', 'Não declarado'}), items_add=frozenset({'SP', 'Seleção Geral Graduação (SiSU) (Inativa)'}), confidence=0.6944444444444444, lift=2.1393369175627237), OrderedStatistic(items_base=frozenset({'Seleção Geral Graduação (SiSU) (Inativa)', 'BACHARELADO EM ENGENHARIA MECÂNICA'}), items_add=frozenset({'SP', 'Não declarado'}), confidence=0.4385964912280702, lift=2.326998050682261), OrderedStatistic(items_base=frozenset({'SP', 'Não declarado'}), items_add=frozenset({'Seleção Geral Graduação (SiSU) (Inativa)', 'BACHARELADO EM ENGENHARIA MECÂNICA'}), confidence=0.6944444444444444, lift=2.326998050682261), OrderedStatistic(items_base=frozenset({'SP', 'Seleção Geral Graduação (SiSU) (Inativa)'}), items_add=frozenset({'BACHARELADO EM ENGENHARIA MECÂNICA', 'Não declarado'}), confidence=0.4032258064516129, lift=2.1393369175627237), OrderedStatistic(items_base=frozenset({'SP', 'BACHARELADO EM ENGENHARIA MECÂNICA', 'Não declarado'}), items_add=frozenset({'Seleção Geral Graduação (SiSU) (Inativa)'}), confidence=0.7142857142857143, lift=2.067099567099567), OrderedStatistic(items_base=frozenset({'SP', 'BACHARELADO EM ENGENHARIA MECÂNICA', 'Seleção Geral Graduação (SiSU) (Inativa)'}), items_add=frozenset({'Não declarado'}), confidence=0.4629629629629629, lift=2.3898898898898895)]),\n",
       " RelationRecord(items=frozenset({'SP', 'Privada', 'Branca', 'Seleção Geral Graduação (SiSU) (Inativa)'}), support=0.10471204188481675, ordered_statistics=[OrderedStatistic(items_base=frozenset({'Privada'}), items_add=frozenset({'SP', 'Branca', 'Seleção Geral Graduação (SiSU) (Inativa)'}), confidence=0.3333333333333333, lift=2.1954022988505746), OrderedStatistic(items_base=frozenset({'Seleção Geral Graduação (SiSU) (Inativa)', 'Branca'}), items_add=frozenset({'SP', 'Privada'}), confidence=0.6451612903225806, lift=2.281959378733572), OrderedStatistic(items_base=frozenset({'SP', 'Privada'}), items_add=frozenset({'Seleção Geral Graduação (SiSU) (Inativa)', 'Branca'}), confidence=0.37037037037037035, lift=2.281959378733572), OrderedStatistic(items_base=frozenset({'SP', 'Branca', 'Seleção Geral Graduação (SiSU) (Inativa)'}), items_add=frozenset({'Privada'}), confidence=0.6896551724137931, lift=2.195402298850575)]),\n",
       " RelationRecord(items=frozenset({'SP', 'Não declarado', 'M', 'Seleção Geral Graduação (SiSU) (Inativa)'}), support=0.1256544502617801, ordered_statistics=[OrderedStatistic(items_base=frozenset({'Não declarado'}), items_add=frozenset({'SP', 'M', 'Seleção Geral Graduação (SiSU) (Inativa)'}), confidence=0.6486486486486486, lift=2.4292527821939585), OrderedStatistic(items_base=frozenset({'Seleção Geral Graduação (SiSU) (Inativa)'}), items_add=frozenset({'SP', 'Não declarado', 'M'}), confidence=0.36363636363636365, lift=2.104683195592287), OrderedStatistic(items_base=frozenset({'Não declarado', 'M'}), items_add=frozenset({'SP', 'Seleção Geral Graduação (SiSU) (Inativa)'}), confidence=0.7058823529411765, lift=2.174573055028463), OrderedStatistic(items_base=frozenset({'Seleção Geral Graduação (SiSU) (Inativa)', 'M'}), items_add=frozenset({'SP', 'Não declarado'}), confidence=0.4363636363636363, lift=2.3151515151515145), OrderedStatistic(items_base=frozenset({'SP', 'Não declarado'}), items_add=frozenset({'Seleção Geral Graduação (SiSU) (Inativa)', 'M'}), confidence=0.6666666666666666, lift=2.315151515151515), OrderedStatistic(items_base=frozenset({'SP', 'Seleção Geral Graduação (SiSU) (Inativa)'}), items_add=frozenset({'Não declarado', 'M'}), confidence=0.3870967741935484, lift=2.174573055028463), OrderedStatistic(items_base=frozenset({'SP', 'Não declarado', 'M'}), items_add=frozenset({'Seleção Geral Graduação (SiSU) (Inativa)'}), confidence=0.7272727272727273, lift=2.104683195592287), OrderedStatistic(items_base=frozenset({'SP', 'M', 'Seleção Geral Graduação (SiSU) (Inativa)'}), items_add=frozenset({'Não declarado'}), confidence=0.47058823529411764, lift=2.4292527821939585)]),\n",
       " RelationRecord(items=frozenset({'SP', 'M', 'Seleção Geral Graduação (SiSU) (Inativa)', 'Não declarado', 'BACHARELADO EM ENGENHARIA MECÂNICA'}), support=0.1256544502617801, ordered_statistics=[OrderedStatistic(items_base=frozenset({'Não declarado'}), items_add=frozenset({'SP', 'BACHARELADO EM ENGENHARIA MECÂNICA', 'M', 'Seleção Geral Graduação (SiSU) (Inativa)'}), confidence=0.6486486486486486, lift=2.753153153153153), OrderedStatistic(items_base=frozenset({'Seleção Geral Graduação (SiSU) (Inativa)'}), items_add=frozenset({'SP', 'Não declarado', 'M', 'BACHARELADO EM ENGENHARIA MECÂNICA'}), confidence=0.36363636363636365, lift=2.1704545454545454), OrderedStatistic(items_base=frozenset({'BACHARELADO EM ENGENHARIA MECÂNICA', 'Não declarado'}), items_add=frozenset({'SP', 'M', 'Seleção Geral Graduação (SiSU) (Inativa)'}), confidence=0.6666666666666666, lift=2.496732026143791), OrderedStatistic(items_base=frozenset({'Seleção Geral Graduação (SiSU) (Inativa)', 'BACHARELADO EM ENGENHARIA MECÂNICA'}), items_add=frozenset({'SP', 'Não declarado', 'M'}), confidence=0.4210526315789474, lift=2.437001594896332), OrderedStatistic(items_base=frozenset({'Não declarado', 'M'}), items_add=frozenset({'SP', 'BACHARELADO EM ENGENHARIA MECÂNICA', 'Seleção Geral Graduação (SiSU) (Inativa)'}), confidence=0.7058823529411765, lift=2.496732026143791), OrderedStatistic(items_base=frozenset({'Seleção Geral Graduação (SiSU) (Inativa)', 'M'}), items_add=frozenset({'SP', 'Não declarado', 'BACHARELADO EM ENGENHARIA MECÂNICA'}), confidence=0.4363636363636363, lift=2.381298701298701), OrderedStatistic(items_base=frozenset({'SP', 'Não declarado'}), items_add=frozenset({'Seleção Geral Graduação (SiSU) (Inativa)', 'BACHARELADO EM ENGENHARIA MECÂNICA', 'M'}), confidence=0.6666666666666666, lift=2.6527777777777777), OrderedStatistic(items_base=frozenset({'SP', 'Seleção Geral Graduação (SiSU) (Inativa)'}), items_add=frozenset({'BACHARELADO EM ENGENHARIA MECÂNICA', 'Não declarado', 'M'}), confidence=0.3870967741935484, lift=2.240469208211144), OrderedStatistic(items_base=frozenset({'BACHARELADO EM ENGENHARIA MECÂNICA', 'M', 'Não declarado'}), items_add=frozenset({'SP', 'Seleção Geral Graduação (SiSU) (Inativa)'}), confidence=0.7272727272727273, lift=2.2404692082111435), OrderedStatistic(items_base=frozenset({'Seleção Geral Graduação (SiSU) (Inativa)', 'BACHARELADO EM ENGENHARIA MECÂNICA', 'M'}), items_add=frozenset({'SP', 'Não declarado'}), confidence=0.5, lift=2.6527777777777777), OrderedStatistic(items_base=frozenset({'SP', 'BACHARELADO EM ENGENHARIA MECÂNICA', 'Não declarado'}), items_add=frozenset({'Seleção Geral Graduação (SiSU) (Inativa)', 'M'}), confidence=0.6857142857142857, lift=2.381298701298701), OrderedStatistic(items_base=frozenset({'SP', 'BACHARELADO EM ENGENHARIA MECÂNICA', 'Seleção Geral Graduação (SiSU) (Inativa)'}), items_add=frozenset({'Não declarado', 'M'}), confidence=0.44444444444444436, lift=2.4967320261437904), OrderedStatistic(items_base=frozenset({'SP', 'Não declarado', 'M'}), items_add=frozenset({'Seleção Geral Graduação (SiSU) (Inativa)', 'BACHARELADO EM ENGENHARIA MECÂNICA'}), confidence=0.7272727272727273, lift=2.437001594896332), OrderedStatistic(items_base=frozenset({'SP', 'M', 'Seleção Geral Graduação (SiSU) (Inativa)'}), items_add=frozenset({'BACHARELADO EM ENGENHARIA MECÂNICA', 'Não declarado'}), confidence=0.47058823529411764, lift=2.496732026143791), OrderedStatistic(items_base=frozenset({'SP', 'BACHARELADO EM ENGENHARIA MECÂNICA', 'M', 'Não declarado'}), items_add=frozenset({'Seleção Geral Graduação (SiSU) (Inativa)'}), confidence=0.7499999999999999, lift=2.1704545454545454), OrderedStatistic(items_base=frozenset({'SP', 'BACHARELADO EM ENGENHARIA MECÂNICA', 'M', 'Seleção Geral Graduação (SiSU) (Inativa)'}), items_add=frozenset({'Não declarado'}), confidence=0.5333333333333333, lift=2.753153153153153)])]"
      ]
     },
     "execution_count": 178,
     "metadata": {},
     "output_type": "execute_result"
    }
   ],
   "source": [
    "resultados"
   ]
  },
  {
   "cell_type": "code",
   "execution_count": 181,
   "metadata": {
    "colab": {
     "base_uri": "https://localhost:8080/",
     "height": 208
    },
    "id": "ObXRU2P4tZNS",
    "outputId": "cdc8009c-f34a-41c1-f328-d034e7ddf51b",
    "tags": []
   },
   "outputs": [],
   "source": [
    "# Alunos evadidos de engenharia elétrica\n",
    "dados_EleEvas = dados_EleEvas.drop([\"Situação no Curso\",\"Deficiência\",\"Nacionalidade\",\"Descrição do Curso\"],axis = 1)"
   ]
  },
  {
   "cell_type": "code",
   "execution_count": 182,
   "metadata": {
    "tags": []
   },
   "outputs": [],
   "source": [
    "dados_EleEvas = dados_EleEvas.drop([\"Modalidade\"],axis = 1)"
   ]
  },
  {
   "cell_type": "code",
   "execution_count": 183,
   "metadata": {
    "tags": []
   },
   "outputs": [],
   "source": [
    "dados_EleEvas = dados_EleEvas.drop([\"Renda Per Capita\"],axis = 1)"
   ]
  },
  {
   "cell_type": "code",
   "execution_count": 184,
   "metadata": {
    "colab": {
     "base_uri": "https://localhost:8080/",
     "height": 208
    },
    "id": "ObXRU2P4tZNS",
    "outputId": "cdc8009c-f34a-41c1-f328-d034e7ddf51b",
    "tags": []
   },
   "outputs": [
    {
     "data": {
      "text/html": [
       "<div>\n",
       "<style scoped>\n",
       "    .dataframe tbody tr th:only-of-type {\n",
       "        vertical-align: middle;\n",
       "    }\n",
       "\n",
       "    .dataframe tbody tr th {\n",
       "        vertical-align: top;\n",
       "    }\n",
       "\n",
       "    .dataframe thead th {\n",
       "        text-align: right;\n",
       "    }\n",
       "</style>\n",
       "<table border=\"1\" class=\"dataframe\">\n",
       "  <thead>\n",
       "    <tr style=\"text-align: right;\">\n",
       "      <th></th>\n",
       "      <th>#</th>\n",
       "      <th>Matrícula</th>\n",
       "      <th>Ano de Ingresso</th>\n",
       "      <th>Estado</th>\n",
       "      <th>Etnia/Raça/Cor</th>\n",
       "      <th>Forma de Ingresso</th>\n",
       "      <th>Sexo</th>\n",
       "      <th>Tipo de Escola de Origem</th>\n",
       "    </tr>\n",
       "  </thead>\n",
       "  <tbody>\n",
       "    <tr>\n",
       "      <th>190</th>\n",
       "      <td>191</td>\n",
       "      <td>ST3012387</td>\n",
       "      <td>2020</td>\n",
       "      <td>SP</td>\n",
       "      <td>Parda</td>\n",
       "      <td>SiSU L2 (SGC L2) NaN Candidatos autodeclarados...</td>\n",
       "      <td>M</td>\n",
       "      <td>Pública</td>\n",
       "    </tr>\n",
       "    <tr>\n",
       "      <th>881</th>\n",
       "      <td>882</td>\n",
       "      <td>ST3002497</td>\n",
       "      <td>2018</td>\n",
       "      <td>SP</td>\n",
       "      <td>Parda</td>\n",
       "      <td>Seleção Geral Graduação (SiSU) (Inativa)</td>\n",
       "      <td>M</td>\n",
       "      <td>Pública</td>\n",
       "    </tr>\n",
       "    <tr>\n",
       "      <th>1091</th>\n",
       "      <td>1092</td>\n",
       "      <td>ST3002357</td>\n",
       "      <td>2018</td>\n",
       "      <td>SP</td>\n",
       "      <td>Parda</td>\n",
       "      <td>Seleção Geral Graduação (SiSU) (Inativa)</td>\n",
       "      <td>M</td>\n",
       "      <td>Pública</td>\n",
       "    </tr>\n",
       "    <tr>\n",
       "      <th>1253</th>\n",
       "      <td>1254</td>\n",
       "      <td>ST300595X</td>\n",
       "      <td>2019</td>\n",
       "      <td>SP</td>\n",
       "      <td>Parda</td>\n",
       "      <td>SiSU L6 (SGC L4) NaN Candidatos autodeclarados...</td>\n",
       "      <td>M</td>\n",
       "      <td>Pública</td>\n",
       "    </tr>\n",
       "    <tr>\n",
       "      <th>1593</th>\n",
       "      <td>1594</td>\n",
       "      <td>ST1715151</td>\n",
       "      <td>2017</td>\n",
       "      <td>SP</td>\n",
       "      <td>Preta</td>\n",
       "      <td>SiSU L6 (SGC L4) NaN Candidatos autodeclarados...</td>\n",
       "      <td>M</td>\n",
       "      <td>Pública</td>\n",
       "    </tr>\n",
       "    <tr>\n",
       "      <th>1618</th>\n",
       "      <td>1619</td>\n",
       "      <td>ST3002772</td>\n",
       "      <td>2018</td>\n",
       "      <td>SP</td>\n",
       "      <td>Branca</td>\n",
       "      <td>Transferência Facultativa</td>\n",
       "      <td>M</td>\n",
       "      <td>Privada</td>\n",
       "    </tr>\n",
       "    <tr>\n",
       "      <th>1919</th>\n",
       "      <td>1920</td>\n",
       "      <td>ST3004783</td>\n",
       "      <td>2019</td>\n",
       "      <td>SP</td>\n",
       "      <td>Branca</td>\n",
       "      <td>SiSU L5 (SGC L3) NaN Candidatos que, independe...</td>\n",
       "      <td>M</td>\n",
       "      <td>Pública</td>\n",
       "    </tr>\n",
       "    <tr>\n",
       "      <th>1952</th>\n",
       "      <td>1953</td>\n",
       "      <td>ST3004341</td>\n",
       "      <td>2019</td>\n",
       "      <td>SP</td>\n",
       "      <td>Parda</td>\n",
       "      <td>Ampla Concorrência SISU</td>\n",
       "      <td>M</td>\n",
       "      <td>Privada</td>\n",
       "    </tr>\n",
       "    <tr>\n",
       "      <th>2249</th>\n",
       "      <td>2250</td>\n",
       "      <td>ST3006981</td>\n",
       "      <td>2019</td>\n",
       "      <td>SP</td>\n",
       "      <td>Branca</td>\n",
       "      <td>Ingresso de portador de diploma de graduação</td>\n",
       "      <td>M</td>\n",
       "      <td>Pública</td>\n",
       "    </tr>\n",
       "    <tr>\n",
       "      <th>2268</th>\n",
       "      <td>2269</td>\n",
       "      <td>ST3047946</td>\n",
       "      <td>2022</td>\n",
       "      <td>SP</td>\n",
       "      <td>Parda</td>\n",
       "      <td>Processo Seletivo Simplificado NaN Ampla Conco...</td>\n",
       "      <td>F</td>\n",
       "      <td>Pública</td>\n",
       "    </tr>\n",
       "    <tr>\n",
       "      <th>2771</th>\n",
       "      <td>2772</td>\n",
       "      <td>ST3009564</td>\n",
       "      <td>2020</td>\n",
       "      <td>SP</td>\n",
       "      <td>Parda</td>\n",
       "      <td>SiSU L6 (SGC L4) NaN Candidatos autodeclarados...</td>\n",
       "      <td>M</td>\n",
       "      <td>Pública</td>\n",
       "    </tr>\n",
       "    <tr>\n",
       "      <th>2841</th>\n",
       "      <td>2842</td>\n",
       "      <td>ST3004791</td>\n",
       "      <td>2019</td>\n",
       "      <td>SP</td>\n",
       "      <td>Preta</td>\n",
       "      <td>SiSU L6 (SGC L4) NaN Candidatos autodeclarados...</td>\n",
       "      <td>M</td>\n",
       "      <td>Pública</td>\n",
       "    </tr>\n",
       "    <tr>\n",
       "      <th>2876</th>\n",
       "      <td>2877</td>\n",
       "      <td>ST1715101</td>\n",
       "      <td>2017</td>\n",
       "      <td>SP</td>\n",
       "      <td>Branca</td>\n",
       "      <td>SiSU L5 (SGC L3) NaN Candidatos que, independe...</td>\n",
       "      <td>M</td>\n",
       "      <td>Pública</td>\n",
       "    </tr>\n",
       "    <tr>\n",
       "      <th>2896</th>\n",
       "      <td>2897</td>\n",
       "      <td>ST3006956</td>\n",
       "      <td>2019</td>\n",
       "      <td>SP</td>\n",
       "      <td>Parda</td>\n",
       "      <td>Ingresso de portador de diploma de graduação</td>\n",
       "      <td>M</td>\n",
       "      <td>Pública</td>\n",
       "    </tr>\n",
       "    <tr>\n",
       "      <th>3007</th>\n",
       "      <td>3008</td>\n",
       "      <td>ST3010104</td>\n",
       "      <td>2020</td>\n",
       "      <td>GO</td>\n",
       "      <td>Branca</td>\n",
       "      <td>Ampla Concorrência SISU</td>\n",
       "      <td>M</td>\n",
       "      <td>Privada</td>\n",
       "    </tr>\n",
       "    <tr>\n",
       "      <th>3629</th>\n",
       "      <td>3630</td>\n",
       "      <td>ST3006964</td>\n",
       "      <td>2019</td>\n",
       "      <td>SP</td>\n",
       "      <td>Branca</td>\n",
       "      <td>Ingresso de portador de diploma de graduação</td>\n",
       "      <td>M</td>\n",
       "      <td>Pública</td>\n",
       "    </tr>\n",
       "    <tr>\n",
       "      <th>3631</th>\n",
       "      <td>3632</td>\n",
       "      <td>ST3011593</td>\n",
       "      <td>2020</td>\n",
       "      <td>SP</td>\n",
       "      <td>Branca</td>\n",
       "      <td>SiSU L1 (SGC L1) NaN Candidatos com renda fami...</td>\n",
       "      <td>M</td>\n",
       "      <td>Pública</td>\n",
       "    </tr>\n",
       "    <tr>\n",
       "      <th>4771</th>\n",
       "      <td>4772</td>\n",
       "      <td>ST3010571</td>\n",
       "      <td>2020</td>\n",
       "      <td>SP</td>\n",
       "      <td>Branca</td>\n",
       "      <td>SiSU L1 (SGC L1) NaN Candidatos com renda fami...</td>\n",
       "      <td>M</td>\n",
       "      <td>Pública</td>\n",
       "    </tr>\n",
       "    <tr>\n",
       "      <th>4794</th>\n",
       "      <td>4795</td>\n",
       "      <td>ST3002021</td>\n",
       "      <td>2018</td>\n",
       "      <td>SP</td>\n",
       "      <td>Branca</td>\n",
       "      <td>Seleção Geral Graduação (SiSU) (Inativa)</td>\n",
       "      <td>F</td>\n",
       "      <td>Privada</td>\n",
       "    </tr>\n",
       "    <tr>\n",
       "      <th>4863</th>\n",
       "      <td>4864</td>\n",
       "      <td>ST3001997</td>\n",
       "      <td>2018</td>\n",
       "      <td>SP</td>\n",
       "      <td>Branca</td>\n",
       "      <td>SiSU L5 (SGC L3) NaN Candidatos que, independe...</td>\n",
       "      <td>M</td>\n",
       "      <td>Pública</td>\n",
       "    </tr>\n",
       "    <tr>\n",
       "      <th>5182</th>\n",
       "      <td>5183</td>\n",
       "      <td>ST3005992</td>\n",
       "      <td>2019</td>\n",
       "      <td>SP</td>\n",
       "      <td>Branca</td>\n",
       "      <td>Ampla Concorrência SISU</td>\n",
       "      <td>M</td>\n",
       "      <td>Pública</td>\n",
       "    </tr>\n",
       "    <tr>\n",
       "      <th>5612</th>\n",
       "      <td>5613</td>\n",
       "      <td>ST1715011</td>\n",
       "      <td>2017</td>\n",
       "      <td>SP</td>\n",
       "      <td>Branca</td>\n",
       "      <td>Seleção Geral Graduação (SiSU) (Inativa)</td>\n",
       "      <td>M</td>\n",
       "      <td>Privada</td>\n",
       "    </tr>\n",
       "    <tr>\n",
       "      <th>5659</th>\n",
       "      <td>5660</td>\n",
       "      <td>ST3026043</td>\n",
       "      <td>2021</td>\n",
       "      <td>SP</td>\n",
       "      <td>Parda</td>\n",
       "      <td>SiSU L5 (SGC L3) NaN Candidatos que, independe...</td>\n",
       "      <td>M</td>\n",
       "      <td>Pública</td>\n",
       "    </tr>\n",
       "    <tr>\n",
       "      <th>5998</th>\n",
       "      <td>5999</td>\n",
       "      <td>ST3001962</td>\n",
       "      <td>2018</td>\n",
       "      <td>SP</td>\n",
       "      <td>Branca</td>\n",
       "      <td>Seleção Geral Graduação (SiSU) (Inativa)</td>\n",
       "      <td>M</td>\n",
       "      <td>Pública</td>\n",
       "    </tr>\n",
       "    <tr>\n",
       "      <th>6470</th>\n",
       "      <td>6471</td>\n",
       "      <td>ST3026922</td>\n",
       "      <td>2021</td>\n",
       "      <td>SP</td>\n",
       "      <td>Parda</td>\n",
       "      <td>SiSU L2 (SGC L2) NaN Candidatos autodeclarados...</td>\n",
       "      <td>M</td>\n",
       "      <td>Pública</td>\n",
       "    </tr>\n",
       "    <tr>\n",
       "      <th>6804</th>\n",
       "      <td>6805</td>\n",
       "      <td>ST3002381</td>\n",
       "      <td>2018</td>\n",
       "      <td>SP</td>\n",
       "      <td>Parda</td>\n",
       "      <td>SiSU L2 (SGC L2) NaN Candidatos autodeclarados...</td>\n",
       "      <td>M</td>\n",
       "      <td>Pública</td>\n",
       "    </tr>\n",
       "    <tr>\n",
       "      <th>7262</th>\n",
       "      <td>7263</td>\n",
       "      <td>ST3010015</td>\n",
       "      <td>2020</td>\n",
       "      <td>SP</td>\n",
       "      <td>Parda</td>\n",
       "      <td>SiSU L6 (SGC L4) NaN Candidatos autodeclarados...</td>\n",
       "      <td>M</td>\n",
       "      <td>Pública</td>\n",
       "    </tr>\n",
       "    <tr>\n",
       "      <th>7332</th>\n",
       "      <td>7333</td>\n",
       "      <td>ST3000842</td>\n",
       "      <td>2018</td>\n",
       "      <td>RJ</td>\n",
       "      <td>Branca</td>\n",
       "      <td>Seleção Geral Graduação (SiSU) (Inativa)</td>\n",
       "      <td>M</td>\n",
       "      <td>Privada</td>\n",
       "    </tr>\n",
       "    <tr>\n",
       "      <th>7685</th>\n",
       "      <td>7686</td>\n",
       "      <td>ST3045706</td>\n",
       "      <td>2022</td>\n",
       "      <td>SP</td>\n",
       "      <td>Branca</td>\n",
       "      <td>Ampla Concorrência (Geral)</td>\n",
       "      <td>M</td>\n",
       "      <td>Privada</td>\n",
       "    </tr>\n",
       "    <tr>\n",
       "      <th>7714</th>\n",
       "      <td>7715</td>\n",
       "      <td>ST1715399</td>\n",
       "      <td>2017</td>\n",
       "      <td>SP</td>\n",
       "      <td>Preta</td>\n",
       "      <td>Seleção Geral Graduação (SiSU) (Inativa)</td>\n",
       "      <td>M</td>\n",
       "      <td>Privada</td>\n",
       "    </tr>\n",
       "    <tr>\n",
       "      <th>7989</th>\n",
       "      <td>7990</td>\n",
       "      <td>ST1715429</td>\n",
       "      <td>2017</td>\n",
       "      <td>SP</td>\n",
       "      <td>Parda</td>\n",
       "      <td>SiSU L6 (SGC L4) NaN Candidatos autodeclarados...</td>\n",
       "      <td>F</td>\n",
       "      <td>Pública</td>\n",
       "    </tr>\n",
       "    <tr>\n",
       "      <th>8721</th>\n",
       "      <td>8722</td>\n",
       "      <td>ST1715232</td>\n",
       "      <td>2017</td>\n",
       "      <td>SP</td>\n",
       "      <td>Branca</td>\n",
       "      <td>Seleção Geral Graduação (SiSU) (Inativa)</td>\n",
       "      <td>F</td>\n",
       "      <td>Privada</td>\n",
       "    </tr>\n",
       "    <tr>\n",
       "      <th>9530</th>\n",
       "      <td>9531</td>\n",
       "      <td>ST3027066</td>\n",
       "      <td>2021</td>\n",
       "      <td>SP</td>\n",
       "      <td>Parda</td>\n",
       "      <td>SiSU L5 (SGC L3) NaN Candidatos que, independe...</td>\n",
       "      <td>M</td>\n",
       "      <td>Pública</td>\n",
       "    </tr>\n",
       "    <tr>\n",
       "      <th>9659</th>\n",
       "      <td>9660</td>\n",
       "      <td>ST3008282</td>\n",
       "      <td>2019</td>\n",
       "      <td>SP</td>\n",
       "      <td>Branca</td>\n",
       "      <td>Edital de Seleção NaN Aluno especial / Não reg...</td>\n",
       "      <td>F</td>\n",
       "      <td>Privada</td>\n",
       "    </tr>\n",
       "    <tr>\n",
       "      <th>9825</th>\n",
       "      <td>9826</td>\n",
       "      <td>ST3010953</td>\n",
       "      <td>2020</td>\n",
       "      <td>SP</td>\n",
       "      <td>Branca</td>\n",
       "      <td>SiSU L1 (SGC L1) NaN Candidatos com renda fami...</td>\n",
       "      <td>M</td>\n",
       "      <td>Pública</td>\n",
       "    </tr>\n",
       "    <tr>\n",
       "      <th>10158</th>\n",
       "      <td>10159</td>\n",
       "      <td>ST171516X</td>\n",
       "      <td>2017</td>\n",
       "      <td>SP</td>\n",
       "      <td>Parda</td>\n",
       "      <td>SiSU L2 (SGC L2) NaN Candidatos autodeclarados...</td>\n",
       "      <td>M</td>\n",
       "      <td>Pública</td>\n",
       "    </tr>\n",
       "    <tr>\n",
       "      <th>10203</th>\n",
       "      <td>10204</td>\n",
       "      <td>ST1715402</td>\n",
       "      <td>2017</td>\n",
       "      <td>SP</td>\n",
       "      <td>Parda</td>\n",
       "      <td>SiSU L6 (SGC L4) NaN Candidatos autodeclarados...</td>\n",
       "      <td>M</td>\n",
       "      <td>Pública</td>\n",
       "    </tr>\n",
       "    <tr>\n",
       "      <th>10249</th>\n",
       "      <td>10250</td>\n",
       "      <td>ST3047806</td>\n",
       "      <td>2022</td>\n",
       "      <td>PB</td>\n",
       "      <td>Preta</td>\n",
       "      <td>Ampla Concorrência (Geral)</td>\n",
       "      <td>M</td>\n",
       "      <td>Pública</td>\n",
       "    </tr>\n",
       "    <tr>\n",
       "      <th>10419</th>\n",
       "      <td>10420</td>\n",
       "      <td>ST3026698</td>\n",
       "      <td>2021</td>\n",
       "      <td>SP</td>\n",
       "      <td>Branca</td>\n",
       "      <td>Ampla Concorrência SISU</td>\n",
       "      <td>M</td>\n",
       "      <td>Privada</td>\n",
       "    </tr>\n",
       "    <tr>\n",
       "      <th>10420</th>\n",
       "      <td>10421</td>\n",
       "      <td>ST3004406</td>\n",
       "      <td>2019</td>\n",
       "      <td>SP</td>\n",
       "      <td>Branca</td>\n",
       "      <td>SiSU L1 (SGC L1) NaN Candidatos com renda fami...</td>\n",
       "      <td>M</td>\n",
       "      <td>Pública</td>\n",
       "    </tr>\n",
       "    <tr>\n",
       "      <th>10971</th>\n",
       "      <td>10972</td>\n",
       "      <td>ST1715119</td>\n",
       "      <td>2017</td>\n",
       "      <td>SP</td>\n",
       "      <td>Branca</td>\n",
       "      <td>SiSU L1 (SGC L1) NaN Candidatos com renda fami...</td>\n",
       "      <td>M</td>\n",
       "      <td>Pública</td>\n",
       "    </tr>\n",
       "    <tr>\n",
       "      <th>11132</th>\n",
       "      <td>11133</td>\n",
       "      <td>ST1715356</td>\n",
       "      <td>2017</td>\n",
       "      <td>SP</td>\n",
       "      <td>Branca</td>\n",
       "      <td>Seleção Geral Graduação (SiSU) (Inativa)</td>\n",
       "      <td>M</td>\n",
       "      <td>Privada</td>\n",
       "    </tr>\n",
       "    <tr>\n",
       "      <th>11326</th>\n",
       "      <td>11327</td>\n",
       "      <td>ST3047105</td>\n",
       "      <td>2022</td>\n",
       "      <td>SP</td>\n",
       "      <td>Preta</td>\n",
       "      <td>Ampla Concorrência (Geral)</td>\n",
       "      <td>M</td>\n",
       "      <td>Privada</td>\n",
       "    </tr>\n",
       "    <tr>\n",
       "      <th>11367</th>\n",
       "      <td>11368</td>\n",
       "      <td>ST3011208</td>\n",
       "      <td>2020</td>\n",
       "      <td>SP</td>\n",
       "      <td>Branca</td>\n",
       "      <td>Ampla Concorrência SISU</td>\n",
       "      <td>M</td>\n",
       "      <td>Privada</td>\n",
       "    </tr>\n",
       "    <tr>\n",
       "      <th>11492</th>\n",
       "      <td>11493</td>\n",
       "      <td>ST3012913</td>\n",
       "      <td>2020</td>\n",
       "      <td>SP</td>\n",
       "      <td>Não declarado</td>\n",
       "      <td>SiSU L1 (SGC L1) NaN Candidatos com renda fami...</td>\n",
       "      <td>M</td>\n",
       "      <td>Pública</td>\n",
       "    </tr>\n",
       "    <tr>\n",
       "      <th>11493</th>\n",
       "      <td>11494</td>\n",
       "      <td>ST3004457</td>\n",
       "      <td>2019</td>\n",
       "      <td>SP</td>\n",
       "      <td>Parda</td>\n",
       "      <td>SiSU L6 (SGC L4) NaN Candidatos autodeclarados...</td>\n",
       "      <td>M</td>\n",
       "      <td>Pública</td>\n",
       "    </tr>\n",
       "    <tr>\n",
       "      <th>11635</th>\n",
       "      <td>11636</td>\n",
       "      <td>ST3005305</td>\n",
       "      <td>2019</td>\n",
       "      <td>SP</td>\n",
       "      <td>Branca</td>\n",
       "      <td>SiSU L1 (SGC L1) NaN Candidatos com renda fami...</td>\n",
       "      <td>M</td>\n",
       "      <td>Pública</td>\n",
       "    </tr>\n",
       "  </tbody>\n",
       "</table>\n",
       "</div>"
      ],
      "text/plain": [
       "           #  Matrícula  Ano de Ingresso Estado Etnia/Raça/Cor  \\\n",
       "190      191  ST3012387             2020     SP          Parda   \n",
       "881      882  ST3002497             2018     SP          Parda   \n",
       "1091    1092  ST3002357             2018     SP          Parda   \n",
       "1253    1254  ST300595X             2019     SP          Parda   \n",
       "1593    1594  ST1715151             2017     SP          Preta   \n",
       "1618    1619  ST3002772             2018     SP         Branca   \n",
       "1919    1920  ST3004783             2019     SP         Branca   \n",
       "1952    1953  ST3004341             2019     SP          Parda   \n",
       "2249    2250  ST3006981             2019     SP         Branca   \n",
       "2268    2269  ST3047946             2022     SP          Parda   \n",
       "2771    2772  ST3009564             2020     SP          Parda   \n",
       "2841    2842  ST3004791             2019     SP          Preta   \n",
       "2876    2877  ST1715101             2017     SP         Branca   \n",
       "2896    2897  ST3006956             2019     SP          Parda   \n",
       "3007    3008  ST3010104             2020     GO         Branca   \n",
       "3629    3630  ST3006964             2019     SP         Branca   \n",
       "3631    3632  ST3011593             2020     SP         Branca   \n",
       "4771    4772  ST3010571             2020     SP         Branca   \n",
       "4794    4795  ST3002021             2018     SP         Branca   \n",
       "4863    4864  ST3001997             2018     SP         Branca   \n",
       "5182    5183  ST3005992             2019     SP         Branca   \n",
       "5612    5613  ST1715011             2017     SP         Branca   \n",
       "5659    5660  ST3026043             2021     SP          Parda   \n",
       "5998    5999  ST3001962             2018     SP         Branca   \n",
       "6470    6471  ST3026922             2021     SP          Parda   \n",
       "6804    6805  ST3002381             2018     SP          Parda   \n",
       "7262    7263  ST3010015             2020     SP          Parda   \n",
       "7332    7333  ST3000842             2018     RJ         Branca   \n",
       "7685    7686  ST3045706             2022     SP         Branca   \n",
       "7714    7715  ST1715399             2017     SP          Preta   \n",
       "7989    7990  ST1715429             2017     SP          Parda   \n",
       "8721    8722  ST1715232             2017     SP         Branca   \n",
       "9530    9531  ST3027066             2021     SP          Parda   \n",
       "9659    9660  ST3008282             2019     SP         Branca   \n",
       "9825    9826  ST3010953             2020     SP         Branca   \n",
       "10158  10159  ST171516X             2017     SP          Parda   \n",
       "10203  10204  ST1715402             2017     SP          Parda   \n",
       "10249  10250  ST3047806             2022     PB          Preta   \n",
       "10419  10420  ST3026698             2021     SP         Branca   \n",
       "10420  10421  ST3004406             2019     SP         Branca   \n",
       "10971  10972  ST1715119             2017     SP         Branca   \n",
       "11132  11133  ST1715356             2017     SP         Branca   \n",
       "11326  11327  ST3047105             2022     SP          Preta   \n",
       "11367  11368  ST3011208             2020     SP         Branca   \n",
       "11492  11493  ST3012913             2020     SP  Não declarado   \n",
       "11493  11494  ST3004457             2019     SP          Parda   \n",
       "11635  11636  ST3005305             2019     SP         Branca   \n",
       "\n",
       "                                       Forma de Ingresso Sexo  \\\n",
       "190    SiSU L2 (SGC L2) NaN Candidatos autodeclarados...    M   \n",
       "881             Seleção Geral Graduação (SiSU) (Inativa)    M   \n",
       "1091            Seleção Geral Graduação (SiSU) (Inativa)    M   \n",
       "1253   SiSU L6 (SGC L4) NaN Candidatos autodeclarados...    M   \n",
       "1593   SiSU L6 (SGC L4) NaN Candidatos autodeclarados...    M   \n",
       "1618                           Transferência Facultativa    M   \n",
       "1919   SiSU L5 (SGC L3) NaN Candidatos que, independe...    M   \n",
       "1952                             Ampla Concorrência SISU    M   \n",
       "2249        Ingresso de portador de diploma de graduação    M   \n",
       "2268   Processo Seletivo Simplificado NaN Ampla Conco...    F   \n",
       "2771   SiSU L6 (SGC L4) NaN Candidatos autodeclarados...    M   \n",
       "2841   SiSU L6 (SGC L4) NaN Candidatos autodeclarados...    M   \n",
       "2876   SiSU L5 (SGC L3) NaN Candidatos que, independe...    M   \n",
       "2896        Ingresso de portador de diploma de graduação    M   \n",
       "3007                             Ampla Concorrência SISU    M   \n",
       "3629        Ingresso de portador de diploma de graduação    M   \n",
       "3631   SiSU L1 (SGC L1) NaN Candidatos com renda fami...    M   \n",
       "4771   SiSU L1 (SGC L1) NaN Candidatos com renda fami...    M   \n",
       "4794            Seleção Geral Graduação (SiSU) (Inativa)    F   \n",
       "4863   SiSU L5 (SGC L3) NaN Candidatos que, independe...    M   \n",
       "5182                             Ampla Concorrência SISU    M   \n",
       "5612            Seleção Geral Graduação (SiSU) (Inativa)    M   \n",
       "5659   SiSU L5 (SGC L3) NaN Candidatos que, independe...    M   \n",
       "5998            Seleção Geral Graduação (SiSU) (Inativa)    M   \n",
       "6470   SiSU L2 (SGC L2) NaN Candidatos autodeclarados...    M   \n",
       "6804   SiSU L2 (SGC L2) NaN Candidatos autodeclarados...    M   \n",
       "7262   SiSU L6 (SGC L4) NaN Candidatos autodeclarados...    M   \n",
       "7332            Seleção Geral Graduação (SiSU) (Inativa)    M   \n",
       "7685                          Ampla Concorrência (Geral)    M   \n",
       "7714            Seleção Geral Graduação (SiSU) (Inativa)    M   \n",
       "7989   SiSU L6 (SGC L4) NaN Candidatos autodeclarados...    F   \n",
       "8721            Seleção Geral Graduação (SiSU) (Inativa)    F   \n",
       "9530   SiSU L5 (SGC L3) NaN Candidatos que, independe...    M   \n",
       "9659   Edital de Seleção NaN Aluno especial / Não reg...    F   \n",
       "9825   SiSU L1 (SGC L1) NaN Candidatos com renda fami...    M   \n",
       "10158  SiSU L2 (SGC L2) NaN Candidatos autodeclarados...    M   \n",
       "10203  SiSU L6 (SGC L4) NaN Candidatos autodeclarados...    M   \n",
       "10249                         Ampla Concorrência (Geral)    M   \n",
       "10419                            Ampla Concorrência SISU    M   \n",
       "10420  SiSU L1 (SGC L1) NaN Candidatos com renda fami...    M   \n",
       "10971  SiSU L1 (SGC L1) NaN Candidatos com renda fami...    M   \n",
       "11132           Seleção Geral Graduação (SiSU) (Inativa)    M   \n",
       "11326                         Ampla Concorrência (Geral)    M   \n",
       "11367                            Ampla Concorrência SISU    M   \n",
       "11492  SiSU L1 (SGC L1) NaN Candidatos com renda fami...    M   \n",
       "11493  SiSU L6 (SGC L4) NaN Candidatos autodeclarados...    M   \n",
       "11635  SiSU L1 (SGC L1) NaN Candidatos com renda fami...    M   \n",
       "\n",
       "      Tipo de Escola de Origem  \n",
       "190                    Pública  \n",
       "881                    Pública  \n",
       "1091                   Pública  \n",
       "1253                   Pública  \n",
       "1593                   Pública  \n",
       "1618                   Privada  \n",
       "1919                   Pública  \n",
       "1952                   Privada  \n",
       "2249                   Pública  \n",
       "2268                   Pública  \n",
       "2771                   Pública  \n",
       "2841                   Pública  \n",
       "2876                   Pública  \n",
       "2896                   Pública  \n",
       "3007                   Privada  \n",
       "3629                   Pública  \n",
       "3631                   Pública  \n",
       "4771                   Pública  \n",
       "4794                   Privada  \n",
       "4863                   Pública  \n",
       "5182                   Pública  \n",
       "5612                   Privada  \n",
       "5659                   Pública  \n",
       "5998                   Pública  \n",
       "6470                   Pública  \n",
       "6804                   Pública  \n",
       "7262                   Pública  \n",
       "7332                   Privada  \n",
       "7685                   Privada  \n",
       "7714                   Privada  \n",
       "7989                   Pública  \n",
       "8721                   Privada  \n",
       "9530                   Pública  \n",
       "9659                   Privada  \n",
       "9825                   Pública  \n",
       "10158                  Pública  \n",
       "10203                  Pública  \n",
       "10249                  Pública  \n",
       "10419                  Privada  \n",
       "10420                  Pública  \n",
       "10971                  Pública  \n",
       "11132                  Privada  \n",
       "11326                  Privada  \n",
       "11367                  Privada  \n",
       "11492                  Pública  \n",
       "11493                  Pública  \n",
       "11635                  Pública  "
      ]
     },
     "execution_count": 184,
     "metadata": {},
     "output_type": "execute_result"
    }
   ],
   "source": [
    "dados_EleEvas"
   ]
  },
  {
   "cell_type": "code",
   "execution_count": 247,
   "metadata": {
    "tags": []
   },
   "outputs": [],
   "source": [
    "Lista = []\n",
    "for i in range(len(dados_EleEvas)):\n",
    "  #print(i)\n",
    "  #print(base_mercado1.values[i, 0])\n",
    "  Lista.append([str(dados_EleEvas.values[i, j]) for j in range(dados_EleEvas.shape[1])])"
   ]
  },
  {
   "cell_type": "code",
   "execution_count": 248,
   "metadata": {
    "tags": []
   },
   "outputs": [
    {
     "data": {
      "text/plain": [
       "10"
      ]
     },
     "execution_count": 248,
     "metadata": {},
     "output_type": "execute_result"
    }
   ],
   "source": [
    "regras = apriori(Lista, min_support = 0.12, min_confidence = 0.2, min_lift = 2)\n",
    "resultados = list(regras)\n",
    "len(resultados)"
   ]
  },
  {
   "cell_type": "code",
   "execution_count": 249,
   "metadata": {
    "tags": []
   },
   "outputs": [
    {
     "data": {
      "text/plain": [
       "[RelationRecord(items=frozenset({'Parda', 'SiSU L6 (SGC L4) NaN Candidatos autodeclarados pretos, pardos ou indígenas que, independente da renda (art. 14, II, Portaria Normativa nº 18/2012), tenham cursado integralmente o ensino médio em escolas públicas (Lei nº12.711/2012)'}), support=0.1276595744680851, ordered_statistics=[OrderedStatistic(items_base=frozenset({'Parda'}), items_add=frozenset({'SiSU L6 (SGC L4) NaN Candidatos autodeclarados pretos, pardos ou indígenas que, independente da renda (art. 14, II, Portaria Normativa nº 18/2012), tenham cursado integralmente o ensino médio em escolas públicas (Lei nº12.711/2012)'}), confidence=0.3529411764705882, lift=2.0735294117647056), OrderedStatistic(items_base=frozenset({'SiSU L6 (SGC L4) NaN Candidatos autodeclarados pretos, pardos ou indígenas que, independente da renda (art. 14, II, Portaria Normativa nº 18/2012), tenham cursado integralmente o ensino médio em escolas públicas (Lei nº12.711/2012)'}), items_add=frozenset({'Parda'}), confidence=0.75, lift=2.0735294117647056)]),\n",
       " RelationRecord(items=frozenset({'Seleção Geral Graduação (SiSU) (Inativa)', 'Privada'}), support=0.1276595744680851, ordered_statistics=[OrderedStatistic(items_base=frozenset({'Privada'}), items_add=frozenset({'Seleção Geral Graduação (SiSU) (Inativa)'}), confidence=0.42857142857142855, lift=2.238095238095238), OrderedStatistic(items_base=frozenset({'Seleção Geral Graduação (SiSU) (Inativa)'}), items_add=frozenset({'Privada'}), confidence=0.6666666666666666, lift=2.238095238095238)]),\n",
       " RelationRecord(items=frozenset({'Branca', 'SiSU L1 (SGC L1) NaN Candidatos com renda familiar bruta per capita igual ou inferior a 1,5 salário mínimo que tenham cursado integralmente o ensino médio em escolas públicas (Lei nº 12.711/2012)', 'Pública'}), support=0.1276595744680851, ordered_statistics=[OrderedStatistic(items_base=frozenset({'SiSU L1 (SGC L1) NaN Candidatos com renda familiar bruta per capita igual ou inferior a 1,5 salário mínimo que tenham cursado integralmente o ensino médio em escolas públicas (Lei nº 12.711/2012)'}), items_add=frozenset({'Branca', 'Pública'}), confidence=0.8571428571428571, lift=3.0989010989010985), OrderedStatistic(items_base=frozenset({'Branca', 'Pública'}), items_add=frozenset({'SiSU L1 (SGC L1) NaN Candidatos com renda familiar bruta per capita igual ou inferior a 1,5 salário mínimo que tenham cursado integralmente o ensino médio em escolas públicas (Lei nº 12.711/2012)'}), confidence=0.4615384615384615, lift=3.098901098901099)]),\n",
       " RelationRecord(items=frozenset({'Parda', 'SiSU L6 (SGC L4) NaN Candidatos autodeclarados pretos, pardos ou indígenas que, independente da renda (art. 14, II, Portaria Normativa nº 18/2012), tenham cursado integralmente o ensino médio em escolas públicas (Lei nº12.711/2012)', 'Pública'}), support=0.1276595744680851, ordered_statistics=[OrderedStatistic(items_base=frozenset({'Parda'}), items_add=frozenset({'SiSU L6 (SGC L4) NaN Candidatos autodeclarados pretos, pardos ou indígenas que, independente da renda (art. 14, II, Portaria Normativa nº 18/2012), tenham cursado integralmente o ensino médio em escolas públicas (Lei nº12.711/2012)', 'Pública'}), confidence=0.3529411764705882, lift=2.0735294117647056), OrderedStatistic(items_base=frozenset({'SiSU L6 (SGC L4) NaN Candidatos autodeclarados pretos, pardos ou indígenas que, independente da renda (art. 14, II, Portaria Normativa nº 18/2012), tenham cursado integralmente o ensino médio em escolas públicas (Lei nº12.711/2012)'}), items_add=frozenset({'Parda', 'Pública'}), confidence=0.75, lift=2.203125), OrderedStatistic(items_base=frozenset({'Parda', 'Pública'}), items_add=frozenset({'SiSU L6 (SGC L4) NaN Candidatos autodeclarados pretos, pardos ou indígenas que, independente da renda (art. 14, II, Portaria Normativa nº 18/2012), tenham cursado integralmente o ensino médio em escolas públicas (Lei nº12.711/2012)'}), confidence=0.375, lift=2.203125), OrderedStatistic(items_base=frozenset({'SiSU L6 (SGC L4) NaN Candidatos autodeclarados pretos, pardos ou indígenas que, independente da renda (art. 14, II, Portaria Normativa nº 18/2012), tenham cursado integralmente o ensino médio em escolas públicas (Lei nº12.711/2012)', 'Pública'}), items_add=frozenset({'Parda'}), confidence=0.75, lift=2.0735294117647056)]),\n",
       " RelationRecord(items=frozenset({'SP', 'Parda', 'SiSU L6 (SGC L4) NaN Candidatos autodeclarados pretos, pardos ou indígenas que, independente da renda (art. 14, II, Portaria Normativa nº 18/2012), tenham cursado integralmente o ensino médio em escolas públicas (Lei nº12.711/2012)'}), support=0.1276595744680851, ordered_statistics=[OrderedStatistic(items_base=frozenset({'Parda'}), items_add=frozenset({'SP', 'SiSU L6 (SGC L4) NaN Candidatos autodeclarados pretos, pardos ou indígenas que, independente da renda (art. 14, II, Portaria Normativa nº 18/2012), tenham cursado integralmente o ensino médio em escolas públicas (Lei nº12.711/2012)'}), confidence=0.3529411764705882, lift=2.0735294117647056), OrderedStatistic(items_base=frozenset({'SiSU L6 (SGC L4) NaN Candidatos autodeclarados pretos, pardos ou indígenas que, independente da renda (art. 14, II, Portaria Normativa nº 18/2012), tenham cursado integralmente o ensino médio em escolas públicas (Lei nº12.711/2012)'}), items_add=frozenset({'SP', 'Parda'}), confidence=0.75, lift=2.0735294117647056), OrderedStatistic(items_base=frozenset({'SP', 'Parda'}), items_add=frozenset({'SiSU L6 (SGC L4) NaN Candidatos autodeclarados pretos, pardos ou indígenas que, independente da renda (art. 14, II, Portaria Normativa nº 18/2012), tenham cursado integralmente o ensino médio em escolas públicas (Lei nº12.711/2012)'}), confidence=0.3529411764705882, lift=2.0735294117647056), OrderedStatistic(items_base=frozenset({'SP', 'SiSU L6 (SGC L4) NaN Candidatos autodeclarados pretos, pardos ou indígenas que, independente da renda (art. 14, II, Portaria Normativa nº 18/2012), tenham cursado integralmente o ensino médio em escolas públicas (Lei nº12.711/2012)'}), items_add=frozenset({'Parda'}), confidence=0.75, lift=2.0735294117647056)]),\n",
       " RelationRecord(items=frozenset({'Branca', 'M', 'SiSU L1 (SGC L1) NaN Candidatos com renda familiar bruta per capita igual ou inferior a 1,5 salário mínimo que tenham cursado integralmente o ensino médio em escolas públicas (Lei nº 12.711/2012)', 'Pública'}), support=0.1276595744680851, ordered_statistics=[OrderedStatistic(items_base=frozenset({'SiSU L1 (SGC L1) NaN Candidatos com renda familiar bruta per capita igual ou inferior a 1,5 salário mínimo que tenham cursado integralmente o ensino médio em escolas públicas (Lei nº 12.711/2012)'}), items_add=frozenset({'Branca', 'M', 'Pública'}), confidence=0.8571428571428571, lift=3.0989010989010985), OrderedStatistic(items_base=frozenset({'Branca', 'Pública'}), items_add=frozenset({'M', 'SiSU L1 (SGC L1) NaN Candidatos com renda familiar bruta per capita igual ou inferior a 1,5 salário mínimo que tenham cursado integralmente o ensino médio em escolas públicas (Lei nº 12.711/2012)'}), confidence=0.4615384615384615, lift=3.098901098901099), OrderedStatistic(items_base=frozenset({'M', 'SiSU L1 (SGC L1) NaN Candidatos com renda familiar bruta per capita igual ou inferior a 1,5 salário mínimo que tenham cursado integralmente o ensino médio em escolas públicas (Lei nº 12.711/2012)'}), items_add=frozenset({'Branca', 'Pública'}), confidence=0.8571428571428571, lift=3.0989010989010985), OrderedStatistic(items_base=frozenset({'Branca', 'M', 'Pública'}), items_add=frozenset({'SiSU L1 (SGC L1) NaN Candidatos com renda familiar bruta per capita igual ou inferior a 1,5 salário mínimo que tenham cursado integralmente o ensino médio em escolas públicas (Lei nº 12.711/2012)'}), confidence=0.4615384615384615, lift=3.098901098901099)]),\n",
       " RelationRecord(items=frozenset({'SP', 'Branca', 'M', 'SiSU L1 (SGC L1) NaN Candidatos com renda familiar bruta per capita igual ou inferior a 1,5 salário mínimo que tenham cursado integralmente o ensino médio em escolas públicas (Lei nº 12.711/2012)'}), support=0.1276595744680851, ordered_statistics=[OrderedStatistic(items_base=frozenset({'SiSU L1 (SGC L1) NaN Candidatos com renda familiar bruta per capita igual ou inferior a 1,5 salário mínimo que tenham cursado integralmente o ensino médio em escolas públicas (Lei nº 12.711/2012)'}), items_add=frozenset({'SP', 'Branca', 'M'}), confidence=0.8571428571428571, lift=2.1203007518796992), OrderedStatistic(items_base=frozenset({'SP', 'Branca', 'M'}), items_add=frozenset({'SiSU L1 (SGC L1) NaN Candidatos com renda familiar bruta per capita igual ou inferior a 1,5 salário mínimo que tenham cursado integralmente o ensino médio em escolas públicas (Lei nº 12.711/2012)'}), confidence=0.3157894736842105, lift=2.1203007518796992)]),\n",
       " RelationRecord(items=frozenset({'SP', 'Branca', 'SiSU L1 (SGC L1) NaN Candidatos com renda familiar bruta per capita igual ou inferior a 1,5 salário mínimo que tenham cursado integralmente o ensino médio em escolas públicas (Lei nº 12.711/2012)', 'Pública'}), support=0.1276595744680851, ordered_statistics=[OrderedStatistic(items_base=frozenset({'SiSU L1 (SGC L1) NaN Candidatos com renda familiar bruta per capita igual ou inferior a 1,5 salário mínimo que tenham cursado integralmente o ensino médio em escolas públicas (Lei nº 12.711/2012)'}), items_add=frozenset({'SP', 'Branca', 'Pública'}), confidence=0.8571428571428571, lift=3.0989010989010985), OrderedStatistic(items_base=frozenset({'Branca', 'Pública'}), items_add=frozenset({'SP', 'SiSU L1 (SGC L1) NaN Candidatos com renda familiar bruta per capita igual ou inferior a 1,5 salário mínimo que tenham cursado integralmente o ensino médio em escolas públicas (Lei nº 12.711/2012)'}), confidence=0.4615384615384615, lift=3.098901098901099), OrderedStatistic(items_base=frozenset({'SP', 'SiSU L1 (SGC L1) NaN Candidatos com renda familiar bruta per capita igual ou inferior a 1,5 salário mínimo que tenham cursado integralmente o ensino médio em escolas públicas (Lei nº 12.711/2012)'}), items_add=frozenset({'Branca', 'Pública'}), confidence=0.8571428571428571, lift=3.0989010989010985), OrderedStatistic(items_base=frozenset({'SP', 'Branca', 'Pública'}), items_add=frozenset({'SiSU L1 (SGC L1) NaN Candidatos com renda familiar bruta per capita igual ou inferior a 1,5 salário mínimo que tenham cursado integralmente o ensino médio em escolas públicas (Lei nº 12.711/2012)'}), confidence=0.4615384615384615, lift=3.098901098901099)]),\n",
       " RelationRecord(items=frozenset({'SP', 'Parda', 'SiSU L6 (SGC L4) NaN Candidatos autodeclarados pretos, pardos ou indígenas que, independente da renda (art. 14, II, Portaria Normativa nº 18/2012), tenham cursado integralmente o ensino médio em escolas públicas (Lei nº12.711/2012)', 'Pública'}), support=0.1276595744680851, ordered_statistics=[OrderedStatistic(items_base=frozenset({'Parda'}), items_add=frozenset({'SP', 'SiSU L6 (SGC L4) NaN Candidatos autodeclarados pretos, pardos ou indígenas que, independente da renda (art. 14, II, Portaria Normativa nº 18/2012), tenham cursado integralmente o ensino médio em escolas públicas (Lei nº12.711/2012)', 'Pública'}), confidence=0.3529411764705882, lift=2.0735294117647056), OrderedStatistic(items_base=frozenset({'SiSU L6 (SGC L4) NaN Candidatos autodeclarados pretos, pardos ou indígenas que, independente da renda (art. 14, II, Portaria Normativa nº 18/2012), tenham cursado integralmente o ensino médio em escolas públicas (Lei nº12.711/2012)'}), items_add=frozenset({'SP', 'Parda', 'Pública'}), confidence=0.75, lift=2.203125), OrderedStatistic(items_base=frozenset({'Parda', 'Pública'}), items_add=frozenset({'SP', 'SiSU L6 (SGC L4) NaN Candidatos autodeclarados pretos, pardos ou indígenas que, independente da renda (art. 14, II, Portaria Normativa nº 18/2012), tenham cursado integralmente o ensino médio em escolas públicas (Lei nº12.711/2012)'}), confidence=0.375, lift=2.203125), OrderedStatistic(items_base=frozenset({'SP', 'Parda'}), items_add=frozenset({'SiSU L6 (SGC L4) NaN Candidatos autodeclarados pretos, pardos ou indígenas que, independente da renda (art. 14, II, Portaria Normativa nº 18/2012), tenham cursado integralmente o ensino médio em escolas públicas (Lei nº12.711/2012)', 'Pública'}), confidence=0.3529411764705882, lift=2.0735294117647056), OrderedStatistic(items_base=frozenset({'SiSU L6 (SGC L4) NaN Candidatos autodeclarados pretos, pardos ou indígenas que, independente da renda (art. 14, II, Portaria Normativa nº 18/2012), tenham cursado integralmente o ensino médio em escolas públicas (Lei nº12.711/2012)', 'Pública'}), items_add=frozenset({'SP', 'Parda'}), confidence=0.75, lift=2.0735294117647056), OrderedStatistic(items_base=frozenset({'SP', 'SiSU L6 (SGC L4) NaN Candidatos autodeclarados pretos, pardos ou indígenas que, independente da renda (art. 14, II, Portaria Normativa nº 18/2012), tenham cursado integralmente o ensino médio em escolas públicas (Lei nº12.711/2012)'}), items_add=frozenset({'Parda', 'Pública'}), confidence=0.75, lift=2.203125), OrderedStatistic(items_base=frozenset({'SP', 'Parda', 'Pública'}), items_add=frozenset({'SiSU L6 (SGC L4) NaN Candidatos autodeclarados pretos, pardos ou indígenas que, independente da renda (art. 14, II, Portaria Normativa nº 18/2012), tenham cursado integralmente o ensino médio em escolas públicas (Lei nº12.711/2012)'}), confidence=0.375, lift=2.203125), OrderedStatistic(items_base=frozenset({'SP', 'SiSU L6 (SGC L4) NaN Candidatos autodeclarados pretos, pardos ou indígenas que, independente da renda (art. 14, II, Portaria Normativa nº 18/2012), tenham cursado integralmente o ensino médio em escolas públicas (Lei nº12.711/2012)', 'Pública'}), items_add=frozenset({'Parda'}), confidence=0.75, lift=2.0735294117647056)]),\n",
       " RelationRecord(items=frozenset({'SP', 'Branca', 'M', 'SiSU L1 (SGC L1) NaN Candidatos com renda familiar bruta per capita igual ou inferior a 1,5 salário mínimo que tenham cursado integralmente o ensino médio em escolas públicas (Lei nº 12.711/2012)', 'Pública'}), support=0.1276595744680851, ordered_statistics=[OrderedStatistic(items_base=frozenset({'SiSU L1 (SGC L1) NaN Candidatos com renda familiar bruta per capita igual ou inferior a 1,5 salário mínimo que tenham cursado integralmente o ensino médio em escolas públicas (Lei nº 12.711/2012)'}), items_add=frozenset({'SP', 'Branca', 'M', 'Pública'}), confidence=0.8571428571428571, lift=3.0989010989010985), OrderedStatistic(items_base=frozenset({'Branca', 'Pública'}), items_add=frozenset({'SP', 'M', 'SiSU L1 (SGC L1) NaN Candidatos com renda familiar bruta per capita igual ou inferior a 1,5 salário mínimo que tenham cursado integralmente o ensino médio em escolas públicas (Lei nº 12.711/2012)'}), confidence=0.4615384615384615, lift=3.098901098901099), OrderedStatistic(items_base=frozenset({'M', 'SiSU L1 (SGC L1) NaN Candidatos com renda familiar bruta per capita igual ou inferior a 1,5 salário mínimo que tenham cursado integralmente o ensino médio em escolas públicas (Lei nº 12.711/2012)'}), items_add=frozenset({'SP', 'Branca', 'Pública'}), confidence=0.8571428571428571, lift=3.0989010989010985), OrderedStatistic(items_base=frozenset({'SiSU L1 (SGC L1) NaN Candidatos com renda familiar bruta per capita igual ou inferior a 1,5 salário mínimo que tenham cursado integralmente o ensino médio em escolas públicas (Lei nº 12.711/2012)', 'Pública'}), items_add=frozenset({'SP', 'Branca', 'M'}), confidence=0.8571428571428571, lift=2.1203007518796992), OrderedStatistic(items_base=frozenset({'SP', 'SiSU L1 (SGC L1) NaN Candidatos com renda familiar bruta per capita igual ou inferior a 1,5 salário mínimo que tenham cursado integralmente o ensino médio em escolas públicas (Lei nº 12.711/2012)'}), items_add=frozenset({'Branca', 'M', 'Pública'}), confidence=0.8571428571428571, lift=3.0989010989010985), OrderedStatistic(items_base=frozenset({'Branca', 'M', 'Pública'}), items_add=frozenset({'SP', 'SiSU L1 (SGC L1) NaN Candidatos com renda familiar bruta per capita igual ou inferior a 1,5 salário mínimo que tenham cursado integralmente o ensino médio em escolas públicas (Lei nº 12.711/2012)'}), confidence=0.4615384615384615, lift=3.098901098901099), OrderedStatistic(items_base=frozenset({'SP', 'Branca', 'M'}), items_add=frozenset({'SiSU L1 (SGC L1) NaN Candidatos com renda familiar bruta per capita igual ou inferior a 1,5 salário mínimo que tenham cursado integralmente o ensino médio em escolas públicas (Lei nº 12.711/2012)', 'Pública'}), confidence=0.3157894736842105, lift=2.1203007518796992), OrderedStatistic(items_base=frozenset({'SP', 'Branca', 'Pública'}), items_add=frozenset({'M', 'SiSU L1 (SGC L1) NaN Candidatos com renda familiar bruta per capita igual ou inferior a 1,5 salário mínimo que tenham cursado integralmente o ensino médio em escolas públicas (Lei nº 12.711/2012)'}), confidence=0.4615384615384615, lift=3.098901098901099), OrderedStatistic(items_base=frozenset({'SP', 'M', 'SiSU L1 (SGC L1) NaN Candidatos com renda familiar bruta per capita igual ou inferior a 1,5 salário mínimo que tenham cursado integralmente o ensino médio em escolas públicas (Lei nº 12.711/2012)'}), items_add=frozenset({'Branca', 'Pública'}), confidence=0.8571428571428571, lift=3.0989010989010985), OrderedStatistic(items_base=frozenset({'SP', 'Branca', 'M', 'Pública'}), items_add=frozenset({'SiSU L1 (SGC L1) NaN Candidatos com renda familiar bruta per capita igual ou inferior a 1,5 salário mínimo que tenham cursado integralmente o ensino médio em escolas públicas (Lei nº 12.711/2012)'}), confidence=0.4615384615384615, lift=3.098901098901099)])]"
      ]
     },
     "execution_count": 249,
     "metadata": {},
     "output_type": "execute_result"
    }
   ],
   "source": [
    "resultados"
   ]
  },
  {
   "cell_type": "code",
   "execution_count": 206,
   "metadata": {
    "tags": []
   },
   "outputs": [],
   "source": [
    "# Alunos formados em engenharia elétrica\n",
    "dados_EleForm = dados_Ele[dados_Ele['Situação no Curso']=='Formado']"
   ]
  },
  {
   "cell_type": "code",
   "execution_count": 221,
   "metadata": {
    "tags": []
   },
   "outputs": [
    {
     "data": {
      "text/html": [
       "<div>\n",
       "<style scoped>\n",
       "    .dataframe tbody tr th:only-of-type {\n",
       "        vertical-align: middle;\n",
       "    }\n",
       "\n",
       "    .dataframe tbody tr th {\n",
       "        vertical-align: top;\n",
       "    }\n",
       "\n",
       "    .dataframe thead th {\n",
       "        text-align: right;\n",
       "    }\n",
       "</style>\n",
       "<table border=\"1\" class=\"dataframe\">\n",
       "  <thead>\n",
       "    <tr style=\"text-align: right;\">\n",
       "      <th></th>\n",
       "      <th>#</th>\n",
       "      <th>Matrícula</th>\n",
       "      <th>Ano de Ingresso</th>\n",
       "      <th>Estado</th>\n",
       "      <th>Etnia/Raça/Cor</th>\n",
       "      <th>Forma de Ingresso</th>\n",
       "      <th>Modalidade</th>\n",
       "      <th>Renda Per Capita</th>\n",
       "      <th>Sexo</th>\n",
       "      <th>Tipo de Escola de Origem</th>\n",
       "    </tr>\n",
       "  </thead>\n",
       "  <tbody>\n",
       "    <tr>\n",
       "      <th>929</th>\n",
       "      <td>930</td>\n",
       "      <td>ST1715194</td>\n",
       "      <td>2017</td>\n",
       "      <td>SP</td>\n",
       "      <td>Parda</td>\n",
       "      <td>SiSU L2 (SGC L2) NaN Candidatos autodeclarados...</td>\n",
       "      <td>Bacharelado</td>\n",
       "      <td>1,07</td>\n",
       "      <td>M</td>\n",
       "      <td>Pública</td>\n",
       "    </tr>\n",
       "    <tr>\n",
       "      <th>1209</th>\n",
       "      <td>1210</td>\n",
       "      <td>ST3001954</td>\n",
       "      <td>2018</td>\n",
       "      <td>SP</td>\n",
       "      <td>Branca</td>\n",
       "      <td>Seleção Geral Graduação (SiSU) (Inativa)</td>\n",
       "      <td>Bacharelado</td>\n",
       "      <td>NaN</td>\n",
       "      <td>M</td>\n",
       "      <td>Privada</td>\n",
       "    </tr>\n",
       "    <tr>\n",
       "      <th>1665</th>\n",
       "      <td>1666</td>\n",
       "      <td>ST171533X</td>\n",
       "      <td>2017</td>\n",
       "      <td>SP</td>\n",
       "      <td>Branca</td>\n",
       "      <td>Seleção Geral Graduação (SiSU) (Inativa)</td>\n",
       "      <td>Bacharelado</td>\n",
       "      <td>1,14</td>\n",
       "      <td>M</td>\n",
       "      <td>Privada</td>\n",
       "    </tr>\n",
       "    <tr>\n",
       "      <th>1951</th>\n",
       "      <td>1952</td>\n",
       "      <td>ST3007189</td>\n",
       "      <td>2019</td>\n",
       "      <td>SP</td>\n",
       "      <td>Branca</td>\n",
       "      <td>Transferência Facultativa</td>\n",
       "      <td>Bacharelado</td>\n",
       "      <td>2</td>\n",
       "      <td>M</td>\n",
       "      <td>Privada</td>\n",
       "    </tr>\n",
       "    <tr>\n",
       "      <th>2438</th>\n",
       "      <td>2439</td>\n",
       "      <td>ST1715437</td>\n",
       "      <td>2017</td>\n",
       "      <td>SP</td>\n",
       "      <td>Branca</td>\n",
       "      <td>SiSU L5 (SGC L3) NaN Candidatos que, independe...</td>\n",
       "      <td>Bacharelado</td>\n",
       "      <td>1,33</td>\n",
       "      <td>M</td>\n",
       "      <td>Pública</td>\n",
       "    </tr>\n",
       "    <tr>\n",
       "      <th>2744</th>\n",
       "      <td>2745</td>\n",
       "      <td>ST3000818</td>\n",
       "      <td>2018</td>\n",
       "      <td>SP</td>\n",
       "      <td>Não declarado</td>\n",
       "      <td>SiSU L1 (SGC L1) NaN Candidatos com renda fami...</td>\n",
       "      <td>Bacharelado</td>\n",
       "      <td>0,45</td>\n",
       "      <td>M</td>\n",
       "      <td>Pública</td>\n",
       "    </tr>\n",
       "    <tr>\n",
       "      <th>3004</th>\n",
       "      <td>3005</td>\n",
       "      <td>ST3002365</td>\n",
       "      <td>2018</td>\n",
       "      <td>SP</td>\n",
       "      <td>Branca</td>\n",
       "      <td>SiSU L1 (SGC L1) NaN Candidatos com renda fami...</td>\n",
       "      <td>Bacharelado</td>\n",
       "      <td>1,4</td>\n",
       "      <td>M</td>\n",
       "      <td>Pública</td>\n",
       "    </tr>\n",
       "    <tr>\n",
       "      <th>3059</th>\n",
       "      <td>3060</td>\n",
       "      <td>ST1715291</td>\n",
       "      <td>2017</td>\n",
       "      <td>SP</td>\n",
       "      <td>Branca</td>\n",
       "      <td>Seleção Geral Graduação (SiSU) (Inativa)</td>\n",
       "      <td>Bacharelado</td>\n",
       "      <td>1,25</td>\n",
       "      <td>M</td>\n",
       "      <td>Privada</td>\n",
       "    </tr>\n",
       "    <tr>\n",
       "      <th>3637</th>\n",
       "      <td>3638</td>\n",
       "      <td>ST1715216</td>\n",
       "      <td>2017</td>\n",
       "      <td>SP</td>\n",
       "      <td>Parda</td>\n",
       "      <td>SiSU L2 (SGC L2) NaN Candidatos autodeclarados...</td>\n",
       "      <td>Bacharelado</td>\n",
       "      <td>0,4</td>\n",
       "      <td>M</td>\n",
       "      <td>Pública</td>\n",
       "    </tr>\n",
       "    <tr>\n",
       "      <th>3684</th>\n",
       "      <td>3685</td>\n",
       "      <td>ST1715372</td>\n",
       "      <td>2017</td>\n",
       "      <td>SP</td>\n",
       "      <td>Branca</td>\n",
       "      <td>Seleção Geral Graduação (SiSU) (Inativa)</td>\n",
       "      <td>Bacharelado</td>\n",
       "      <td>1,55</td>\n",
       "      <td>M</td>\n",
       "      <td>Privada</td>\n",
       "    </tr>\n",
       "    <tr>\n",
       "      <th>4596</th>\n",
       "      <td>4597</td>\n",
       "      <td>ST1715267</td>\n",
       "      <td>2017</td>\n",
       "      <td>SP</td>\n",
       "      <td>Branca</td>\n",
       "      <td>Seleção Geral Graduação (SiSU) (Inativa)</td>\n",
       "      <td>Bacharelado</td>\n",
       "      <td>1,01</td>\n",
       "      <td>M</td>\n",
       "      <td>Privada</td>\n",
       "    </tr>\n",
       "    <tr>\n",
       "      <th>4845</th>\n",
       "      <td>4846</td>\n",
       "      <td>ST1715046</td>\n",
       "      <td>2017</td>\n",
       "      <td>SP</td>\n",
       "      <td>Parda</td>\n",
       "      <td>SiSU L2 (SGC L2) NaN Candidatos autodeclarados...</td>\n",
       "      <td>Bacharelado</td>\n",
       "      <td>0,94</td>\n",
       "      <td>M</td>\n",
       "      <td>Pública</td>\n",
       "    </tr>\n",
       "    <tr>\n",
       "      <th>5159</th>\n",
       "      <td>5160</td>\n",
       "      <td>ST1715321</td>\n",
       "      <td>2017</td>\n",
       "      <td>SP</td>\n",
       "      <td>Branca</td>\n",
       "      <td>SiSU L1 (SGC L1) NaN Candidatos com renda fami...</td>\n",
       "      <td>Bacharelado</td>\n",
       "      <td>0,66</td>\n",
       "      <td>M</td>\n",
       "      <td>Pública</td>\n",
       "    </tr>\n",
       "    <tr>\n",
       "      <th>5554</th>\n",
       "      <td>5555</td>\n",
       "      <td>ST3000851</td>\n",
       "      <td>2018</td>\n",
       "      <td>SP</td>\n",
       "      <td>Parda</td>\n",
       "      <td>SiSU L2 (SGC L2) NaN Candidatos autodeclarados...</td>\n",
       "      <td>Bacharelado</td>\n",
       "      <td>0,38</td>\n",
       "      <td>M</td>\n",
       "      <td>Pública</td>\n",
       "    </tr>\n",
       "    <tr>\n",
       "      <th>5749</th>\n",
       "      <td>5750</td>\n",
       "      <td>ST1715313</td>\n",
       "      <td>2017</td>\n",
       "      <td>SP</td>\n",
       "      <td>Branca</td>\n",
       "      <td>SiSU L1 (SGC L1) NaN Candidatos com renda fami...</td>\n",
       "      <td>Bacharelado</td>\n",
       "      <td>0,67</td>\n",
       "      <td>M</td>\n",
       "      <td>Pública</td>\n",
       "    </tr>\n",
       "    <tr>\n",
       "      <th>5836</th>\n",
       "      <td>5837</td>\n",
       "      <td>ST1715259</td>\n",
       "      <td>2017</td>\n",
       "      <td>SP</td>\n",
       "      <td>Branca</td>\n",
       "      <td>SiSU L5 (SGC L3) NaN Candidatos que, independe...</td>\n",
       "      <td>Bacharelado</td>\n",
       "      <td>2,13</td>\n",
       "      <td>M</td>\n",
       "      <td>Pública</td>\n",
       "    </tr>\n",
       "    <tr>\n",
       "      <th>5891</th>\n",
       "      <td>5892</td>\n",
       "      <td>ST1715208</td>\n",
       "      <td>2017</td>\n",
       "      <td>SP</td>\n",
       "      <td>Branca</td>\n",
       "      <td>SiSU L1 (SGC L1) NaN Candidatos com renda fami...</td>\n",
       "      <td>Bacharelado</td>\n",
       "      <td>0,75</td>\n",
       "      <td>M</td>\n",
       "      <td>Pública</td>\n",
       "    </tr>\n",
       "    <tr>\n",
       "      <th>5907</th>\n",
       "      <td>5908</td>\n",
       "      <td>ST3000621</td>\n",
       "      <td>2018</td>\n",
       "      <td>SP</td>\n",
       "      <td>Branca</td>\n",
       "      <td>Processo Seletivo Simplificado (Inativa)</td>\n",
       "      <td>Bacharelado</td>\n",
       "      <td>NaN</td>\n",
       "      <td>M</td>\n",
       "      <td>Pública</td>\n",
       "    </tr>\n",
       "    <tr>\n",
       "      <th>6232</th>\n",
       "      <td>6233</td>\n",
       "      <td>ST1715097</td>\n",
       "      <td>2017</td>\n",
       "      <td>SP</td>\n",
       "      <td>Branca</td>\n",
       "      <td>SiSU L1 (SGC L1) NaN Candidatos com renda fami...</td>\n",
       "      <td>Bacharelado</td>\n",
       "      <td>0,84</td>\n",
       "      <td>M</td>\n",
       "      <td>Pública</td>\n",
       "    </tr>\n",
       "    <tr>\n",
       "      <th>6861</th>\n",
       "      <td>6862</td>\n",
       "      <td>ST1715135</td>\n",
       "      <td>2017</td>\n",
       "      <td>SP</td>\n",
       "      <td>Branca</td>\n",
       "      <td>Seleção Geral Graduação (SiSU) (Inativa)</td>\n",
       "      <td>Bacharelado</td>\n",
       "      <td>0,17</td>\n",
       "      <td>M</td>\n",
       "      <td>Privada</td>\n",
       "    </tr>\n",
       "    <tr>\n",
       "      <th>7816</th>\n",
       "      <td>7817</td>\n",
       "      <td>ST3002055</td>\n",
       "      <td>2018</td>\n",
       "      <td>SP</td>\n",
       "      <td>Branca</td>\n",
       "      <td>Seleção Geral Graduação (SiSU) (Inativa)</td>\n",
       "      <td>Bacharelado</td>\n",
       "      <td>0,01</td>\n",
       "      <td>M</td>\n",
       "      <td>Privada</td>\n",
       "    </tr>\n",
       "    <tr>\n",
       "      <th>8575</th>\n",
       "      <td>8576</td>\n",
       "      <td>ST3000729</td>\n",
       "      <td>2018</td>\n",
       "      <td>SP</td>\n",
       "      <td>Não declarado</td>\n",
       "      <td>Seleção Geral Graduação (SiSU) (Inativa)</td>\n",
       "      <td>Bacharelado</td>\n",
       "      <td>0,49</td>\n",
       "      <td>M</td>\n",
       "      <td>Privada</td>\n",
       "    </tr>\n",
       "    <tr>\n",
       "      <th>8901</th>\n",
       "      <td>8902</td>\n",
       "      <td>ST1715038</td>\n",
       "      <td>2017</td>\n",
       "      <td>SP</td>\n",
       "      <td>Branca</td>\n",
       "      <td>Seleção Geral Graduação (SiSU) (Inativa)</td>\n",
       "      <td>Bacharelado</td>\n",
       "      <td>1,26</td>\n",
       "      <td>M</td>\n",
       "      <td>Privada</td>\n",
       "    </tr>\n",
       "    <tr>\n",
       "      <th>9238</th>\n",
       "      <td>9239</td>\n",
       "      <td>ST3000826</td>\n",
       "      <td>2018</td>\n",
       "      <td>SP</td>\n",
       "      <td>Não declarado</td>\n",
       "      <td>SiSU L5 (SGC L3) NaN Candidatos que, independe...</td>\n",
       "      <td>Bacharelado</td>\n",
       "      <td>0,42</td>\n",
       "      <td>M</td>\n",
       "      <td>Pública</td>\n",
       "    </tr>\n",
       "    <tr>\n",
       "      <th>9504</th>\n",
       "      <td>9505</td>\n",
       "      <td>ST1715054</td>\n",
       "      <td>2017</td>\n",
       "      <td>SP</td>\n",
       "      <td>Branca</td>\n",
       "      <td>Seleção Geral Graduação (SiSU) (Inativa)</td>\n",
       "      <td>Bacharelado</td>\n",
       "      <td>4</td>\n",
       "      <td>M</td>\n",
       "      <td>Pública</td>\n",
       "    </tr>\n",
       "    <tr>\n",
       "      <th>9672</th>\n",
       "      <td>9673</td>\n",
       "      <td>ST3000605</td>\n",
       "      <td>2018</td>\n",
       "      <td>SP</td>\n",
       "      <td>Branca</td>\n",
       "      <td>Transferência Facultativa</td>\n",
       "      <td>Bacharelado</td>\n",
       "      <td>206,27</td>\n",
       "      <td>M</td>\n",
       "      <td>Pública</td>\n",
       "    </tr>\n",
       "    <tr>\n",
       "      <th>9701</th>\n",
       "      <td>9702</td>\n",
       "      <td>ST1715305</td>\n",
       "      <td>2017</td>\n",
       "      <td>SP</td>\n",
       "      <td>Branca</td>\n",
       "      <td>SiSU L5 (SGC L3) NaN Candidatos que, independe...</td>\n",
       "      <td>Bacharelado</td>\n",
       "      <td>0,74</td>\n",
       "      <td>M</td>\n",
       "      <td>Pública</td>\n",
       "    </tr>\n",
       "    <tr>\n",
       "      <th>10132</th>\n",
       "      <td>10133</td>\n",
       "      <td>ST3002501</td>\n",
       "      <td>2018</td>\n",
       "      <td>SP</td>\n",
       "      <td>Parda</td>\n",
       "      <td>SiSU L1 (SGC L1) NaN Candidatos com renda fami...</td>\n",
       "      <td>Bacharelado</td>\n",
       "      <td>0,46</td>\n",
       "      <td>M</td>\n",
       "      <td>Pública</td>\n",
       "    </tr>\n",
       "    <tr>\n",
       "      <th>10541</th>\n",
       "      <td>10542</td>\n",
       "      <td>ST3002101</td>\n",
       "      <td>2018</td>\n",
       "      <td>SP</td>\n",
       "      <td>Não declarado</td>\n",
       "      <td>Seleção Geral Graduação (SiSU) (Inativa)</td>\n",
       "      <td>Bacharelado</td>\n",
       "      <td>0</td>\n",
       "      <td>M</td>\n",
       "      <td>Privada</td>\n",
       "    </tr>\n",
       "    <tr>\n",
       "      <th>11366</th>\n",
       "      <td>11367</td>\n",
       "      <td>ST1715348</td>\n",
       "      <td>2017</td>\n",
       "      <td>RJ</td>\n",
       "      <td>Branca</td>\n",
       "      <td>Seleção Geral Graduação (SiSU) (Inativa)</td>\n",
       "      <td>Bacharelado</td>\n",
       "      <td>9,09</td>\n",
       "      <td>M</td>\n",
       "      <td>Privada</td>\n",
       "    </tr>\n",
       "    <tr>\n",
       "      <th>11450</th>\n",
       "      <td>11451</td>\n",
       "      <td>ST3000761</td>\n",
       "      <td>2018</td>\n",
       "      <td>SP</td>\n",
       "      <td>Não declarado</td>\n",
       "      <td>Seleção Geral Graduação (SiSU) (Inativa)</td>\n",
       "      <td>Bacharelado</td>\n",
       "      <td>1,67</td>\n",
       "      <td>M</td>\n",
       "      <td>Privada</td>\n",
       "    </tr>\n",
       "    <tr>\n",
       "      <th>11489</th>\n",
       "      <td>11490</td>\n",
       "      <td>ST3000681</td>\n",
       "      <td>2018</td>\n",
       "      <td>SP</td>\n",
       "      <td>Não declarado</td>\n",
       "      <td>SiSU L5 (SGC L3) NaN Candidatos que, independe...</td>\n",
       "      <td>Bacharelado</td>\n",
       "      <td>0</td>\n",
       "      <td>M</td>\n",
       "      <td>Pública</td>\n",
       "    </tr>\n",
       "    <tr>\n",
       "      <th>11630</th>\n",
       "      <td>11631</td>\n",
       "      <td>ST3000001</td>\n",
       "      <td>2017</td>\n",
       "      <td>SP</td>\n",
       "      <td>Parda</td>\n",
       "      <td>SiSU L5 (SGC L3) NaN Candidatos que, independe...</td>\n",
       "      <td>Bacharelado</td>\n",
       "      <td>1,07</td>\n",
       "      <td>M</td>\n",
       "      <td>Pública</td>\n",
       "    </tr>\n",
       "    <tr>\n",
       "      <th>11758</th>\n",
       "      <td>11759</td>\n",
       "      <td>ST1715275</td>\n",
       "      <td>2017</td>\n",
       "      <td>SP</td>\n",
       "      <td>Preta</td>\n",
       "      <td>SiSU L6 (SGC L4) NaN Candidatos autodeclarados...</td>\n",
       "      <td>Bacharelado</td>\n",
       "      <td>0,41</td>\n",
       "      <td>M</td>\n",
       "      <td>Pública</td>\n",
       "    </tr>\n",
       "    <tr>\n",
       "      <th>11782</th>\n",
       "      <td>11783</td>\n",
       "      <td>ST1715071</td>\n",
       "      <td>2017</td>\n",
       "      <td>SP</td>\n",
       "      <td>Parda</td>\n",
       "      <td>Seleção Geral Graduação (SiSU) (Inativa)</td>\n",
       "      <td>Bacharelado</td>\n",
       "      <td>2,27</td>\n",
       "      <td>M</td>\n",
       "      <td>Privada</td>\n",
       "    </tr>\n",
       "  </tbody>\n",
       "</table>\n",
       "</div>"
      ],
      "text/plain": [
       "           #  Matrícula  Ano de Ingresso Estado Etnia/Raça/Cor  \\\n",
       "929      930  ST1715194             2017     SP          Parda   \n",
       "1209    1210  ST3001954             2018     SP         Branca   \n",
       "1665    1666  ST171533X             2017     SP         Branca   \n",
       "1951    1952  ST3007189             2019     SP         Branca   \n",
       "2438    2439  ST1715437             2017     SP         Branca   \n",
       "2744    2745  ST3000818             2018     SP  Não declarado   \n",
       "3004    3005  ST3002365             2018     SP         Branca   \n",
       "3059    3060  ST1715291             2017     SP         Branca   \n",
       "3637    3638  ST1715216             2017     SP          Parda   \n",
       "3684    3685  ST1715372             2017     SP         Branca   \n",
       "4596    4597  ST1715267             2017     SP         Branca   \n",
       "4845    4846  ST1715046             2017     SP          Parda   \n",
       "5159    5160  ST1715321             2017     SP         Branca   \n",
       "5554    5555  ST3000851             2018     SP          Parda   \n",
       "5749    5750  ST1715313             2017     SP         Branca   \n",
       "5836    5837  ST1715259             2017     SP         Branca   \n",
       "5891    5892  ST1715208             2017     SP         Branca   \n",
       "5907    5908  ST3000621             2018     SP         Branca   \n",
       "6232    6233  ST1715097             2017     SP         Branca   \n",
       "6861    6862  ST1715135             2017     SP         Branca   \n",
       "7816    7817  ST3002055             2018     SP         Branca   \n",
       "8575    8576  ST3000729             2018     SP  Não declarado   \n",
       "8901    8902  ST1715038             2017     SP         Branca   \n",
       "9238    9239  ST3000826             2018     SP  Não declarado   \n",
       "9504    9505  ST1715054             2017     SP         Branca   \n",
       "9672    9673  ST3000605             2018     SP         Branca   \n",
       "9701    9702  ST1715305             2017     SP         Branca   \n",
       "10132  10133  ST3002501             2018     SP          Parda   \n",
       "10541  10542  ST3002101             2018     SP  Não declarado   \n",
       "11366  11367  ST1715348             2017     RJ         Branca   \n",
       "11450  11451  ST3000761             2018     SP  Não declarado   \n",
       "11489  11490  ST3000681             2018     SP  Não declarado   \n",
       "11630  11631  ST3000001             2017     SP          Parda   \n",
       "11758  11759  ST1715275             2017     SP          Preta   \n",
       "11782  11783  ST1715071             2017     SP          Parda   \n",
       "\n",
       "                                       Forma de Ingresso   Modalidade  \\\n",
       "929    SiSU L2 (SGC L2) NaN Candidatos autodeclarados...  Bacharelado   \n",
       "1209            Seleção Geral Graduação (SiSU) (Inativa)  Bacharelado   \n",
       "1665            Seleção Geral Graduação (SiSU) (Inativa)  Bacharelado   \n",
       "1951                           Transferência Facultativa  Bacharelado   \n",
       "2438   SiSU L5 (SGC L3) NaN Candidatos que, independe...  Bacharelado   \n",
       "2744   SiSU L1 (SGC L1) NaN Candidatos com renda fami...  Bacharelado   \n",
       "3004   SiSU L1 (SGC L1) NaN Candidatos com renda fami...  Bacharelado   \n",
       "3059            Seleção Geral Graduação (SiSU) (Inativa)  Bacharelado   \n",
       "3637   SiSU L2 (SGC L2) NaN Candidatos autodeclarados...  Bacharelado   \n",
       "3684            Seleção Geral Graduação (SiSU) (Inativa)  Bacharelado   \n",
       "4596            Seleção Geral Graduação (SiSU) (Inativa)  Bacharelado   \n",
       "4845   SiSU L2 (SGC L2) NaN Candidatos autodeclarados...  Bacharelado   \n",
       "5159   SiSU L1 (SGC L1) NaN Candidatos com renda fami...  Bacharelado   \n",
       "5554   SiSU L2 (SGC L2) NaN Candidatos autodeclarados...  Bacharelado   \n",
       "5749   SiSU L1 (SGC L1) NaN Candidatos com renda fami...  Bacharelado   \n",
       "5836   SiSU L5 (SGC L3) NaN Candidatos que, independe...  Bacharelado   \n",
       "5891   SiSU L1 (SGC L1) NaN Candidatos com renda fami...  Bacharelado   \n",
       "5907            Processo Seletivo Simplificado (Inativa)  Bacharelado   \n",
       "6232   SiSU L1 (SGC L1) NaN Candidatos com renda fami...  Bacharelado   \n",
       "6861            Seleção Geral Graduação (SiSU) (Inativa)  Bacharelado   \n",
       "7816            Seleção Geral Graduação (SiSU) (Inativa)  Bacharelado   \n",
       "8575            Seleção Geral Graduação (SiSU) (Inativa)  Bacharelado   \n",
       "8901            Seleção Geral Graduação (SiSU) (Inativa)  Bacharelado   \n",
       "9238   SiSU L5 (SGC L3) NaN Candidatos que, independe...  Bacharelado   \n",
       "9504            Seleção Geral Graduação (SiSU) (Inativa)  Bacharelado   \n",
       "9672                           Transferência Facultativa  Bacharelado   \n",
       "9701   SiSU L5 (SGC L3) NaN Candidatos que, independe...  Bacharelado   \n",
       "10132  SiSU L1 (SGC L1) NaN Candidatos com renda fami...  Bacharelado   \n",
       "10541           Seleção Geral Graduação (SiSU) (Inativa)  Bacharelado   \n",
       "11366           Seleção Geral Graduação (SiSU) (Inativa)  Bacharelado   \n",
       "11450           Seleção Geral Graduação (SiSU) (Inativa)  Bacharelado   \n",
       "11489  SiSU L5 (SGC L3) NaN Candidatos que, independe...  Bacharelado   \n",
       "11630  SiSU L5 (SGC L3) NaN Candidatos que, independe...  Bacharelado   \n",
       "11758  SiSU L6 (SGC L4) NaN Candidatos autodeclarados...  Bacharelado   \n",
       "11782           Seleção Geral Graduação (SiSU) (Inativa)  Bacharelado   \n",
       "\n",
       "      Renda Per Capita Sexo Tipo de Escola de Origem  \n",
       "929               1,07    M                  Pública  \n",
       "1209               NaN    M                  Privada  \n",
       "1665              1,14    M                  Privada  \n",
       "1951                 2    M                  Privada  \n",
       "2438              1,33    M                  Pública  \n",
       "2744              0,45    M                  Pública  \n",
       "3004               1,4    M                  Pública  \n",
       "3059              1,25    M                  Privada  \n",
       "3637               0,4    M                  Pública  \n",
       "3684              1,55    M                  Privada  \n",
       "4596              1,01    M                  Privada  \n",
       "4845              0,94    M                  Pública  \n",
       "5159              0,66    M                  Pública  \n",
       "5554              0,38    M                  Pública  \n",
       "5749              0,67    M                  Pública  \n",
       "5836              2,13    M                  Pública  \n",
       "5891              0,75    M                  Pública  \n",
       "5907               NaN    M                  Pública  \n",
       "6232              0,84    M                  Pública  \n",
       "6861              0,17    M                  Privada  \n",
       "7816              0,01    M                  Privada  \n",
       "8575              0,49    M                  Privada  \n",
       "8901              1,26    M                  Privada  \n",
       "9238              0,42    M                  Pública  \n",
       "9504                 4    M                  Pública  \n",
       "9672            206,27    M                  Pública  \n",
       "9701              0,74    M                  Pública  \n",
       "10132             0,46    M                  Pública  \n",
       "10541                0    M                  Privada  \n",
       "11366             9,09    M                  Privada  \n",
       "11450             1,67    M                  Privada  \n",
       "11489                0    M                  Pública  \n",
       "11630             1,07    M                  Pública  \n",
       "11758             0,41    M                  Pública  \n",
       "11782             2,27    M                  Privada  "
      ]
     },
     "execution_count": 221,
     "metadata": {},
     "output_type": "execute_result"
    }
   ],
   "source": [
    "dados_EleForm"
   ]
  },
  {
   "cell_type": "code",
   "execution_count": 254,
   "metadata": {},
   "outputs": [
    {
     "ename": "KeyError",
     "evalue": "\"['Situação no Curso', 'Deficiência', 'Nacionalidade', 'Descrição do Curso'] not found in axis\"",
     "output_type": "error",
     "traceback": [
      "\u001b[1;31m---------------------------------------------------------------------------\u001b[0m",
      "\u001b[1;31mKeyError\u001b[0m                                  Traceback (most recent call last)",
      "Cell \u001b[1;32mIn[254], line 1\u001b[0m\n\u001b[1;32m----> 1\u001b[0m dados_EleForm \u001b[38;5;241m=\u001b[39m dados_EleForm\u001b[38;5;241m.\u001b[39mdrop([\u001b[38;5;124m\"\u001b[39m\u001b[38;5;124mSituação no Curso\u001b[39m\u001b[38;5;124m\"\u001b[39m,\u001b[38;5;124m\"\u001b[39m\u001b[38;5;124mDeficiência\u001b[39m\u001b[38;5;124m\"\u001b[39m,\u001b[38;5;124m\"\u001b[39m\u001b[38;5;124mNacionalidade\u001b[39m\u001b[38;5;124m\"\u001b[39m,\u001b[38;5;124m\"\u001b[39m\u001b[38;5;124mDescrição do Curso\u001b[39m\u001b[38;5;124m\"\u001b[39m],axis \u001b[38;5;241m=\u001b[39m \u001b[38;5;241m1\u001b[39m)\n",
      "File \u001b[1;32m~\\anaconda3\\Anaconda\\Lib\\site-packages\\pandas\\util\\_decorators.py:331\u001b[0m, in \u001b[0;36mdeprecate_nonkeyword_arguments.<locals>.decorate.<locals>.wrapper\u001b[1;34m(*args, **kwargs)\u001b[0m\n\u001b[0;32m    325\u001b[0m \u001b[38;5;28;01mif\u001b[39;00m \u001b[38;5;28mlen\u001b[39m(args) \u001b[38;5;241m>\u001b[39m num_allow_args:\n\u001b[0;32m    326\u001b[0m     warnings\u001b[38;5;241m.\u001b[39mwarn(\n\u001b[0;32m    327\u001b[0m         msg\u001b[38;5;241m.\u001b[39mformat(arguments\u001b[38;5;241m=\u001b[39m_format_argument_list(allow_args)),\n\u001b[0;32m    328\u001b[0m         \u001b[38;5;167;01mFutureWarning\u001b[39;00m,\n\u001b[0;32m    329\u001b[0m         stacklevel\u001b[38;5;241m=\u001b[39mfind_stack_level(),\n\u001b[0;32m    330\u001b[0m     )\n\u001b[1;32m--> 331\u001b[0m \u001b[38;5;28;01mreturn\u001b[39;00m func(\u001b[38;5;241m*\u001b[39margs, \u001b[38;5;241m*\u001b[39m\u001b[38;5;241m*\u001b[39mkwargs)\n",
      "File \u001b[1;32m~\\anaconda3\\Anaconda\\Lib\\site-packages\\pandas\\core\\frame.py:5399\u001b[0m, in \u001b[0;36mDataFrame.drop\u001b[1;34m(self, labels, axis, index, columns, level, inplace, errors)\u001b[0m\n\u001b[0;32m   5251\u001b[0m \u001b[38;5;129m@deprecate_nonkeyword_arguments\u001b[39m(version\u001b[38;5;241m=\u001b[39m\u001b[38;5;28;01mNone\u001b[39;00m, allowed_args\u001b[38;5;241m=\u001b[39m[\u001b[38;5;124m\"\u001b[39m\u001b[38;5;124mself\u001b[39m\u001b[38;5;124m\"\u001b[39m, \u001b[38;5;124m\"\u001b[39m\u001b[38;5;124mlabels\u001b[39m\u001b[38;5;124m\"\u001b[39m])\n\u001b[0;32m   5252\u001b[0m \u001b[38;5;28;01mdef\u001b[39;00m \u001b[38;5;21mdrop\u001b[39m(  \u001b[38;5;66;03m# type: ignore[override]\u001b[39;00m\n\u001b[0;32m   5253\u001b[0m     \u001b[38;5;28mself\u001b[39m,\n\u001b[1;32m   (...)\u001b[0m\n\u001b[0;32m   5260\u001b[0m     errors: IgnoreRaise \u001b[38;5;241m=\u001b[39m \u001b[38;5;124m\"\u001b[39m\u001b[38;5;124mraise\u001b[39m\u001b[38;5;124m\"\u001b[39m,\n\u001b[0;32m   5261\u001b[0m ) \u001b[38;5;241m-\u001b[39m\u001b[38;5;241m>\u001b[39m DataFrame \u001b[38;5;241m|\u001b[39m \u001b[38;5;28;01mNone\u001b[39;00m:\n\u001b[0;32m   5262\u001b[0m \u001b[38;5;250m    \u001b[39m\u001b[38;5;124;03m\"\"\"\u001b[39;00m\n\u001b[0;32m   5263\u001b[0m \u001b[38;5;124;03m    Drop specified labels from rows or columns.\u001b[39;00m\n\u001b[0;32m   5264\u001b[0m \n\u001b[1;32m   (...)\u001b[0m\n\u001b[0;32m   5397\u001b[0m \u001b[38;5;124;03m            weight  1.0     0.8\u001b[39;00m\n\u001b[0;32m   5398\u001b[0m \u001b[38;5;124;03m    \"\"\"\u001b[39;00m\n\u001b[1;32m-> 5399\u001b[0m     \u001b[38;5;28;01mreturn\u001b[39;00m \u001b[38;5;28msuper\u001b[39m()\u001b[38;5;241m.\u001b[39mdrop(\n\u001b[0;32m   5400\u001b[0m         labels\u001b[38;5;241m=\u001b[39mlabels,\n\u001b[0;32m   5401\u001b[0m         axis\u001b[38;5;241m=\u001b[39maxis,\n\u001b[0;32m   5402\u001b[0m         index\u001b[38;5;241m=\u001b[39mindex,\n\u001b[0;32m   5403\u001b[0m         columns\u001b[38;5;241m=\u001b[39mcolumns,\n\u001b[0;32m   5404\u001b[0m         level\u001b[38;5;241m=\u001b[39mlevel,\n\u001b[0;32m   5405\u001b[0m         inplace\u001b[38;5;241m=\u001b[39minplace,\n\u001b[0;32m   5406\u001b[0m         errors\u001b[38;5;241m=\u001b[39merrors,\n\u001b[0;32m   5407\u001b[0m     )\n",
      "File \u001b[1;32m~\\anaconda3\\Anaconda\\Lib\\site-packages\\pandas\\util\\_decorators.py:331\u001b[0m, in \u001b[0;36mdeprecate_nonkeyword_arguments.<locals>.decorate.<locals>.wrapper\u001b[1;34m(*args, **kwargs)\u001b[0m\n\u001b[0;32m    325\u001b[0m \u001b[38;5;28;01mif\u001b[39;00m \u001b[38;5;28mlen\u001b[39m(args) \u001b[38;5;241m>\u001b[39m num_allow_args:\n\u001b[0;32m    326\u001b[0m     warnings\u001b[38;5;241m.\u001b[39mwarn(\n\u001b[0;32m    327\u001b[0m         msg\u001b[38;5;241m.\u001b[39mformat(arguments\u001b[38;5;241m=\u001b[39m_format_argument_list(allow_args)),\n\u001b[0;32m    328\u001b[0m         \u001b[38;5;167;01mFutureWarning\u001b[39;00m,\n\u001b[0;32m    329\u001b[0m         stacklevel\u001b[38;5;241m=\u001b[39mfind_stack_level(),\n\u001b[0;32m    330\u001b[0m     )\n\u001b[1;32m--> 331\u001b[0m \u001b[38;5;28;01mreturn\u001b[39;00m func(\u001b[38;5;241m*\u001b[39margs, \u001b[38;5;241m*\u001b[39m\u001b[38;5;241m*\u001b[39mkwargs)\n",
      "File \u001b[1;32m~\\anaconda3\\Anaconda\\Lib\\site-packages\\pandas\\core\\generic.py:4505\u001b[0m, in \u001b[0;36mNDFrame.drop\u001b[1;34m(self, labels, axis, index, columns, level, inplace, errors)\u001b[0m\n\u001b[0;32m   4503\u001b[0m \u001b[38;5;28;01mfor\u001b[39;00m axis, labels \u001b[38;5;129;01min\u001b[39;00m axes\u001b[38;5;241m.\u001b[39mitems():\n\u001b[0;32m   4504\u001b[0m     \u001b[38;5;28;01mif\u001b[39;00m labels \u001b[38;5;129;01mis\u001b[39;00m \u001b[38;5;129;01mnot\u001b[39;00m \u001b[38;5;28;01mNone\u001b[39;00m:\n\u001b[1;32m-> 4505\u001b[0m         obj \u001b[38;5;241m=\u001b[39m obj\u001b[38;5;241m.\u001b[39m_drop_axis(labels, axis, level\u001b[38;5;241m=\u001b[39mlevel, errors\u001b[38;5;241m=\u001b[39merrors)\n\u001b[0;32m   4507\u001b[0m \u001b[38;5;28;01mif\u001b[39;00m inplace:\n\u001b[0;32m   4508\u001b[0m     \u001b[38;5;28mself\u001b[39m\u001b[38;5;241m.\u001b[39m_update_inplace(obj)\n",
      "File \u001b[1;32m~\\anaconda3\\Anaconda\\Lib\\site-packages\\pandas\\core\\generic.py:4546\u001b[0m, in \u001b[0;36mNDFrame._drop_axis\u001b[1;34m(self, labels, axis, level, errors, only_slice)\u001b[0m\n\u001b[0;32m   4544\u001b[0m         new_axis \u001b[38;5;241m=\u001b[39m axis\u001b[38;5;241m.\u001b[39mdrop(labels, level\u001b[38;5;241m=\u001b[39mlevel, errors\u001b[38;5;241m=\u001b[39merrors)\n\u001b[0;32m   4545\u001b[0m     \u001b[38;5;28;01melse\u001b[39;00m:\n\u001b[1;32m-> 4546\u001b[0m         new_axis \u001b[38;5;241m=\u001b[39m axis\u001b[38;5;241m.\u001b[39mdrop(labels, errors\u001b[38;5;241m=\u001b[39merrors)\n\u001b[0;32m   4547\u001b[0m     indexer \u001b[38;5;241m=\u001b[39m axis\u001b[38;5;241m.\u001b[39mget_indexer(new_axis)\n\u001b[0;32m   4549\u001b[0m \u001b[38;5;66;03m# Case for non-unique axis\u001b[39;00m\n\u001b[0;32m   4550\u001b[0m \u001b[38;5;28;01melse\u001b[39;00m:\n",
      "File \u001b[1;32m~\\anaconda3\\Anaconda\\Lib\\site-packages\\pandas\\core\\indexes\\base.py:6934\u001b[0m, in \u001b[0;36mIndex.drop\u001b[1;34m(self, labels, errors)\u001b[0m\n\u001b[0;32m   6932\u001b[0m \u001b[38;5;28;01mif\u001b[39;00m mask\u001b[38;5;241m.\u001b[39many():\n\u001b[0;32m   6933\u001b[0m     \u001b[38;5;28;01mif\u001b[39;00m errors \u001b[38;5;241m!=\u001b[39m \u001b[38;5;124m\"\u001b[39m\u001b[38;5;124mignore\u001b[39m\u001b[38;5;124m\"\u001b[39m:\n\u001b[1;32m-> 6934\u001b[0m         \u001b[38;5;28;01mraise\u001b[39;00m \u001b[38;5;167;01mKeyError\u001b[39;00m(\u001b[38;5;124mf\u001b[39m\u001b[38;5;124m\"\u001b[39m\u001b[38;5;132;01m{\u001b[39;00m\u001b[38;5;28mlist\u001b[39m(labels[mask])\u001b[38;5;132;01m}\u001b[39;00m\u001b[38;5;124m not found in axis\u001b[39m\u001b[38;5;124m\"\u001b[39m)\n\u001b[0;32m   6935\u001b[0m     indexer \u001b[38;5;241m=\u001b[39m indexer[\u001b[38;5;241m~\u001b[39mmask]\n\u001b[0;32m   6936\u001b[0m \u001b[38;5;28;01mreturn\u001b[39;00m \u001b[38;5;28mself\u001b[39m\u001b[38;5;241m.\u001b[39mdelete(indexer)\n",
      "\u001b[1;31mKeyError\u001b[0m: \"['Situação no Curso', 'Deficiência', 'Nacionalidade', 'Descrição do Curso'] not found in axis\""
     ]
    }
   ],
   "source": [
    "dados_EleForm = dados_EleForm.drop([\"Situação no Curso\",\"Deficiência\",\"Nacionalidade\",\"Descrição do Curso\"],axis = 1)"
   ]
  },
  {
   "cell_type": "code",
   "execution_count": 255,
   "metadata": {
    "tags": []
   },
   "outputs": [],
   "source": [
    "dados_EleForm = dados_EleForm.drop([\"Modalidade\"],axis = 1)"
   ]
  },
  {
   "cell_type": "code",
   "execution_count": 256,
   "metadata": {
    "tags": []
   },
   "outputs": [],
   "source": [
    "Lista = []\n",
    "for i in range(len(dados_EleForm)):\n",
    "  #print(i)\n",
    "  #print(base_mercado1.values[i, 0])\n",
    "  Lista.append([str(dados_EleForm.values[i, j]) for j in range(dados_EleForm.shape[1])])"
   ]
  },
  {
   "cell_type": "code",
   "execution_count": 258,
   "metadata": {
    "tags": []
   },
   "outputs": [
    {
     "data": {
      "text/plain": [
       "6"
      ]
     },
     "execution_count": 258,
     "metadata": {},
     "output_type": "execute_result"
    }
   ],
   "source": [
    "regras = apriori(Lista, min_support = 0.25, min_confidence = 0.3, min_lift = 2)\n",
    "resultados = list(regras)\n",
    "len(resultados)"
   ]
  },
  {
   "cell_type": "code",
   "execution_count": 259,
   "metadata": {
    "tags": []
   },
   "outputs": [
    {
     "data": {
      "text/plain": [
       "[RelationRecord(items=frozenset({'Seleção Geral Graduação (SiSU) (Inativa)', 'Privada'}), support=0.37142857142857144, ordered_statistics=[OrderedStatistic(items_base=frozenset({'Privada'}), items_add=frozenset({'Seleção Geral Graduação (SiSU) (Inativa)'}), confidence=0.9285714285714286, lift=2.321428571428571), OrderedStatistic(items_base=frozenset({'Seleção Geral Graduação (SiSU) (Inativa)'}), items_add=frozenset({'Privada'}), confidence=0.9285714285714286, lift=2.321428571428571)]),\n",
       " RelationRecord(items=frozenset({'Seleção Geral Graduação (SiSU) (Inativa)', 'Privada', 'Branca'}), support=0.2571428571428571, ordered_statistics=[OrderedStatistic(items_base=frozenset({'Privada'}), items_add=frozenset({'Seleção Geral Graduação (SiSU) (Inativa)', 'Branca'}), confidence=0.6428571428571428, lift=2.25), OrderedStatistic(items_base=frozenset({'Seleção Geral Graduação (SiSU) (Inativa)'}), items_add=frozenset({'Privada', 'Branca'}), confidence=0.6428571428571428, lift=2.25), OrderedStatistic(items_base=frozenset({'Privada', 'Branca'}), items_add=frozenset({'Seleção Geral Graduação (SiSU) (Inativa)'}), confidence=0.8999999999999999, lift=2.2499999999999996), OrderedStatistic(items_base=frozenset({'Seleção Geral Graduação (SiSU) (Inativa)', 'Branca'}), items_add=frozenset({'Privada'}), confidence=0.8999999999999999, lift=2.2499999999999996)]),\n",
       " RelationRecord(items=frozenset({'Seleção Geral Graduação (SiSU) (Inativa)', 'Privada', 'M'}), support=0.37142857142857144, ordered_statistics=[OrderedStatistic(items_base=frozenset({'Privada'}), items_add=frozenset({'Seleção Geral Graduação (SiSU) (Inativa)', 'M'}), confidence=0.9285714285714286, lift=2.321428571428571), OrderedStatistic(items_base=frozenset({'Seleção Geral Graduação (SiSU) (Inativa)'}), items_add=frozenset({'Privada', 'M'}), confidence=0.9285714285714286, lift=2.321428571428571), OrderedStatistic(items_base=frozenset({'Privada', 'M'}), items_add=frozenset({'Seleção Geral Graduação (SiSU) (Inativa)'}), confidence=0.9285714285714286, lift=2.321428571428571), OrderedStatistic(items_base=frozenset({'Seleção Geral Graduação (SiSU) (Inativa)', 'M'}), items_add=frozenset({'Privada'}), confidence=0.9285714285714286, lift=2.321428571428571)]),\n",
       " RelationRecord(items=frozenset({'SP', 'Privada', 'Seleção Geral Graduação (SiSU) (Inativa)'}), support=0.34285714285714286, ordered_statistics=[OrderedStatistic(items_base=frozenset({'Privada'}), items_add=frozenset({'SP', 'Seleção Geral Graduação (SiSU) (Inativa)'}), confidence=0.8571428571428571, lift=2.3076923076923075), OrderedStatistic(items_base=frozenset({'Seleção Geral Graduação (SiSU) (Inativa)'}), items_add=frozenset({'SP', 'Privada'}), confidence=0.8571428571428571, lift=2.3076923076923075), OrderedStatistic(items_base=frozenset({'SP', 'Privada'}), items_add=frozenset({'Seleção Geral Graduação (SiSU) (Inativa)'}), confidence=0.923076923076923, lift=2.3076923076923075), OrderedStatistic(items_base=frozenset({'SP', 'Seleção Geral Graduação (SiSU) (Inativa)'}), items_add=frozenset({'Privada'}), confidence=0.923076923076923, lift=2.3076923076923075)]),\n",
       " RelationRecord(items=frozenset({'Seleção Geral Graduação (SiSU) (Inativa)', 'Privada', 'Branca', 'M'}), support=0.2571428571428571, ordered_statistics=[OrderedStatistic(items_base=frozenset({'Privada'}), items_add=frozenset({'Seleção Geral Graduação (SiSU) (Inativa)', 'Branca', 'M'}), confidence=0.6428571428571428, lift=2.25), OrderedStatistic(items_base=frozenset({'Seleção Geral Graduação (SiSU) (Inativa)'}), items_add=frozenset({'Privada', 'Branca', 'M'}), confidence=0.6428571428571428, lift=2.25), OrderedStatistic(items_base=frozenset({'Privada', 'Branca'}), items_add=frozenset({'Seleção Geral Graduação (SiSU) (Inativa)', 'M'}), confidence=0.8999999999999999, lift=2.2499999999999996), OrderedStatistic(items_base=frozenset({'Seleção Geral Graduação (SiSU) (Inativa)', 'Branca'}), items_add=frozenset({'Privada', 'M'}), confidence=0.8999999999999999, lift=2.2499999999999996), OrderedStatistic(items_base=frozenset({'Privada', 'M'}), items_add=frozenset({'Seleção Geral Graduação (SiSU) (Inativa)', 'Branca'}), confidence=0.6428571428571428, lift=2.25), OrderedStatistic(items_base=frozenset({'Seleção Geral Graduação (SiSU) (Inativa)', 'M'}), items_add=frozenset({'Privada', 'Branca'}), confidence=0.6428571428571428, lift=2.25), OrderedStatistic(items_base=frozenset({'Privada', 'Branca', 'M'}), items_add=frozenset({'Seleção Geral Graduação (SiSU) (Inativa)'}), confidence=0.8999999999999999, lift=2.2499999999999996), OrderedStatistic(items_base=frozenset({'Seleção Geral Graduação (SiSU) (Inativa)', 'Branca', 'M'}), items_add=frozenset({'Privada'}), confidence=0.8999999999999999, lift=2.2499999999999996)]),\n",
       " RelationRecord(items=frozenset({'SP', 'Privada', 'M', 'Seleção Geral Graduação (SiSU) (Inativa)'}), support=0.34285714285714286, ordered_statistics=[OrderedStatistic(items_base=frozenset({'Privada'}), items_add=frozenset({'SP', 'M', 'Seleção Geral Graduação (SiSU) (Inativa)'}), confidence=0.8571428571428571, lift=2.3076923076923075), OrderedStatistic(items_base=frozenset({'Seleção Geral Graduação (SiSU) (Inativa)'}), items_add=frozenset({'SP', 'Privada', 'M'}), confidence=0.8571428571428571, lift=2.3076923076923075), OrderedStatistic(items_base=frozenset({'Privada', 'M'}), items_add=frozenset({'SP', 'Seleção Geral Graduação (SiSU) (Inativa)'}), confidence=0.8571428571428571, lift=2.3076923076923075), OrderedStatistic(items_base=frozenset({'Seleção Geral Graduação (SiSU) (Inativa)', 'M'}), items_add=frozenset({'SP', 'Privada'}), confidence=0.8571428571428571, lift=2.3076923076923075), OrderedStatistic(items_base=frozenset({'SP', 'Privada'}), items_add=frozenset({'Seleção Geral Graduação (SiSU) (Inativa)', 'M'}), confidence=0.923076923076923, lift=2.3076923076923075), OrderedStatistic(items_base=frozenset({'SP', 'Seleção Geral Graduação (SiSU) (Inativa)'}), items_add=frozenset({'Privada', 'M'}), confidence=0.923076923076923, lift=2.3076923076923075), OrderedStatistic(items_base=frozenset({'SP', 'Privada', 'M'}), items_add=frozenset({'Seleção Geral Graduação (SiSU) (Inativa)'}), confidence=0.923076923076923, lift=2.3076923076923075), OrderedStatistic(items_base=frozenset({'SP', 'M', 'Seleção Geral Graduação (SiSU) (Inativa)'}), items_add=frozenset({'Privada'}), confidence=0.923076923076923, lift=2.3076923076923075)])]"
      ]
     },
     "execution_count": 259,
     "metadata": {},
     "output_type": "execute_result"
    }
   ],
   "source": [
    "resultados"
   ]
  },
  {
   "cell_type": "code",
   "execution_count": 223,
   "metadata": {
    "tags": []
   },
   "outputs": [],
   "source": [
    "# Alunos formados do bacharelado\n",
    "dados_Form = dados.loc[dados['Situação no Curso'] == 'Formado']\n",
    "dados_Form = dados_Form.drop([\"Situação no Curso\",\"Deficiência\",\"Nacionalidade\",\"Descrição do Curso\"],axis = 1)"
   ]
  },
  {
   "cell_type": "code",
   "execution_count": 238,
   "metadata": {
    "tags": []
   },
   "outputs": [],
   "source": [
    "dados_Form = dados_Form.drop([\"Modalidade\"],axis = 1)"
   ]
  },
  {
   "cell_type": "code",
   "execution_count": 239,
   "metadata": {
    "tags": []
   },
   "outputs": [],
   "source": [
    "Lista = []\n",
    "for i in range(len(dados_Form)):\n",
    "  #print(i)\n",
    "  #print(base_mercado1.values[i, 0])\n",
    "  Lista.append([str(dados_Form.values[i, j]) for j in range(dados_Form.shape[1])])"
   ]
  },
  {
   "cell_type": "code",
   "execution_count": 241,
   "metadata": {
    "tags": []
   },
   "outputs": [
    {
     "data": {
      "text/plain": [
       "6"
      ]
     },
     "execution_count": 241,
     "metadata": {},
     "output_type": "execute_result"
    }
   ],
   "source": [
    "regras = apriori(Lista, min_support = 0.12, min_confidence = 0.3, min_lift = 2)\n",
    "resultados = list(regras)\n",
    "len(resultados)"
   ]
  },
  {
   "cell_type": "code",
   "execution_count": 242,
   "metadata": {
    "tags": []
   },
   "outputs": [
    {
     "data": {
      "text/plain": [
       "[RelationRecord(items=frozenset({'Não declarado', '2013'}), support=0.13194444444444445, ordered_statistics=[OrderedStatistic(items_base=frozenset({'2013'}), items_add=frozenset({'Não declarado'}), confidence=0.6785714285714286, lift=2.5714285714285716), OrderedStatistic(items_base=frozenset({'Não declarado'}), items_add=frozenset({'2013'}), confidence=0.5, lift=2.571428571428571)]),\n",
       " RelationRecord(items=frozenset({'Não declarado', 'M', '2013'}), support=0.125, ordered_statistics=[OrderedStatistic(items_base=frozenset({'2013'}), items_add=frozenset({'Não declarado', 'M'}), confidence=0.6428571428571428, lift=2.644897959183673), OrderedStatistic(items_base=frozenset({'Não declarado'}), items_add=frozenset({'M', '2013'}), confidence=0.47368421052631576, lift=2.728421052631579), OrderedStatistic(items_base=frozenset({'M', '2013'}), items_add=frozenset({'Não declarado'}), confidence=0.72, lift=2.7284210526315786), OrderedStatistic(items_base=frozenset({'Não declarado', 'M'}), items_add=frozenset({'2013'}), confidence=0.5142857142857143, lift=2.6448979591836737)]),\n",
       " RelationRecord(items=frozenset({'SP', 'Não declarado', '2013'}), support=0.125, ordered_statistics=[OrderedStatistic(items_base=frozenset({'2013'}), items_add=frozenset({'SP', 'Não declarado'}), confidence=0.6428571428571428, lift=2.644897959183673), OrderedStatistic(items_base=frozenset({'Não declarado'}), items_add=frozenset({'SP', '2013'}), confidence=0.47368421052631576, lift=2.526315789473684), OrderedStatistic(items_base=frozenset({'SP', '2013'}), items_add=frozenset({'Não declarado'}), confidence=0.6666666666666666, lift=2.526315789473684), OrderedStatistic(items_base=frozenset({'SP', 'Não declarado'}), items_add=frozenset({'2013'}), confidence=0.5142857142857143, lift=2.6448979591836737)]),\n",
       " RelationRecord(items=frozenset({'Seleção Geral Graduação (SiSU) (Inativa)', 'Não declarado', '2013'}), support=0.13194444444444445, ordered_statistics=[OrderedStatistic(items_base=frozenset({'2013'}), items_add=frozenset({'Seleção Geral Graduação (SiSU) (Inativa)', 'Não declarado'}), confidence=0.6785714285714286, lift=2.961038961038961), OrderedStatistic(items_base=frozenset({'Não declarado'}), items_add=frozenset({'Seleção Geral Graduação (SiSU) (Inativa)', '2013'}), confidence=0.5, lift=3.130434782608696), OrderedStatistic(items_base=frozenset({'Seleção Geral Graduação (SiSU) (Inativa)', '2013'}), items_add=frozenset({'Não declarado'}), confidence=0.8260869565217392, lift=3.1304347826086962), OrderedStatistic(items_base=frozenset({'Seleção Geral Graduação (SiSU) (Inativa)', 'Não declarado'}), items_add=frozenset({'2013'}), confidence=0.5757575757575758, lift=2.961038961038961)]),\n",
       " RelationRecord(items=frozenset({'Seleção Geral Graduação (SiSU) (Inativa)', 'Não declarado', 'M', '2013'}), support=0.125, ordered_statistics=[OrderedStatistic(items_base=frozenset({'2013'}), items_add=frozenset({'Seleção Geral Graduação (SiSU) (Inativa)', 'Não declarado', 'M'}), confidence=0.6428571428571428, lift=2.9861751152073728), OrderedStatistic(items_base=frozenset({'Não declarado'}), items_add=frozenset({'Seleção Geral Graduação (SiSU) (Inativa)', 'M', '2013'}), confidence=0.47368421052631576, lift=3.2481203007518795), OrderedStatistic(items_base=frozenset({'M', '2013'}), items_add=frozenset({'Seleção Geral Graduação (SiSU) (Inativa)', 'Não declarado'}), confidence=0.72, lift=3.1418181818181816), OrderedStatistic(items_base=frozenset({'Seleção Geral Graduação (SiSU) (Inativa)', '2013'}), items_add=frozenset({'Não declarado', 'M'}), confidence=0.782608695652174, lift=3.2198757763975157), OrderedStatistic(items_base=frozenset({'Não declarado', 'M'}), items_add=frozenset({'Seleção Geral Graduação (SiSU) (Inativa)', '2013'}), confidence=0.5142857142857143, lift=3.219875776397516), OrderedStatistic(items_base=frozenset({'Seleção Geral Graduação (SiSU) (Inativa)', 'Não declarado'}), items_add=frozenset({'M', '2013'}), confidence=0.5454545454545455, lift=3.1418181818181825), OrderedStatistic(items_base=frozenset({'Seleção Geral Graduação (SiSU) (Inativa)', 'M', '2013'}), items_add=frozenset({'Não declarado'}), confidence=0.8571428571428571, lift=3.2481203007518795), OrderedStatistic(items_base=frozenset({'Seleção Geral Graduação (SiSU) (Inativa)', 'Não declarado', 'M'}), items_add=frozenset({'2013'}), confidence=0.5806451612903225, lift=2.9861751152073728)]),\n",
       " RelationRecord(items=frozenset({'SP', 'Não declarado', 'Seleção Geral Graduação (SiSU) (Inativa)', '2013'}), support=0.125, ordered_statistics=[OrderedStatistic(items_base=frozenset({'2013'}), items_add=frozenset({'SP', 'Não declarado', 'Seleção Geral Graduação (SiSU) (Inativa)'}), confidence=0.6428571428571428, lift=3.0857142857142854), OrderedStatistic(items_base=frozenset({'Não declarado'}), items_add=frozenset({'SP', 'Seleção Geral Graduação (SiSU) (Inativa)', '2013'}), confidence=0.47368421052631576, lift=3.1004784688995213), OrderedStatistic(items_base=frozenset({'SP', '2013'}), items_add=frozenset({'Seleção Geral Graduação (SiSU) (Inativa)', 'Não declarado'}), confidence=0.6666666666666666, lift=2.909090909090909), OrderedStatistic(items_base=frozenset({'Seleção Geral Graduação (SiSU) (Inativa)', '2013'}), items_add=frozenset({'SP', 'Não declarado'}), confidence=0.782608695652174, lift=3.2198757763975157), OrderedStatistic(items_base=frozenset({'SP', 'Não declarado'}), items_add=frozenset({'Seleção Geral Graduação (SiSU) (Inativa)', '2013'}), confidence=0.5142857142857143, lift=3.219875776397516), OrderedStatistic(items_base=frozenset({'Seleção Geral Graduação (SiSU) (Inativa)', 'Não declarado'}), items_add=frozenset({'SP', '2013'}), confidence=0.5454545454545455, lift=2.9090909090909096), OrderedStatistic(items_base=frozenset({'SP', 'Seleção Geral Graduação (SiSU) (Inativa)', '2013'}), items_add=frozenset({'Não declarado'}), confidence=0.8181818181818181, lift=3.1004784688995213), OrderedStatistic(items_base=frozenset({'SP', 'Não declarado', 'Seleção Geral Graduação (SiSU) (Inativa)'}), items_add=frozenset({'2013'}), confidence=0.6, lift=3.0857142857142854)])]"
      ]
     },
     "execution_count": 242,
     "metadata": {},
     "output_type": "execute_result"
    }
   ],
   "source": [
    "resultados"
   ]
  }
 ],
 "metadata": {
  "colab": {
   "provenance": []
  },
  "kernelspec": {
   "display_name": "Python 3 (ipykernel)",
   "language": "python",
   "name": "python3"
  },
  "language_info": {
   "codemirror_mode": {
    "name": "ipython",
    "version": 3
   },
   "file_extension": ".py",
   "mimetype": "text/x-python",
   "name": "python",
   "nbconvert_exporter": "python",
   "pygments_lexer": "ipython3",
   "version": "3.11.3"
  }
 },
 "nbformat": 4,
 "nbformat_minor": 4
}
